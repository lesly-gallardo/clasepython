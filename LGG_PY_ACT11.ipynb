{
  "nbformat": 4,
  "nbformat_minor": 0,
  "metadata": {
    "colab": {
      "provenance": [],
      "include_colab_link": true
    },
    "kernelspec": {
      "name": "python3",
      "display_name": "Python 3"
    },
    "language_info": {
      "name": "python"
    }
  },
  "cells": [
    {
      "cell_type": "markdown",
      "metadata": {
        "id": "view-in-github",
        "colab_type": "text"
      },
      "source": [
        "<a href=\"https://colab.research.google.com/github/lesly-gallardo/clasepython/blob/main/LGG_PY_ACT11.ipynb\" target=\"_parent\"><img src=\"https://colab.research.google.com/assets/colab-badge.svg\" alt=\"Open In Colab\"/></a>"
      ]
    },
    {
      "cell_type": "markdown",
      "source": [
        "#ACTIVIDAD 11\n",
        "\n",
        "NOMBRE:  LESLY GALLARDO GONZALEZ\n",
        "\n",
        "MATRICULA:  370027\n",
        "\n",
        "FECHA: 3-JUNIO-2024"
      ],
      "metadata": {
        "id": "SjX1vrJCYHJ7"
      }
    },
    {
      "cell_type": "markdown",
      "source": [
        "\n",
        "MENU\n",
        "\n",
        "1.- Agregar (automatico 10)\n",
        "\n",
        "2.- Eliminar {ID}\n",
        "\n",
        "3.- Imprimir lista (tabla)\n",
        "\n",
        "4.- Buscar {ID}\n",
        "\n",
        "5.- Buscar {appat} todas las coincidencias\n",
        "\n",
        "6.- Ordenar {ID}\n",
        "\n",
        "7.- Generar archivo {ID} (preguntar nombre del archivo)\n",
        "\n",
        "   a) excel\n",
        "\n",
        " b) txt\n",
        "\n",
        " c) cvs\n",
        "\n",
        " d) MarkDown\n",
        "\n",
        "8.- Cargar archivo {ID}\n",
        "\n",
        "9.- Imprimir archivo {ID}\n",
        "\n",
        "10.- Borrar Toda la lista {ID}\n",
        "\n",
        "0.- SALIR"
      ],
      "metadata": {
        "id": "elIxQXunDH9X"
      }
    },
    {
      "cell_type": "code",
      "source": [
        "!pip install openpyxl markdown tabulate"
      ],
      "metadata": {
        "colab": {
          "base_uri": "https://localhost:8080/"
        },
        "id": "qYr2KyM0dOM-",
        "outputId": "2ec8c5da-28f9-4aa8-dfe7-82fd02b3b36e"
      },
      "execution_count": 1,
      "outputs": [
        {
          "output_type": "stream",
          "name": "stdout",
          "text": [
            "Requirement already satisfied: openpyxl in /usr/local/lib/python3.10/dist-packages (3.1.3)\n",
            "Requirement already satisfied: markdown in /usr/local/lib/python3.10/dist-packages (3.6)\n",
            "Requirement already satisfied: tabulate in /usr/local/lib/python3.10/dist-packages (0.9.0)\n",
            "Requirement already satisfied: et-xmlfile in /usr/local/lib/python3.10/dist-packages (from openpyxl) (1.1.0)\n"
          ]
        }
      ]
    },
    {
      "cell_type": "code",
      "execution_count": 2,
      "metadata": {
        "id": "1n0QVojMDCEy"
      },
      "outputs": [],
      "source": [
        "import pandas as pd\n",
        "import csv\n",
        "import openpyxl\n",
        "import markdown\n",
        "import random\n",
        "from tabulate import tabulate\n",
        "from random import randint\n",
        "from random import choice\n",
        "from IPython.display import clear_output"
      ]
    },
    {
      "cell_type": "code",
      "source": [
        "reg_lista = []"
      ],
      "metadata": {
        "id": "qpK1YQMZTXuz"
      },
      "execution_count": 3,
      "outputs": []
    },
    {
      "cell_type": "code",
      "source": [
        "def limpiar_pantalla ():\n",
        "    clear_output (wait = True)"
      ],
      "metadata": {
        "id": "sBSNSX3CO0yD"
      },
      "execution_count": 4,
      "outputs": []
    },
    {
      "cell_type": "code",
      "source": [
        "def vali_txt (texto):\n",
        "    caracter = str\n",
        "    if all(caracter.isalpha() or caracter.isspace() for caracter in texto):\n",
        "        return 1\n",
        "    else:\n",
        "        limpiar_pantalla ()\n",
        "        print(\"\\nNumeros no permitidos...\\n\")\n",
        "        return 0"
      ],
      "metadata": {
        "id": "LmqfhkIyguB3"
      },
      "execution_count": 5,
      "outputs": []
    },
    {
      "cell_type": "code",
      "source": [
        "def vali_rang (num, rangi, rangfi):\n",
        "    if num < rangi or num > rangfi:\n",
        "        limpiar_pantalla ()\n",
        "        print(\"\\nIngrese un numero dentro del rango permitido...\\n\")\n",
        "        return 0\n",
        "    else:\n",
        "        return 1"
      ],
      "metadata": {
        "id": "wcVm38TFanyd"
      },
      "execution_count": 6,
      "outputs": []
    },
    {
      "cell_type": "code",
      "source": [
        "def reg_auto ():\n",
        "\n",
        "    id_rand = random.randint (300000, 399999)\n",
        "    id = id_rand\n",
        "\n",
        "    n_hombre = random.choice ([\"RAUL\", \"ARAM\", \"FERNANDO\", \"ELIAN\", \"ARTURO\", \"PEDRO\", \"ANTONIO\", \"DIEGO\", \"GOKU\", \"KEVIN\", \"BRAYAN\", \"ANDRES\", \"URIEL\", \"ISAAC\", \"VICTOR\", \"LUIS\", \"ABRAHAM\", \"ERICK\", \"ANGEL\", \"ROBERTO\" ])\n",
        "    n_mujer = random.choice ([\"MARIANA\", \"MARIA\", \"ANTONIA\", \"RUBY\", \"ESMERALDA\", \"PERLA\", \"REGINA\", \"ANA\", \"ANEL\", \"CELESTE\", \"AZUL\", \"ROSA\", \"DINA\", \"DIANA\", \"DANNA\", \"DAYANA\", \"NAHOMI\", \"NAYELI\", \"NATALIA\"])\n",
        "\n",
        "    nombre = random.choice ([n_hombre, n_mujer])\n",
        "\n",
        "    ap_pat = random.choice([\"VAZQUEZ\", \"VASQUEZ\", \"VELASQUEZ\", \"DE LA TORRE\", \"CARRASCO\", \"LOPEZ\", \"TABOADA\", \"DE LA CRUZ\", \"FIGUEROA\", \"VANDERAS\", \"SANCHEZ\", \"CERVANTES\", \"BARRAGAN\", \"TORRES\", \"ENRIQUEZ\", \"LLAMAS\", \"DE LEON\", \"MARTINEZ\", \"GONZALEZ\", \"VILLALOBOS\"])\n",
        "    ap_mat = random.choice([\"VAZQUEZ\", \"VASQUEZ\", \"VELASQUEZ\", \"DE LA TORRE\", \"CARRASCO\", \"LOPEZ\", \"TABOADA\", \"DE LA CRUZ\", \"FIGUEROA\", \"VANDERAS\", \"SANCHEZ\", \"CERVANTES\", \"BARRAGAN\", \"TORRES\", \"ENRIQUEZ\", \"LLAMAS\", \"DE LEON\", \"MARTINEZ\", \"GONZALEZ\", \"VILLALOBOS\"])\n",
        "\n",
        "    edad_rand = random.randint (18, 60)\n",
        "    edad = edad_rand\n",
        "\n",
        "    if nombre == n_hombre:\n",
        "        sexo = \"HOMBRE\"\n",
        "    else:\n",
        "        sexo = \"MUJER\"\n",
        "\n",
        "    reg_empl = {\"ID\":id, \"Nombre\":nombre, \"Apellido Paterno\":ap_pat, \"Apellido Materno\":ap_mat, \"Edad\":edad, \"Genero\":sexo}\n",
        "\n",
        "    if None in reg_empl.values():\n",
        "        return None\n",
        "    else:\n",
        "        return reg_empl"
      ],
      "metadata": {
        "id": "mVeqInUEN8Xx"
      },
      "execution_count": 7,
      "outputs": []
    },
    {
      "cell_type": "code",
      "source": [
        "def almacena_regs (regs):\n",
        "    global reg_lista\n",
        "    reg_lista.append (regs)\n",
        "    return reg_lista"
      ],
      "metadata": {
        "id": "pR0vDx7lOfsK"
      },
      "execution_count": 8,
      "outputs": []
    },
    {
      "cell_type": "code",
      "source": [
        "def elimina_reg ():\n",
        "    global reg_lista\n",
        "    prueba = 0\n",
        "\n",
        "    if reg_lista:\n",
        "        while prueba == 0:\n",
        "            while True:\n",
        "                try:\n",
        "                    id_buscar = int(input(\"Ingrese la ID del registro a eliminar (6 digitos del: 300000 al 399999): \"))\n",
        "                except:\n",
        "                    limpiar_pantalla ()\n",
        "                    print(\"\\nIngrese un valor numerico...\\n\")\n",
        "                else:\n",
        "                    prueba = vali_rang (id_buscar, 300000, 399999)\n",
        "                    break\n",
        "        prueba = 0\n",
        "\n",
        "        reg_encontrado = None\n",
        "        for registro in reg_lista:\n",
        "            if registro.get(\"ID\") == id_buscar:\n",
        "                reg_encontrado = registro\n",
        "                break\n",
        "        if reg_encontrado:\n",
        "            indice = reg_lista.index(reg_encontrado)\n",
        "            print(f\"\\nRegistro encontrado en la posicion: {indice}\\n\")\n",
        "            print(reg_encontrado)\n",
        "            print(\"\\n\")\n",
        "\n",
        "            while prueba == 0:\n",
        "                while True:\n",
        "                    try:\n",
        "                        opc = int(input(\"Seguro que desea eliminar el registro ? \\n1.-SI \\n2.-NO \\n:\"))\n",
        "                    except:\n",
        "                        limpiar_pantalla()\n",
        "                        print(\"Solamente ingrese numeros\")\n",
        "                    else:\n",
        "                        prueba = vali_rang (opc,1,2)\n",
        "                        break\n",
        "            prueba = 0\n",
        "\n",
        "            if opc == 1:\n",
        "                del reg_lista[indice]\n",
        "                limpiar_pantalla ()\n",
        "                print(\"\\nRegistro ELIMINADO...\\n\")\n",
        "            if opc == 2:\n",
        "                limpiar_pantalla ()\n",
        "                print(\"\\nEliminacion CANCELADA...\\n\")\n",
        "        else:\n",
        "            print(\"\\nNo existe ningun registro con esa matricula...\\n\")\n",
        "    else:\n",
        "        print(\"\\nNo hay registros almacenados...\\n\")"
      ],
      "metadata": {
        "id": "fTEclUBTPUyC"
      },
      "execution_count": 9,
      "outputs": []
    },
    {
      "cell_type": "code",
      "source": [
        "def imprime_regs (reg_lista):\n",
        "    if not reg_lista:\n",
        "        print(\"\\nNo hay registros almacenados...\\n\")\n",
        "    else:\n",
        "        try:\n",
        "            salida = pd.DataFrame(reg_lista)\n",
        "            print(salida)\n",
        "        except Exception as e:\n",
        "            print(f\"\\nError al imprimir registros {e}\\n\")"
      ],
      "metadata": {
        "id": "lFtWeuKJPE9U"
      },
      "execution_count": 10,
      "outputs": []
    },
    {
      "cell_type": "code",
      "source": [
        "def busca_reg ():\n",
        "    global reg_lista\n",
        "    prueba = 0\n",
        "\n",
        "    if reg_lista:\n",
        "        while prueba == 0:\n",
        "            while True:\n",
        "                try:\n",
        "                    id_buscar = int(input(\"Ingrese la ID del registro a buscar (6 digitos del: 300000 al 399999): \"))\n",
        "                except:\n",
        "                    limpiar_pantalla ()\n",
        "                    print(\"\\nIngrese un valor numerico...\\n\")\n",
        "                else:\n",
        "                    prueba = vali_rang (id_buscar, 300000, 399999)\n",
        "                    break\n",
        "\n",
        "        reg_encontrado = None\n",
        "        for registro in reg_lista:\n",
        "            if registro.get(\"ID\") == id_buscar:\n",
        "                reg_encontrado = registro\n",
        "                break\n",
        "\n",
        "        if reg_encontrado:\n",
        "            indice = reg_lista.index(reg_encontrado)\n",
        "            print(f\"\\nRegistro encontrado en la posicion: {indice}\\n\")\n",
        "            print(reg_encontrado)\n",
        "            print(\"\\n\")\n",
        "\n",
        "        else:\n",
        "            print(\"\\nNo existe un registro con esa matricula...\\n\")\n",
        "    else:\n",
        "        print(\"\\nNo hay registros almacenados...\\n\")"
      ],
      "metadata": {
        "id": "XXXN7p1gQDcI"
      },
      "execution_count": 11,
      "outputs": []
    },
    {
      "cell_type": "code",
      "source": [
        "def busca_coin ():\n",
        "    global reg_lista\n",
        "    regs_encontrados = []\n",
        "    prueba = 0\n",
        "\n",
        "    if reg_lista:\n",
        "        while prueba == 0:\n",
        "            ap = str(input(\"Ingrese el apellido a buscar (EN MAYUSCULAS): \"))\n",
        "            prueba = vali_txt (ap)\n",
        "        apellido = ap.upper ()\n",
        "\n",
        "        regs_encontrados = [registro for registro in reg_lista if registro.get (\"Apellido Paterno\") == apellido]\n",
        "\n",
        "        if regs_encontrados:\n",
        "            print(f\"Se encontraron {len(regs_encontrados)} registros con el apellido '{ap}':\\n\")\n",
        "            for reg_encontrado in regs_encontrados:\n",
        "                indice = reg_lista.index(reg_encontrado)  # Obtener el índice real del registro\n",
        "                print(f\"Registro en la posición {indice}:\\n{reg_encontrado}\\n\")\n",
        "        else:\n",
        "            print(f\"\\nEl apellido {apellido} no esta registrado...\\n\")\n",
        "    else:\n",
        "        print(\"\\nNo hay registros almacenados...\\n\")"
      ],
      "metadata": {
        "id": "tsA68AD5QNiX"
      },
      "execution_count": 12,
      "outputs": []
    },
    {
      "cell_type": "code",
      "source": [
        "def ordenar_lista (lista):\n",
        "    lista.sort(key = lambda x: x.get(\"ID\"))"
      ],
      "metadata": {
        "id": "ke1cdi7xQWhY"
      },
      "execution_count": 13,
      "outputs": []
    },
    {
      "cell_type": "code",
      "source": [
        "def gen_arch ():\n",
        "    global reg_lista\n",
        "    prueba = 0\n",
        "    if reg_lista:\n",
        "        while prueba == 0:\n",
        "            nom_arch = str(input(\"\\nIngrese el nombre de su archivo: \"))\n",
        "            prueba = vali_txt (nom_arch)\n",
        "\n",
        "        prueba = 0\n",
        "        while True:\n",
        "            try:\n",
        "                opc = int(input(\"\\nIngrese el tipo de archivo a generar: \\n1.-TEXTO \\n2.-CSV \\n3.-EXCEL \\n4.-MARKDOWN\\n: \"))\n",
        "            except:\n",
        "                print(\"\\nIngrese solamente numeros...\")\n",
        "            else:\n",
        "                prueba = vali_rang (opc, 1, 4)\n",
        "                break\n",
        "\n",
        "        if opc == 1:\n",
        "            with open (f\"{nom_arch}.txt\", 'w') as f: #archivo txt\n",
        "                for registro in reg_lista:\n",
        "                    f.write (str(registro) + '\\n')\n",
        "\n",
        "        elif opc == 2:\n",
        "            with open (f\"{nom_arch}.csv\", 'w', newline = '') as f: #archivo cvs\n",
        "                writer = csv.DictWriter(f, fieldnames=reg_lista[0].keys())\n",
        "                writer.writeheader()\n",
        "                writer.writerows(reg_lista)\n",
        "\n",
        "        elif opc == 3:\n",
        "            arch_ex = pd.DataFrame (reg_lista) #archivo excel\n",
        "            arch_ex.to_excel (f\"{nom_arch}.xlsx\", index=False)\n",
        "\n",
        "        elif opc == 4:\n",
        "            with open (f\"{nom_arch}.md\", 'w') as f: #archivo markdown\n",
        "                for registro in reg_lista:\n",
        "                    f.write (f\"ID: {registro['ID']}, NOMBRE: {registro['Nombre']}, APPAT: {registro['Apellido Paterno']}, APMAT: {registro['Apellido Materno']}, EDAD: {registro['Edad']}, GENERO: {registro['Genero']}\")\n",
        "\n",
        "        print(\"\\nSe ha generado el archivo correctamente...\\n\")\n",
        "\n",
        "    else:\n",
        "        print(\"\\nLa lista de registros esta vacia...\\n\")"
      ],
      "metadata": {
        "id": "-CGdGarCQrVY"
      },
      "execution_count": 14,
      "outputs": []
    },
    {
      "cell_type": "code",
      "source": [
        "def cargar_txt(nom_arch):\n",
        "    try:\n",
        "        with open(f\"{nom_arch}.txt\", 'r') as f:\n",
        "            contenido = f.read()\n",
        "        return contenido\n",
        "    except FileNotFoundError:\n",
        "        print(\"El archivo no se encontró.\")\n",
        "        return []"
      ],
      "metadata": {
        "id": "3k7suR6ffKZH"
      },
      "execution_count": 15,
      "outputs": []
    },
    {
      "cell_type": "code",
      "source": [
        "def cargar_csv(nom_arch):\n",
        "    try:\n",
        "        with open(f\"{nom_arch}.csv\", 'r') as f:\n",
        "            reader = csv.reader(f)\n",
        "            contenido = list(reader)\n",
        "        return contenido\n",
        "    except FileNotFoundError:\n",
        "        print(\"El archivo no se encontró.\")\n",
        "        return []"
      ],
      "metadata": {
        "id": "jpvxEf7OfKo4"
      },
      "execution_count": 16,
      "outputs": []
    },
    {
      "cell_type": "code",
      "source": [
        "def cargar_excel(nom_arch):\n",
        "    try:\n",
        "        contenido = pd.read_excel(f\"{nom_arch}.xlsx\")\n",
        "        return contenido\n",
        "    except FileNotFoundError:\n",
        "        print(\"El archivo no se encontró.\")\n",
        "        return None"
      ],
      "metadata": {
        "id": "nXnHvKU3fK4I"
      },
      "execution_count": 17,
      "outputs": []
    },
    {
      "cell_type": "code",
      "source": [
        "def cargar_md(nom_arch):\n",
        "    try:\n",
        "        with open(f\"{nom_arch}.md\", 'r') as f:\n",
        "            contenido = f.readlines()\n",
        "        return contenido\n",
        "    except FileNotFoundError:\n",
        "        print(\"El archivo no se encontró.\")\n",
        "        return []"
      ],
      "metadata": {
        "id": "-GHRvnVtfLEJ"
      },
      "execution_count": 18,
      "outputs": []
    },
    {
      "cell_type": "code",
      "source": [
        "def carg_arch ():\n",
        "    global reg_lista\n",
        "    if reg_lista:\n",
        "        prueba = 0\n",
        "        while prueba == 0:\n",
        "            while True:\n",
        "                try:\n",
        "                    opc = int(input(\"\\nIngrese el tipo de archivo a cargar (abrir) \\n1.-TEXTO \\n2.-CSV \\n3.-EXCEL \\n4.-MARKDOWN \\n: \"))\n",
        "                except:\n",
        "                    print(\"\\nIngrese solamente numeros...\\n\")\n",
        "                else:\n",
        "                    prueba = vali_rang (opc, 1, 4)\n",
        "                    break;\n",
        "        prueba = 0\n",
        "        while prueba == 0:\n",
        "            nom = str(input(\"\\nIngrese el nombre del archivo a cargar (archivo previamente generado): \"))\n",
        "            prueba = vali_txt (nom)\n",
        "\n",
        "        if opc == 1:\n",
        "            archivo = cargar_txt (nom)\n",
        "            print(\"\\nDatos cargados en el archivo...\\n\")\n",
        "            print(archivo)\n",
        "\n",
        "        elif opc == 2:\n",
        "            archivo = cargar_csv (nom)\n",
        "            print(\"\\nDatos cargados en el archivo...\\n\")\n",
        "            print(archivo)\n",
        "\n",
        "        elif opc == 3:\n",
        "            archivo = cargar_excel (nom)\n",
        "            print(\"\\nDatos cargados en el archivo...\\n\")\n",
        "            print(archivo)\n",
        "\n",
        "        elif opc == 4:\n",
        "            archivo = cargar_md (nom)\n",
        "            print(\"\\nDatos cargados en en el archivo...\\n\")\n",
        "            print(archivo)\n",
        "    else:\n",
        "        print(\"\\nLa lista de registros esta vacia...\\n\")"
      ],
      "metadata": {
        "id": "x8VtQVbXQ3xh"
      },
      "execution_count": 19,
      "outputs": []
    },
    {
      "cell_type": "code",
      "source": [
        "def imprimir_arch ():\n",
        "    global reg_lista\n",
        "    if reg_lista:\n",
        "        prueba = 0\n",
        "        while prueba == 0:\n",
        "            while True:\n",
        "                try:\n",
        "                    opc = int(input(\"\\nIngrese el tipo de archivo a imprimir en consola \\n1.-TEXTO \\n2.-CSV \\n3.-EXCEL \\n4.-MARKDOWN \\n: \"))\n",
        "                except:\n",
        "                    print(\"\\nIngrese solamente numeros...\\n\")\n",
        "                else:\n",
        "                    prueba = vali_rang (opc, 1, 4)\n",
        "                    break;\n",
        "        prueba = 0\n",
        "        while prueba == 0:\n",
        "            nom = str(input(\"\\nIngrese el nombre del archivo a cargar (archivo previamente generado): \\n\"))\n",
        "            prueba = vali_txt (nom)\n",
        "\n",
        "        if opc == 1:\n",
        "             with open(f\"{nom}.txt\", \"r\") as archivo:\n",
        "                contenido = archivo.readlines()\n",
        "                print(contenido)\n",
        "\n",
        "        elif opc == 2:\n",
        "            with open(f\"{nom}.csv\", newline='') as archivo_csv:\n",
        "                lector_csv = csv.reader(archivo_csv)\n",
        "                print(lector_csv)\n",
        "\n",
        "        elif opc == 3:\n",
        "            archivo_excel = openpyxl.load_workbook(f\"{nom}.xlsx\")\n",
        "            hoja = archivo_excel.active\n",
        "            datos = [[celda.value for celda in fila] for fila in hoja.iter_rows()]\n",
        "            print(tabulate(datos, headers=\"firstrow\", tablefmt=\"grid\"))\n",
        "\n",
        "        elif opc == 4:\n",
        "            with open(f\"{nom}.md\", \"r\") as archivo_md:\n",
        "                contenido_md = archivo_md.read()\n",
        "                print(contenido_md)\n",
        "    else:\n",
        "        print(\"\\nLa lista de registros esta vacia...\\n\")"
      ],
      "metadata": {
        "id": "_yIzrK6LQ7x2"
      },
      "execution_count": 20,
      "outputs": []
    },
    {
      "cell_type": "code",
      "source": [
        "def elimina_all_regs ():\n",
        "    global reg_lista\n",
        "    prueba = 0\n",
        "    if reg_lista:\n",
        "        while prueba == 0:\n",
        "            while True:\n",
        "                try:\n",
        "                    opc = int(input(\"Desea vaciar la lista TOTALMENTE? \\n1.-SI \\n2.-NO \\n:\"))\n",
        "                except:\n",
        "                    limpiar_pantalla()\n",
        "                    print(\"\\nIngrese solamente datos numericos...\\n\")\n",
        "                else:\n",
        "                    prueba = vali_rang (opc, 1, 2)\n",
        "                    break\n",
        "                    prueba == 0\n",
        "\n",
        "        if opc == 1:\n",
        "            limpiar_pantalla ()\n",
        "            reg_lista.clear ()\n",
        "            print(\"\\nTodos los registros han sido ELIMINADOS...\\n\")\n",
        "        if opc == 2:\n",
        "            limpiar_pantalla ()\n",
        "            print(\"\\nEliminacion CANCELADA...\\n\")\n",
        "    else:\n",
        "        limpiar_pantalla ()\n",
        "        print(\"\\nNo hay registros almacenados...\\n\")"
      ],
      "metadata": {
        "id": "bDH3PXVARBVL"
      },
      "execution_count": 21,
      "outputs": []
    },
    {
      "cell_type": "code",
      "source": [
        "def gen_reg_auto ():\n",
        "    for _ in range(10):\n",
        "        reg = reg_auto()\n",
        "        almacena_regs(reg)\n",
        "    print(\"\\nSe han agregado 10 registros...\\n\")"
      ],
      "metadata": {
        "id": "v-Y3_6nyUD0E"
      },
      "execution_count": 22,
      "outputs": []
    },
    {
      "cell_type": "code",
      "source": [
        "def eliminar_reg ():\n",
        "    elimina_reg ()"
      ],
      "metadata": {
        "id": "L4myZIgNXDap"
      },
      "execution_count": 23,
      "outputs": []
    },
    {
      "cell_type": "code",
      "source": [
        "def imprimir_regs ():\n",
        "    global reg_lista\n",
        "    imprime_regs (reg_lista)"
      ],
      "metadata": {
        "id": "2vL2P_cDXgOv"
      },
      "execution_count": 24,
      "outputs": []
    },
    {
      "cell_type": "code",
      "source": [
        "def buscar_reg ():\n",
        "    busca_reg()"
      ],
      "metadata": {
        "id": "mwFfeE0iaYl3"
      },
      "execution_count": 25,
      "outputs": []
    },
    {
      "cell_type": "code",
      "source": [
        "def buscar_coins ():\n",
        "    busca_coin ()"
      ],
      "metadata": {
        "id": "-cFdgjhlm9Zd"
      },
      "execution_count": 26,
      "outputs": []
    },
    {
      "cell_type": "code",
      "source": [
        "def ordenar_regs ():\n",
        "    global reg_lista\n",
        "    if reg_lista:\n",
        "        ordenar_lista (reg_lista)\n",
        "        limpiar_pantalla ()\n",
        "        print(\"\\nSe ha ordenado la lista de registros\\n\")\n",
        "    else:\n",
        "        limpiar_pantalla ()\n",
        "        print(\"\\nNo hay registros almacenados en la lista...\\n\")"
      ],
      "metadata": {
        "id": "ODXjGh76bMkz"
      },
      "execution_count": 27,
      "outputs": []
    },
    {
      "cell_type": "code",
      "source": [
        "def genera_archs ():\n",
        "    gen_arch ()"
      ],
      "metadata": {
        "id": "yEar75k5eXyd"
      },
      "execution_count": 28,
      "outputs": []
    },
    {
      "cell_type": "code",
      "source": [
        "def cargar_archs ():\n",
        "    carg_arch ()"
      ],
      "metadata": {
        "id": "k04k4__Pei1H"
      },
      "execution_count": 29,
      "outputs": []
    },
    {
      "cell_type": "code",
      "source": [
        "def imprime_archs ():\n",
        "    imprimir_arch ()"
      ],
      "metadata": {
        "id": "wa7SLaZiyP4a"
      },
      "execution_count": 31,
      "outputs": []
    },
    {
      "cell_type": "code",
      "source": [
        "def eliminar_all_regs ():\n",
        "    elimina_all_regs ()"
      ],
      "metadata": {
        "id": "dWFbrlc4blg7"
      },
      "execution_count": 32,
      "outputs": []
    },
    {
      "cell_type": "markdown",
      "source": [
        "////////// MENU PRINCIPAL //////////"
      ],
      "metadata": {
        "id": "oEv77OJHRGlH"
      }
    },
    {
      "cell_type": "code",
      "source": [
        "opc = 1\n",
        "while opc != 0:\n",
        "    try:\n",
        "        print(\"\\n\")\n",
        "        print(\"//////////////// M E N U ////////////////\")\n",
        "        print(\"Ingrese la opcion a realizar: \")\n",
        "        print(\"1.- Agregar 10 registro (automatico)\")\n",
        "        print(\"2.- Eliminar 1 registro\")\n",
        "        print(\"3.- Imprimir lista\")\n",
        "        print(\"4.- Buscar (por ID)\")\n",
        "        print(\"5.- Buscar coincidencias por apellido paterno\")\n",
        "        print(\"6.- Ordenar lista\")\n",
        "        print(\"7.- Generar archivo\")\n",
        "        print (\"8.- Cargar archivo\")\n",
        "        print(\"9.- Imprimir archivo\")\n",
        "        print(\"10.- Borrar toda la lista\")\n",
        "        print(\"0.- Salir\")\n",
        "        opc = int(input(\"\"))\n",
        "    except:\n",
        "        limpiar_pantalla ()\n",
        "        print(\"\\nletras no permitidas, solamente ingrese numeros...\\n\")\n",
        "    else:\n",
        "        if opc == 1:\n",
        "            limpiar_pantalla ()\n",
        "            gen_reg_auto ()\n",
        "\n",
        "        elif opc == 2:\n",
        "            limpiar_pantalla ()\n",
        "            eliminar_reg ()\n",
        "\n",
        "        elif opc == 3:\n",
        "            limpiar_pantalla ()\n",
        "            imprimir_regs ()\n",
        "\n",
        "        elif opc == 4:\n",
        "            limpiar_pantalla ()\n",
        "            buscar_reg ()\n",
        "\n",
        "        elif opc == 5:\n",
        "            limpiar_pantalla ()\n",
        "            buscar_coins ()\n",
        "\n",
        "        elif opc == 6:\n",
        "            limpiar_pantalla ()\n",
        "            ordenar_regs ()\n",
        "\n",
        "        elif opc == 7:\n",
        "            limpiar_pantalla ()\n",
        "            genera_archs ()\n",
        "\n",
        "        elif opc == 8:\n",
        "            limpiar_pantalla ()\n",
        "            cargar_archs ()\n",
        "\n",
        "        elif opc == 9:\n",
        "            limpiar_pantalla ()\n",
        "            imprime_archs ()\n",
        "\n",
        "        elif opc == 10:\n",
        "            limpiar_pantalla ()\n",
        "            elimina_all_regs ()\n",
        "\n",
        "        elif opc < 0 or opc > 10:\n",
        "            limpiar_pantalla ()\n",
        "            print(\"\\n\")\n",
        "            print(\"Ingrese un numero dentro del rango de opciones...\")\n",
        "            print(\"\\n\")\n",
        "        elif opc == 0:\n",
        "            limpiar_pantalla ()\n",
        "            print(\"Finalizado...\")"
      ],
      "metadata": {
        "id": "g3tauaL_RJEI",
        "colab": {
          "base_uri": "https://localhost:8080/"
        },
        "outputId": "2d17cd91-cfd3-4865-f2d9-992ed4756c4a"
      },
      "execution_count": 33,
      "outputs": [
        {
          "output_type": "stream",
          "name": "stdout",
          "text": [
            "Finalizado...\n"
          ]
        }
      ]
    }
  ]
}