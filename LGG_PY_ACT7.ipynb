{
  "nbformat": 4,
  "nbformat_minor": 0,
  "metadata": {
    "colab": {
      "provenance": [],
      "authorship_tag": "ABX9TyOr1UN0121mxmTtPp84AfjL",
      "include_colab_link": true
    },
    "kernelspec": {
      "name": "python3",
      "display_name": "Python 3"
    },
    "language_info": {
      "name": "python"
    }
  },
  "cells": [
    {
      "cell_type": "markdown",
      "metadata": {
        "id": "view-in-github",
        "colab_type": "text"
      },
      "source": [
        "<a href=\"https://colab.research.google.com/github/lesly-gallardo/clasepython/blob/main/LGG_PY_ACT7.ipynb\" target=\"_parent\"><img src=\"https://colab.research.google.com/assets/colab-badge.svg\" alt=\"Open In Colab\"/></a>"
      ]
    },
    {
      "cell_type": "markdown",
      "source": [
        "#ACTIVIDAD 7\n",
        "\n",
        "NOMBRE:  LESLY GALLARDO GONZALEZ\n",
        "\n",
        "MATRICULA:  370027\n",
        "\n",
        "FECHA:  1-ABRIL-2024"
      ],
      "metadata": {
        "id": "Um_H739ctdSl"
      }
    },
    {
      "cell_type": "markdown",
      "source": [
        "1.- Función que utilice una lista con los nombres de tus mascotas, o artistas favoritos, (minimo 5, maximo 10) imprimir las cadenas y la cantidad de caracteres de cada cadena.  \n",
        "\n",
        "EJEMPLO SALIDA:\n",
        "\n",
        "[0]SCARLETT --> 8 CARACTERES\n",
        "\n",
        "[1]GATINA --> 6 CARACTERES\n",
        "\n",
        "[2]PELUSA --> 6 CARACTERES\n",
        "\n",
        "[3]PELUSINA --> 8 CARACTERES\n",
        "\n",
        "[4]MILO --> 4 CARACTERES\n",
        "\n",
        "[5]KHALIFA --> 7 CARACTERES"
      ],
      "metadata": {
        "id": "3q7pHh4Ytr7j"
      }
    },
    {
      "cell_type": "code",
      "execution_count": null,
      "metadata": {
        "id": "WewhWWkYtU_F"
      },
      "outputs": [],
      "source": [
        "lista=[\"CHACHO\",\"DOLCHE\",\"CANELA\",\"MAMBO\",\"CHIQUIS\",\"PRINCESS\"]\n",
        "\n",
        "i=0\n",
        "for i,cadena in enumerate(lista):\n",
        "\n",
        "  print(f\"{i} ---> {cadena}   {len(cadena)} CARACTERES\")\n"
      ]
    },
    {
      "cell_type": "code",
      "source": [
        "lista=[\"CHACHO\",\"DOLCHE\",\"CANELA\",\"MAMBO\",\"CHIQUIS\",\"PRINCESS\"]\n",
        "i=0\n",
        "for cadena in lista:\n",
        "\n",
        "  print(f\"{i} ---> {cadena}   {len(cadena)} CARACTERES\")\n",
        "  i+=1"
      ],
      "metadata": {
        "colab": {
          "base_uri": "https://localhost:8080/",
          "height": 0
        },
        "id": "td1TK7dCwE57",
        "outputId": "ccd4930e-4f75-4e81-95d6-9fc8de24ac27"
      },
      "execution_count": 6,
      "outputs": [
        {
          "output_type": "stream",
          "name": "stdout",
          "text": [
            "0 ---> CHACHO   6 CARACTERES\n",
            "1 ---> DOLCHE   6 CARACTERES\n",
            "2 ---> CANELA   6 CARACTERES\n",
            "3 ---> MAMBO   5 CARACTERES\n",
            "4 ---> CHIQUIS   7 CARACTERES\n",
            "5 ---> PRINCESS   8 CARACTERES\n"
          ]
        }
      ]
    },
    {
      "cell_type": "markdown",
      "source": [
        "2.- Programa que utilice 2 funciones,\n",
        "\n",
        "Función que genere y regrese una lista con 10 números aleatorios entre el 30 y 50 (no repetidos).\n",
        "Función que reciba una lista , Imprimir la lista (Indice y Valor )\n"
      ],
      "metadata": {
        "id": "qY_8mHrGxDvR"
      }
    },
    {
      "cell_type": "code",
      "source": [
        "import random\n",
        "def genera_lista():\n",
        "  num=random.sample(range(30,50),10)\n",
        "  return num\n"
      ],
      "metadata": {
        "id": "AKTlTwuty9DC"
      },
      "execution_count": 7,
      "outputs": []
    },
    {
      "cell_type": "code",
      "source": [
        "def imp_lista(lista):\n",
        "  for i,valor in enumerate(lista):\n",
        "    print(f\"{i}---> {valor}\")"
      ],
      "metadata": {
        "id": "QwzDcVJazXW4"
      },
      "execution_count": 8,
      "outputs": []
    },
    {
      "cell_type": "code",
      "source": [
        "lista_alea=genera_lista()\n",
        "imp_lista(lista_alea)"
      ],
      "metadata": {
        "colab": {
          "base_uri": "https://localhost:8080/",
          "height": 0
        },
        "id": "WKYs0wAcz4zL",
        "outputId": "aa58dc80-70d1-477f-9053-1008d44fd208"
      },
      "execution_count": 9,
      "outputs": [
        {
          "output_type": "stream",
          "name": "stdout",
          "text": [
            "0---> 40\n",
            "1---> 47\n",
            "2---> 45\n",
            "3---> 37\n",
            "4---> 41\n",
            "5---> 35\n",
            "6---> 49\n",
            "7---> 39\n",
            "8---> 42\n",
            "9---> 48\n"
          ]
        }
      ]
    },
    {
      "cell_type": "markdown",
      "source": [
        "3.- Escribe una función que reciba dos listas de números del mismo tamaño y calcule la suma de los elementos correspondientes de cada lista. (regresar una nueva lista) . Luego, muestra una lista con los resultados de cada suma. Nota: si las listas no son del mismo tamaño mandar msge y utilizar el tamaño de la lista mas pequeña)"
      ],
      "metadata": {
        "id": "n1VXvhNu0g2b"
      }
    },
    {
      "cell_type": "code",
      "source": [
        "def suma_listas(lista1,lista2):\n",
        "  if len(lista1)!=len(lista2):\n",
        "    print (\"LAS LISTAS NO TIENEN EL MISMO TAMANO.SE UTILIZARA EL TAMANO DE LA LISTAMAS PEQUENA\")\n",
        "    min_len=min(len(lista1),len(lista2))\n",
        "  else:\n",
        "    min_len=len(lista1)\n",
        "\n",
        "  suma=[]\n",
        "  for i in range(min_len):\n",
        "    suma.append(lista1[i]+lista2[i])\n",
        "  return suma\n",
        "\n",
        "  resul=suma(lista1,lista2)\n",
        "  print(\"LISTA CON LOS RESULTADOS DE LA SUMA DE LOS ELEMENTOS CORRESPONDIENTES.\")\n",
        "  print(f\"{resul}\")"
      ],
      "metadata": {
        "id": "lGkRXgH60pRE"
      },
      "execution_count": 10,
      "outputs": []
    },
    {
      "cell_type": "code",
      "source": [
        "suma_listas(lista1=[1,2,3],lista2=[5,6,7,8])"
      ],
      "metadata": {
        "id": "R3VX58P4L5d1",
        "colab": {
          "base_uri": "https://localhost:8080/",
          "height": 0
        },
        "outputId": "3cfa3815-d63d-40bf-8568-aad8f232b087"
      },
      "execution_count": 11,
      "outputs": [
        {
          "output_type": "stream",
          "name": "stdout",
          "text": [
            "LAS LISTAS NO TIENEN EL MISMO TAMANO.SE UTILIZARA EL TAMANO DE LA LISTAMAS PEQUENA\n"
          ]
        },
        {
          "output_type": "execute_result",
          "data": {
            "text/plain": [
              "[6, 8, 10]"
            ]
          },
          "metadata": {},
          "execution_count": 11
        }
      ]
    },
    {
      "cell_type": "markdown",
      "source": [
        "4.- Escribe una función llamada eliminar_duplicados que reciba una lista como parámetro y elimine los elementos duplicados. El resultado debe ser una nueva lista sin duplicados. Pide al usuario que ingrese una lista y luego llama a la función eliminar_duplicados para mostrar la lista sin duplicados. (Solo Numeros enteros, validar)\n",
        "\n"
      ],
      "metadata": {
        "id": "eS_4su6LM2qV"
      }
    },
    {
      "cell_type": "code",
      "source": [
        "def eliminar_duplicados(lista):\n",
        "  lista_sin_dupli=[]\n",
        "  for elemento in lista:\n",
        "    if elemento not in lista_sin_dupli:\n",
        "      lista_sin_dupli.append(elemento)\n",
        "  return lista_sin_dupli"
      ],
      "metadata": {
        "id": "xc7s-n--M8H9"
      },
      "execution_count": 12,
      "outputs": []
    },
    {
      "cell_type": "code",
      "source": [
        "def valid_num(entrada):\n",
        "  while True:\n",
        "    try:\n",
        "      numero=int(input(entrada))\n",
        "      return numero\n",
        "    except ValueError:\n",
        "      print(\"POR FAVOR, INGRESE UN NUMERO VALIDO QUE SEA ENTERO\")"
      ],
      "metadata": {
        "id": "E0I6OlXsPAfo"
      },
      "execution_count": 13,
      "outputs": []
    },
    {
      "cell_type": "code",
      "source": [
        "lista=[]\n",
        "n=valid_num(\"INGRESE LA CANTIDAD DE ELEMENTOS DE LA LISTA: \")\n",
        "for i in range(n):\n",
        "  elemento=valid_num(f\"INGRESE EL ELEMENTO {i+1}: \")\n",
        "  lista.append(elemento)\n",
        "\n",
        "lista_sin_dupli=eliminar_duplicados(lista)\n",
        "print(f\"LISTA ORIGINAL: {lista}\")\n",
        "print(f\"LISTA SIN DUPLICAR: {lista_sin_dupli}\")"
      ],
      "metadata": {
        "id": "FRkMeab9QG6w",
        "colab": {
          "base_uri": "https://localhost:8080/",
          "height": 0
        },
        "outputId": "2abddec5-165a-4c9b-cd3f-954d940f9194"
      },
      "execution_count": 14,
      "outputs": [
        {
          "output_type": "stream",
          "name": "stdout",
          "text": [
            "INGRESE LA CANTIDAD DE ELEMENTOS DE LA LISTA: 5\n",
            "INGRESE EL ELEMENTO 1: 10\n",
            "INGRESE EL ELEMENTO 2: 4\n",
            "INGRESE EL ELEMENTO 3: 20\n",
            "INGRESE EL ELEMENTO 4: 3\n",
            "INGRESE EL ELEMENTO 5: 20\n",
            "LISTA ORIGINAL: [10, 4, 20, 3, 20]\n",
            "LISTA SIN DUPLICAR: [10, 4, 20, 3]\n"
          ]
        }
      ]
    },
    {
      "cell_type": "markdown",
      "source": [
        "5.- Escribe una función que calcule la media y la mediana de una lista de números enteros.\n",
        "\n",
        "La media es la suma de todos los elementos y dividido entre la cantidad de elementos\n",
        "\n",
        "La mediana es el valor que queda en la mitad de la lista cuando se ordena de forma ascendente. Si la lista tiene un número par de elementos, la mediana se calcula como el promedio de los dos valores centrales. Puedes utilizar el método sort() para ordenar la lista y luego calcular la mediana según el tamaño de la lista."
      ],
      "metadata": {
        "id": "IYduPrILR4gq"
      }
    },
    {
      "cell_type": "code",
      "source": [
        "def calcular_media(lista):\n",
        "  if not lista:\n",
        "    return None\n",
        "  return sum(lista)/len(lista)"
      ],
      "metadata": {
        "id": "uOS1VM__R_KB"
      },
      "execution_count": 1,
      "outputs": []
    },
    {
      "cell_type": "code",
      "source": [
        "def calcular_mediana(lista):\n",
        "  if not lista:\n",
        "    return None\n",
        "  lista_ordenada=sorted(lista)\n",
        "  n=len(lista_ordenada)\n",
        "  if n%2==0:\n",
        "    ind_medio_1=n//2-1\n",
        "    ind_medio_2=n//2\n",
        "    return (lista_ordenada[ind_medio_1]+lista_ordenada[ind_medio_2])/2\n",
        "  else:\n",
        "    return lista_ordenada[n//2]\n",
        "  media=calcular_media(lista)\n",
        "  mediana=calcular_mediana(lista)\n",
        "  print(f\"Lista= {lista}\")\n",
        "  print(f\"MEDIA={media}\")\n",
        "  print(f\"MEDIANA={mediana}\")"
      ],
      "metadata": {
        "id": "438d9372leMy"
      },
      "execution_count": 3,
      "outputs": []
    },
    {
      "cell_type": "code",
      "source": [
        "calcular_mediana(lista=[1,2,3,4,5,6])"
      ],
      "metadata": {
        "colab": {
          "base_uri": "https://localhost:8080/",
          "height": 0
        },
        "id": "HBgX1qXlmkfQ",
        "outputId": "9211924b-f349-4a9a-88e4-b2bba0074b34"
      },
      "execution_count": 15,
      "outputs": [
        {
          "output_type": "execute_result",
          "data": {
            "text/plain": [
              "3.5"
            ]
          },
          "metadata": {},
          "execution_count": 15
        }
      ]
    },
    {
      "cell_type": "code",
      "source": [
        "calcular_media(lista=[6,7,8,9,10])"
      ],
      "metadata": {
        "colab": {
          "base_uri": "https://localhost:8080/",
          "height": 0
        },
        "id": "9c9hf_86pHY6",
        "outputId": "b64b0687-0a67-496b-b5b0-583ec2d500d6"
      },
      "execution_count": 16,
      "outputs": [
        {
          "output_type": "execute_result",
          "data": {
            "text/plain": [
              "8.0"
            ]
          },
          "metadata": {},
          "execution_count": 16
        }
      ]
    }
  ]
}