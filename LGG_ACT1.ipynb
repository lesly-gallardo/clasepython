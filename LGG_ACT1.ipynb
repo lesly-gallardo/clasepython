{
  "nbformat": 4,
  "nbformat_minor": 0,
  "metadata": {
    "colab": {
      "provenance": []
    },
    "kernelspec": {
      "name": "python3",
      "display_name": "Python 3"
    },
    "language_info": {
      "name": "python"
    }
  },
  "cells": [
    {
      "cell_type": "code",
      "execution_count": null,
      "metadata": {
        "id": "tvzNB5SRtdNr"
      },
      "outputs": [],
      "source": []
    },
    {
      "cell_type": "markdown",
      "source": [
        "#ACTIVIDAD 1\n",
        "\n",
        "\n",
        "\n",
        "\n",
        "LESLY GALLARDO GONZALEZ                             \n",
        "\n",
        " MAT. 370027\n",
        "\n",
        " 19 DE AGOSTO DEL 2023\n",
        "\n"
      ],
      "metadata": {
        "id": "sdJ2WFyttgpA"
      }
    },
    {
      "cell_type": "markdown",
      "source": [
        "1.Programa en Python Mostrar un mensaje que diga “HOLA MUNDO” en un solo renglón usando 2 print."
      ],
      "metadata": {
        "id": "2IK6FVYrun7a"
      }
    },
    {
      "cell_type": "code",
      "source": [
        "print(\"Hola\",end=\"\")\n",
        "print (\" Mundo\")"
      ],
      "metadata": {
        "colab": {
          "base_uri": "https://localhost:8080/"
        },
        "id": "xm0GMXDbu9w5",
        "outputId": "8b55bbdf-9b39-47b9-cced-db9d9cc671fb"
      },
      "execution_count": null,
      "outputs": [
        {
          "output_type": "stream",
          "name": "stdout",
          "text": [
            "Hola Mundo\n"
          ]
        }
      ]
    },
    {
      "cell_type": "markdown",
      "source": [
        "2.- Programa en Python que lea 2 números, realizar la suma y desplegar la suma de los 2 números"
      ],
      "metadata": {
        "id": "TmizP1cSwhuC"
      }
    },
    {
      "cell_type": "code",
      "source": [
        "\n",
        "n1=int(input(\"DAME NUMERO 1: \"))\n",
        "n2=int(input(\"DAME NUMERO 2: \"))\n",
        "suma=n1+n2\n",
        "print (f\"La suma de:{n1}+{n2} es {suma}\")"
      ],
      "metadata": {
        "id": "R_s_tv5YwnLJ"
      },
      "execution_count": null,
      "outputs": []
    },
    {
      "cell_type": "markdown",
      "source": [
        "3.- Programa en Python que lea 2 números y realice las 4 operaciones básicas\n",
        "\n"
      ],
      "metadata": {
        "id": "PaEzSspjzafw"
      }
    },
    {
      "cell_type": "code",
      "source": [
        "n1=int(input(\"DAME NUMERO 1: \"))\n",
        "n2=int(input(\"DAME NUMERO 2: \"))\n",
        "suma=n1+n2\n",
        "resta=n1-n2\n",
        "mult=n1*n2\n",
        "divi=n1/n2\n",
        "print (f\"\\nLa suma de: {n1} + {n2} es {suma}\")\n",
        "print (f\"\\nLa resta de: {n1} - {n2} es {resta}\")\n",
        "print (f\"\\nLa multiplicacion de: {n1} * {n2} es {mult}\")\n",
        "print (f\"\\nLa division de: 11{n1} / {n2} es {divi}\")"
      ],
      "metadata": {
        "id": "ta7BgiwwzdjD"
      },
      "execution_count": null,
      "outputs": []
    },
    {
      "cell_type": "markdown",
      "source": [
        "4.- Programa en Python Que sirva para calcular el área de un triángulo\n",
        "\n"
      ],
      "metadata": {
        "id": "LffUPLJO3_Y8"
      }
    },
    {
      "cell_type": "code",
      "source": [
        "b=int(input(\"DAME LA BASE DEL TRIANGULO: \"))\n",
        "h=int(input(\"DAME LA ALTURA DEL TRIANGULO: \"))\n",
        "area=(b*h)/2\n",
        "print(f\"\\n El AREA DEL TRIANGULO ES: {area}\")"
      ],
      "metadata": {
        "id": "pRJbniRE4Vwt"
      },
      "execution_count": null,
      "outputs": []
    },
    {
      "cell_type": "markdown",
      "source": [
        "5.- Programa en Python que lea una medida en centímetros y desplegar la misma medida pero convertida en pies y pulgadas\n",
        "\n"
      ],
      "metadata": {
        "id": "NsL0rR-45d6m"
      }
    },
    {
      "cell_type": "code",
      "source": [
        "cm=int(input(\"DAME UNA CANTIDAD EN CENTIMETROS: \"))\n",
        "pies=cm/30.48\n",
        "pul=cm/2.54\n",
        "print (f\"\\nLA MEDIDA EN PIES ES: {pies:.4f}\")\n",
        "print (f\"\\nLA MEDIDA EN PULGADAS ES:{pul:.4f} \")\n"
      ],
      "metadata": {
        "id": "RX4Cvl_c5e8c"
      },
      "execution_count": null,
      "outputs": []
    },
    {
      "cell_type": "markdown",
      "source": [
        "6.- Programa en Python que lea una temperatura en grados centígrados y desplegarla en Grados Fahrenheit y grados kelvin\n",
        "\n"
      ],
      "metadata": {
        "id": "bDJYfXl284-V"
      }
    },
    {
      "cell_type": "code",
      "source": [
        "cent=int(input(\"DAME LOS GRADOS EN GRADOS CENTIGRADOS: \"))\n",
        "faren=(cent*9/5) + 32\n",
        "kel=cent + 273.15\n",
        "print (f\"\\nLA MEDIDA EN GRADOS FARENHERIT ES: {faren:.2f}\")\n",
        "print (f\"\\nLA MEDIDA EN GRADOS KELVIN ES:{kel:.2f} \")\n"
      ],
      "metadata": {
        "id": "0IrDOoab89I8"
      },
      "execution_count": null,
      "outputs": []
    },
    {
      "cell_type": "markdown",
      "source": [
        "7.- Programa en Python que lea 4 calificaciones de un alumno, desplegar el promedio del alumno"
      ],
      "metadata": {
        "id": "5uuM6Vg2--BU"
      }
    },
    {
      "cell_type": "code",
      "source": [
        "cal1=float(input(\"DAME LA CALIFICACION 1: \"))\n",
        "cal2=float(input(\"DAME LA CALIFICACION 2: \"))\n",
        "cal3=float(input(\"DAME LA CALIFICACION 3: \"))\n",
        "cal4=float(input(\"DAME LA CALIFICACION 4: \"))\n",
        "prom=(cal1+cal2+cal3+cal4)/4\n",
        "print (f\"EL PROMEDIO DEL ALUMNO ES: {prom:.2f}\")"
      ],
      "metadata": {
        "id": "1vDVeoL7_BJr"
      },
      "execution_count": null,
      "outputs": []
    }
  ]
}