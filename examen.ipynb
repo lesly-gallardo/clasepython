{
  "nbformat": 4,
  "nbformat_minor": 0,
  "metadata": {
    "colab": {
      "provenance": [],
      "authorship_tag": "ABX9TyPahGuGFaP9xwbpeBBKjfcs",
      "include_colab_link": true
    },
    "kernelspec": {
      "name": "python3",
      "display_name": "Python 3"
    },
    "language_info": {
      "name": "python"
    }
  },
  "cells": [
    {
      "cell_type": "markdown",
      "metadata": {
        "id": "view-in-github",
        "colab_type": "text"
      },
      "source": [
        "<a href=\"https://colab.research.google.com/github/lesly-gallardo/clasepython/blob/main/examen.ipynb\" target=\"_parent\"><img src=\"https://colab.research.google.com/assets/colab-badge.svg\" alt=\"Open In Colab\"/></a>"
      ]
    },
    {
      "cell_type": "markdown",
      "source": [
        "1.Funcion que retorne un valor que se encuentre dentro de un rango dado."
      ],
      "metadata": {
        "id": "Ny-inIG9D49_"
      }
    },
    {
      "cell_type": "code",
      "execution_count": 26,
      "metadata": {
        "id": "isKujYRW9dnc"
      },
      "outputs": [],
      "source": [
        "def rango(inferior,superior):\n",
        "  try:\n",
        "    num=int(input(f\"INGRESE UN NUMERO ENTRE {inferior} y {superior}:\\n\" ))\n",
        "    if num<inferior or num>superior:\n",
        "     raise ValueError(\"EL NUMERO SE ENCUENTRA FUERA DEL RANGO\")\n",
        "    return num\n",
        "\n",
        "  except ValueError:\n",
        "    print(\"EL NUMERO NO ES VALIDO\")\n",
        "    return rango(inferior,superior)\n"
      ]
    },
    {
      "cell_type": "code",
      "source": [
        "rango(1,10)"
      ],
      "metadata": {
        "colab": {
          "base_uri": "https://localhost:8080/"
        },
        "id": "_SAE0Kk8-gHX",
        "outputId": "48cc62eb-aa12-4fc8-edcf-bde25c0c4ac1"
      },
      "execution_count": 28,
      "outputs": [
        {
          "name": "stdout",
          "output_type": "stream",
          "text": [
            "INGRESE UN NUMERO ENTRE 1 y 10:\n",
            "12\n",
            "EL NUMERO NO ES VALIDO\n",
            "INGRESE UN NUMERO ENTRE 1 y 10:\n",
            "jj\n",
            "EL NUMERO NO ES VALIDO\n",
            "INGRESE UN NUMERO ENTRE 1 y 10:\n",
            "6\n"
          ]
        },
        {
          "output_type": "execute_result",
          "data": {
            "text/plain": [
              "6"
            ]
          },
          "metadata": {},
          "execution_count": 28
        }
      ]
    },
    {
      "cell_type": "markdown",
      "source": [
        "2.funcion que retorne el resultado del area de un triangulo"
      ],
      "metadata": {
        "id": "Q6OUwVUSEE38"
      }
    },
    {
      "cell_type": "code",
      "source": [
        "def areat(b,h):\n",
        "  area=(b*h)/2\n",
        "  return area"
      ],
      "metadata": {
        "id": "vbUEDSGeESaY"
      },
      "execution_count": 32,
      "outputs": []
    },
    {
      "cell_type": "code",
      "source": [
        "areat(2,5)"
      ],
      "metadata": {
        "colab": {
          "base_uri": "https://localhost:8080/"
        },
        "id": "8_N8-NAQEhCw",
        "outputId": "dcce0cdb-f4f4-4e85-a75f-020464ec4575"
      },
      "execution_count": 34,
      "outputs": [
        {
          "output_type": "execute_result",
          "data": {
            "text/plain": [
              "5.0"
            ]
          },
          "metadata": {},
          "execution_count": 34
        }
      ]
    },
    {
      "cell_type": "code",
      "source": [
        "b=int(input(\"DAME LA BASE DEL TRIANGULO:\\n\"))\n",
        "h=int(input(\"DAME LA ALTURA DEL TRIANGULO:\\n\"))\n",
        "area=(b*h)/2\n",
        "print(f\"EL AREA DEL TRIANGULO ES: {area}\")\n"
      ],
      "metadata": {
        "colab": {
          "base_uri": "https://localhost:8080/"
        },
        "id": "U2jWINafEzj9",
        "outputId": "688cebf0-a468-4d31-e3f7-15f77096b976"
      },
      "execution_count": 35,
      "outputs": [
        {
          "output_type": "stream",
          "name": "stdout",
          "text": [
            "DAME LA BASE DEL TRIANGULO:\n",
            "2\n",
            "DAME LA ALTURA DEL TRIANGULO:\n",
            "5\n",
            "EL AREA DEL TRIANGULO ES: 5.0\n"
          ]
        }
      ]
    },
    {
      "cell_type": "markdown",
      "source": [
        "3.funcion que retorne el factorial de un numero"
      ],
      "metadata": {
        "id": "q0AhtqVNFtNd"
      }
    },
    {
      "cell_type": "code",
      "source": [
        "def fac(num):\n",
        "  if num==0:\n",
        "    return 1\n",
        "  else:\n",
        "    return num*(num-1)\n"
      ],
      "metadata": {
        "id": "GAge7m7wF0IF"
      },
      "execution_count": 36,
      "outputs": []
    },
    {
      "cell_type": "code",
      "source": [
        "fac(5)"
      ],
      "metadata": {
        "colab": {
          "base_uri": "https://localhost:8080/"
        },
        "id": "IFCPtl2ZG0hk",
        "outputId": "ba6671be-0870-41d3-fab1-a4cf957a8cd1"
      },
      "execution_count": 37,
      "outputs": [
        {
          "output_type": "execute_result",
          "data": {
            "text/plain": [
              "20"
            ]
          },
          "metadata": {},
          "execution_count": 37
        }
      ]
    },
    {
      "cell_type": "code",
      "source": [
        "nume=5\n",
        "res=fac(nume)\n",
        "print(f\"EL FACTORIAL DE: {nume} es {res}\")"
      ],
      "metadata": {
        "colab": {
          "base_uri": "https://localhost:8080/"
        },
        "id": "bEP43MjBHFpi",
        "outputId": "0ac9f087-f795-439f-b025-f70f96741902"
      },
      "execution_count": 38,
      "outputs": [
        {
          "output_type": "stream",
          "name": "stdout",
          "text": [
            "EL FACTORIAL DE: 5 es 20\n"
          ]
        }
      ]
    }
  ]
}