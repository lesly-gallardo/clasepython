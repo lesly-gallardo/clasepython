{
  "cells": [
    {
      "cell_type": "markdown",
      "metadata": {
        "id": "view-in-github",
        "colab_type": "text"
      },
      "source": [
        "<a href=\"https://colab.research.google.com/github/lesly-gallardo/clasepython/blob/main/LGG_PY_ACT10.ipynb\" target=\"_parent\"><img src=\"https://colab.research.google.com/assets/colab-badge.svg\" alt=\"Open In Colab\"/></a>"
      ]
    },
    {
      "cell_type": "markdown",
      "metadata": {
        "id": "mgVxOfwa6_QQ"
      },
      "source": [
        "#ACTIVIDAD 10\n",
        "\n",
        "NOMBRE:  LESLY GALLARDO GONZALEZ\n",
        "\n",
        "MATRICULA:  370027\n",
        "\n",
        "FECHA:  6-MAYO-2024"
      ]
    },
    {
      "cell_type": "markdown",
      "metadata": {
        "id": "djGdzIHL7Xar"
      },
      "source": [
        " REALIZA UN PROGRAMA QUE UTILICE UNA LISTA DE DICCIONARIOS\n",
        "\n",
        "\n",
        "\n",
        "MENU\n",
        "\n",
        "1.- Agregar (automatico)\n",
        "\n",
        "2.- Agregar (manual)\n",
        "\n",
        "3.- Imprimir lista\n",
        "\n",
        " a)\n",
        "\n",
        " b)\n",
        "\n",
        " c)\n",
        "\n",
        "4.- Buscar {ID}\n",
        "\n",
        "5.- Ordenar\n",
        "\n",
        "6.- Eliminar {ID}\n",
        "\n",
        "7.- Borrar Toda la lista {ID}\n",
        "\n",
        "0.- SALIR"
      ]
    },
    {
      "cell_type": "code",
      "execution_count": 45,
      "metadata": {
        "id": "Uz0O7lKL6xo0"
      },
      "outputs": [],
      "source": [
        "from IPython.display import clear_output"
      ]
    },
    {
      "cell_type": "code",
      "execution_count": 46,
      "metadata": {
        "id": "qoAPoaXwPOBR"
      },
      "outputs": [],
      "source": [
        "import random"
      ]
    },
    {
      "cell_type": "code",
      "execution_count": null,
      "metadata": {
        "id": "82RoruUvPTe3"
      },
      "outputs": [],
      "source": [
        "from random import randint"
      ]
    },
    {
      "cell_type": "code",
      "execution_count": null,
      "metadata": {
        "id": "IUm3JrPmPXQr"
      },
      "outputs": [],
      "source": [
        "from random import choice"
      ]
    },
    {
      "cell_type": "code",
      "execution_count": null,
      "metadata": {
        "id": "polswgIHP-f9"
      },
      "outputs": [],
      "source": [
        "import pprint as pp"
      ]
    },
    {
      "cell_type": "code",
      "execution_count": null,
      "metadata": {
        "id": "8EWMQT3jQBtu"
      },
      "outputs": [],
      "source": [
        "import json as js"
      ]
    },
    {
      "cell_type": "code",
      "execution_count": null,
      "metadata": {
        "colab": {
          "base_uri": "https://localhost:8080/"
        },
        "id": "USst7m7QQEjZ",
        "outputId": "ea26e674-375e-4149-db07-f5e0f909e327"
      },
      "outputs": [
        {
          "name": "stdout",
          "output_type": "stream",
          "text": [
            "Requirement already satisfied: pyyaml in /usr/local/lib/python3.10/dist-packages (6.0.1)\n"
          ]
        }
      ],
      "source": [
        "!pip3 install pyyaml"
      ]
    },
    {
      "cell_type": "code",
      "execution_count": null,
      "metadata": {
        "id": "qZlctSupQJO_"
      },
      "outputs": [],
      "source": [
        "import yaml"
      ]
    },
    {
      "cell_type": "code",
      "execution_count": null,
      "metadata": {
        "id": "K6mekl56QNyO"
      },
      "outputs": [],
      "source": [
        "reg_lista = []"
      ]
    },
    {
      "cell_type": "code",
      "execution_count": null,
      "metadata": {
        "id": "VJoHxIGzQRCX"
      },
      "outputs": [],
      "source": [
        "def limpiar_pantalla ():\n",
        "    clear_output (wait = True)"
      ]
    },
    {
      "cell_type": "code",
      "execution_count": null,
      "metadata": {
        "id": "HCwL7CKpQVnt"
      },
      "outputs": [],
      "source": [
        "def vali_rang (num, rangi, rangfi):\n",
        "    if num < rangi or num > rangfi:\n",
        "        limpiar_pantalla ()\n",
        "        print(\"\\nINGRESE UN NUMERO DENTRO DEL RANGO PREMITIDO...\\n\")\n",
        "        return 0\n",
        "    else:\n",
        "        return 1"
      ]
    },
    {
      "cell_type": "code",
      "execution_count": null,
      "metadata": {
        "id": "hv80WBs2QZbq"
      },
      "outputs": [],
      "source": [
        "def vali_txt (texto):\n",
        "    caracter = str\n",
        "    if all(caracter.isalpha() or caracter.isspace() for caracter in texto):\n",
        "        return 1\n",
        "    else:\n",
        "        limpiar_pantalla ()\n",
        "        print(\"\\nNUMEROS NO PERMITIDOS...\\n\")\n",
        "        return 0"
      ]
    },
    {
      "cell_type": "code",
      "execution_count": null,
      "metadata": {
        "id": "D7GFBNZDQg73"
      },
      "outputs": [],
      "source": [
        "def reg_auto ():\n",
        "\n",
        "    id_rand = random.randint (300000, 399999)\n",
        "    id = id_rand\n",
        "\n",
        "    n_hombre = random.choice ([\"RAUL\", \"ARAM\", \"FERNANDO\", \"ELIAN\", \"ARTURO\", \"PEDRO\", \"ANTONIO\", \"DIEGO\", \"GOKU\", \"KEVIN\", \"BRAYAN\", \"ANDRES\", \"URIEL\", \"ISAAC\", \"VICTOR\", \"LUIS\", \"ABRAHAM\", \"ERICK\", \"ANGEL\", \"ROBERTO\" ])\n",
        "    n_mujer = random.choice ([\"MARIANA\", \"MARIA\", \"ANTONIA\", \"RUBY\", \"ESMERALDA\", \"PERLA\", \"REGINA\", \"ANA\", \"ANEL\", \"CELESTE\", \"AZUL\", \"ROSA\", \"DINA\", \"DIANA\", \"DANNA\", \"DAYANA\", \"NAHOMI\", \"NAYELI\", \"NATALIA\"])\n",
        "\n",
        "    nombre = random.choice ([n_hombre, n_mujer])\n",
        "\n",
        "    ap_pat = random.choice([\"VAZQUEZ\", \"VASQUEZ\", \"VELASQUEZ\", \"DE LA TORRE\", \"CARRASCO\", \"LOPEZ\", \"TABOADA\", \"DE LA CRUZ\", \"FIGUEROA\", \"VANDERAS\", \"SANCHEZ\", \"CERVANTES\", \"BARRAGAN\", \"TORRES\", \"ENRIQUEZ\", \"LLAMAS\", \"DE LEON\", \"MARTINEZ\", \"GONZALEZ\", \"VILLALOBOS\"])\n",
        "    ap_mat = random.choice([\"VAZQUEZ\", \"VASQUEZ\", \"VELASQUEZ\", \"DE LA TORRE\", \"CARRASCO\", \"LOPEZ\", \"TABOADA\", \"DE LA CRUZ\", \"FIGUEROA\", \"VANDERAS\", \"SANCHEZ\", \"CERVANTES\", \"BARRAGAN\", \"TORRES\", \"ENRIQUEZ\", \"LLAMAS\", \"DE LEON\", \"MARTINEZ\", \"GONZALEZ\", \"VILLALOBOS\"])\n",
        "\n",
        "    edad_rand = random.randint (18, 60)\n",
        "    edad = edad_rand\n",
        "\n",
        "    if nombre == n_hombre:\n",
        "        sexo = \"HOMBRE\"\n",
        "    else:\n",
        "        sexo = \"MUJER\"\n",
        "\n",
        "    reg_empl = {\"ID\":id, \"NOMBRE\":nombre, \"APELLIDO PATERNO\":ap_pat, \"APELLIDO MATERNO\":ap_mat, \"EDAD\":edad, \"GENERO\":sexo}\n",
        "\n",
        "    if None in reg_empl.values():\n",
        "        return None\n",
        "    else:\n",
        "        return reg_empl"
      ]
    },
    {
      "cell_type": "code",
      "execution_count": null,
      "metadata": {
        "id": "YnJmpjZ5QodU"
      },
      "outputs": [],
      "source": [
        "def reg_man ():\n",
        "\n",
        "    prueba = 0\n",
        "\n",
        "    while prueba == 0:\n",
        "        while True:\n",
        "            try:\n",
        "                id = int(input(\"INGRESE SU IDNETIFICACION: (6 DIGITOS DEL 300000 AL 399999): \"))\n",
        "            except:\n",
        "                limpiar_pantalla ()\n",
        "                print(\"\\nSOLAMENTE INGRESE NUMEROS...\\n\")\n",
        "            else:\n",
        "                prueba = vali_rang (id, 300000, 399999)\n",
        "                id_list = id\n",
        "                break\n",
        "    prueba = 0\n",
        "\n",
        "    while prueba == 0:\n",
        "        nom = str(input(\"INGRESE SU NOMBRE(S): \"))\n",
        "        prueba = vali_txt (nom)\n",
        "    nombre = nom.upper ()\n",
        "    prueba = 0\n",
        "\n",
        "    while prueba == 0:\n",
        "        appat = str(input(\"INGRESE SU APELLIDO PATERNO: \"))\n",
        "        prueba = vali_txt (appat)\n",
        "    ap_pat = appat.upper ()\n",
        "    prueba = 0\n",
        "\n",
        "    while prueba == 0:\n",
        "        apmat = str(input(\"INGRESE SU APELLIDO MATERNO: \"))\n",
        "        prueba = vali_txt (apmat)\n",
        "    ap_mat = apmat.upper ()\n",
        "    prueba = 0\n",
        "\n",
        "    while prueba == 0:\n",
        "        while True:\n",
        "            try:\n",
        "               edad = int(input(\"INGRESE SU EDAD: \"))\n",
        "            except:\n",
        "                print(\"\\nINGRESE SOLAMENTE NUMEROS...\\n\")\n",
        "            else:\n",
        "                prueba = vali_rang (edad, 18, 60)\n",
        "                edad_list = edad\n",
        "                break\n",
        "    prueba = 0\n",
        "\n",
        "    while prueba == 0:\n",
        "        while True:\n",
        "            try:\n",
        "                sexo = int(input(\"INGRESE SE GENERO: (1.-HOMBRE 2.-MUJER): \"))\n",
        "            except:\n",
        "                print(\"\\nINGRESE SOLAMENTE NUMEROS...\\n\")\n",
        "            else:\n",
        "                prueba = vali_rang (sexo, 1, 2)\n",
        "                break;\n",
        "    prueba == 0\n",
        "\n",
        "    if sexo == 1:\n",
        "        gen = \"MASCULINO\"\n",
        "    if sexo == 2:\n",
        "        gen = \"FEMENINO\"\n",
        "\n",
        "    reg_empl = {\"ID\": id, \"NOMBRE\": nombre, \"APELLIDO PATERNO\": ap_pat, \"APELLIDO MATERNO\": ap_mat, \"EDAD\": edad, \"GENERO\": gen}\n",
        "    return reg_empl"
      ]
    },
    {
      "cell_type": "code",
      "execution_count": null,
      "metadata": {
        "id": "W-DkQ7asQvdU"
      },
      "outputs": [],
      "source": [
        "def almacena_regs (regs):\n",
        "    global reg_lista\n",
        "    for registro in reg_lista:\n",
        "        if registro.get(\"ID\") == regs.get(\"ID\"):\n",
        "            print(\"\\nLa ID INGRESADA ESTA OCUPADA POR OTRO USUARIO, REGISTRO CANCELADO...\\n\")\n",
        "            return reg_lista\n",
        "    reg_lista.append (regs)\n",
        "    print(\"\\nSE HA AGREGADO 1 REGISTRO...\\n\")\n",
        "    return reg_lista"
      ]
    },
    {
      "cell_type": "code",
      "execution_count": null,
      "metadata": {
        "id": "iK1-uH5qQzcR"
      },
      "outputs": [],
      "source": [
        "def imprime_regs (reg_lista):\n",
        "    if not reg_lista:\n",
        "        print(\"\\nNO HAY REGISTROS ALMACENADOS...\\n\")\n",
        "    else:\n",
        "        i = random.randint (1,3)\n",
        "        if i == 1:\n",
        "            pp.pp(reg_lista)\n",
        "        elif i == 2:\n",
        "            print(js.dumps(reg_lista, sort_keys = False, indent = 2))\n",
        "        elif i == 3:\n",
        "            print(yaml.dump(reg_lista, sort_keys = False, default_flow_style= False))"
      ]
    },
    {
      "cell_type": "code",
      "execution_count": null,
      "metadata": {
        "id": "1thP8iydQ3zm"
      },
      "outputs": [],
      "source": [
        "def busca_reg ():\n",
        "\n",
        "    global reg_lista\n",
        "    prueba = 0\n",
        "\n",
        "    if reg_lista:\n",
        "        while prueba == 0:\n",
        "            while True:\n",
        "                try:\n",
        "                    id_buscar = int(input(\"INGRESE LA ID DEL REGISTRO A BUSCAR (6 digitos DEL: 300000 AL 399999): \"))\n",
        "                except:\n",
        "                    limpiar_pantalla ()\n",
        "                    print(\"\\nINGRESE UNA VALOR NUMERICO...\\n\")\n",
        "                else:\n",
        "                    prueba = vali_rang (id_buscar, 300000, 399999)\n",
        "                    break\n",
        "\n",
        "        reg_encontrado = None\n",
        "        for registro in reg_lista:\n",
        "            if registro.get(\"ID\") == id_buscar:\n",
        "                reg_encontrado = registro\n",
        "                break\n",
        "\n",
        "        if reg_encontrado:\n",
        "            indice = reg_lista.index(reg_encontrado)\n",
        "            print(f\"\\nREGISTRO ENCONTRADO EN LA POSICION:: {indice}\\n\")\n",
        "            print(reg_encontrado)\n",
        "            print(\"\\n\")\n",
        "\n",
        "        else:\n",
        "            print(\"\\nNO EXISTE UN REGISTRO CON ESA MATRICULA...\\n\")\n",
        "    else:\n",
        "        print(\"\\nNO HAY REGISTROS ALMACENADOS...\\n\")"
      ]
    },
    {
      "cell_type": "code",
      "execution_count": null,
      "metadata": {
        "id": "_spncsRCQ9Dp"
      },
      "outputs": [],
      "source": [
        "def ordenar_lista (lista):\n",
        "    lista.sort(key = lambda x: x.get(\"ID\"))"
      ]
    },
    {
      "cell_type": "code",
      "execution_count": null,
      "metadata": {
        "id": "cAWg3MF6RA5m"
      },
      "outputs": [],
      "source": [
        "def elimina_reg ():\n",
        "    global reg_lista\n",
        "    prueba = 0\n",
        "\n",
        "    if reg_lista:\n",
        "        while prueba == 0:\n",
        "            while True:\n",
        "                try:\n",
        "                    id_buscar = int(input(\"INGRESE LA ID DEL REGISTRO A ELIMINAR (6 digitos DEL: 300000 AL 399999): \"))\n",
        "                except:\n",
        "                    limpiar_pantalla ()\n",
        "                    print(\"\\nINGRESE UNA VALOR NUMERICO...\\n\")\n",
        "                else:\n",
        "                    prueba = vali_rang (id_buscar, 300000, 399999)\n",
        "                    break\n",
        "        prueba = 0\n",
        "\n",
        "        reg_encontrado = None\n",
        "        for registro in reg_lista:\n",
        "            if registro.get(\"ID\") == id_buscar:\n",
        "                reg_encontrado = registro\n",
        "                break\n",
        "        if reg_encontrado:\n",
        "            indice = reg_lista.index(reg_encontrado)\n",
        "            print(f\"\\nREGISTRO ENCONTRADO EN LA POSICION: {indice}\\n\")\n",
        "            print(reg_encontrado)\n",
        "            print(\"\\n\")\n",
        "\n",
        "            while prueba == 0:\n",
        "                while True:\n",
        "                    try:\n",
        "                        opc = int(input(\"SEGURO QUE DESEA ELIMINAR EL REGISTRO ? \\n1.-SI \\n2.-NO \\n:\"))\n",
        "                    except:\n",
        "                        limpiar_pantalla()\n",
        "                        print(\"SOLAMENTE INGRESE NUMEROS\")\n",
        "                    else:\n",
        "                        prueba = vali_rang (opc,1,2)\n",
        "                        break\n",
        "            prueba = 0\n",
        "\n",
        "            if opc == 1:\n",
        "                del reg_lista[indice]\n",
        "                limpiar_pantalla ()\n",
        "                print(\"\\nREGISTRO ELIMINADO...\\n\")\n",
        "            if opc == 2:\n",
        "                limpiar_pantalla ()\n",
        "                print(\"\\nELIMINACION CANCELADA...\\n\")\n",
        "        else:\n",
        "            print(\"\\nNO EXISTE NINGUN REGISTRO CON ESA MATRICULA...\\n\")\n",
        "    else:\n",
        "        print(\"\\nNO HAY REGISTROS ALMACENADOS...\\n\")"
      ]
    },
    {
      "cell_type": "code",
      "execution_count": null,
      "metadata": {
        "id": "JQBPlfIMRH0a"
      },
      "outputs": [],
      "source": [
        "def elimina_all_regs ():\n",
        "    global reg_lista\n",
        "    prueba = 0\n",
        "    if reg_lista:\n",
        "        while prueba == 0:\n",
        "            while True:\n",
        "                try:\n",
        "                    opc = int(input(\"DESEA VACIAR LA LISTA TOTALMENTE? \\n1.-SI \\n2.-NO \\n:\"))\n",
        "                except:\n",
        "                    limpiar_pantalla()\n",
        "                    print(\"\\nINGRESE SOLAMENTE NUMEROS...\\n\")\n",
        "                else:\n",
        "                    prueba = vali_rang (opc, 1, 2)\n",
        "                    break\n",
        "                    prueba == 0\n",
        "\n",
        "        if opc == 1:\n",
        "            limpiar_pantalla ()\n",
        "            reg_lista.clear ()\n",
        "            print(\"\\nTODOS LOS REGISTROS HAN SIDO ELIMINADOS...\\n\")\n",
        "        if opc == 2:\n",
        "            limpiar_pantalla ()\n",
        "            print(\"\\nELIMINACION CANCELADA...\\n\")\n",
        "    else:\n",
        "        limpiar_pantalla ()\n",
        "        print(\"\\nNO HAY REGISTROS ALMACENADOS...\\n\")"
      ]
    },
    {
      "cell_type": "code",
      "execution_count": null,
      "metadata": {
        "id": "izUq-rbCRNNG"
      },
      "outputs": [],
      "source": [
        "def gen_reg_auto ():\n",
        "    reg = {}\n",
        "    reg = reg_auto ()\n",
        "    almacena_regs (reg)"
      ]
    },
    {
      "cell_type": "code",
      "execution_count": null,
      "metadata": {
        "id": "Wy_3muhwRRVe"
      },
      "outputs": [],
      "source": [
        "def gen_reg_man ():\n",
        "    reg = {}\n",
        "    reg = reg_man ()\n",
        "    almacena_regs (reg)"
      ]
    },
    {
      "cell_type": "code",
      "execution_count": null,
      "metadata": {
        "id": "Y9_RenzSRWsd"
      },
      "outputs": [],
      "source": [
        "def imprimir_regs ():\n",
        "    global reg_lista\n",
        "    imprime_regs (reg_lista)"
      ]
    },
    {
      "cell_type": "code",
      "execution_count": null,
      "metadata": {
        "id": "8rD2bJRcRaoa"
      },
      "outputs": [],
      "source": [
        "def buscar_reg ():\n",
        "    busca_reg()"
      ]
    },
    {
      "cell_type": "code",
      "execution_count": null,
      "metadata": {
        "id": "ju8a3v1WReYh"
      },
      "outputs": [],
      "source": [
        "def ordenar_regs ():\n",
        "    global reg_lista\n",
        "    if reg_lista:\n",
        "        ordenar_lista (reg_lista)\n",
        "        limpiar_pantalla ()\n",
        "        print(\"\\nSE HA ORDENADO LA LISTA DE REGISTROS\\n\")\n",
        "    else:\n",
        "        limpiar_pantalla ()\n",
        "        print(\"\\nNO HAY REGISTROS ALMACENADOS EN LA LISTA...\\n\")"
      ]
    },
    {
      "cell_type": "code",
      "execution_count": null,
      "metadata": {
        "id": "7nInvm_RRi09"
      },
      "outputs": [],
      "source": [
        "def eliminar_reg ():\n",
        "    elimina_reg ()"
      ]
    },
    {
      "cell_type": "code",
      "execution_count": null,
      "metadata": {
        "id": "dIK0l1iqRnCT"
      },
      "outputs": [],
      "source": [
        "def eliminar_all_regs ():\n",
        "    elimina_all_regs ()"
      ]
    },
    {
      "cell_type": "code",
      "execution_count": 48,
      "metadata": {
        "colab": {
          "base_uri": "https://localhost:8080/",
          "height": 0
        },
        "id": "NBOX9xGKRs1D",
        "outputId": "0e7a69b7-071c-44eb-c31b-5d57b006b9df"
      },
      "outputs": [
        {
          "output_type": "stream",
          "name": "stdout",
          "text": [
            "FINALIZANDO...\n"
          ]
        }
      ],
      "source": [
        "opc = 1\n",
        "while opc != 0:\n",
        "    try:\n",
        "        print(\"\\n\")\n",
        "        print(\" M E N U \")\n",
        "        print(\"INGRESE LA OPCION A REALIZAR: \")\n",
        "        print(\"1.- AGREGAR 1 REGISTRO (AUTOMATICO)\")\n",
        "        print(\"2.- AGREGAR 1 REGISTRO (MANUAL)\")\n",
        "        print(\"3.- IMPRIMIR LISTA \")\n",
        "        print(\"4.- BUSCAR (POR ID)\")\n",
        "        print(\"5.- ORDENAR\")\n",
        "        print(\"6.- ELIMINAR\")\n",
        "        print(\"7.- BORRAR TODA LA LISTA\")\n",
        "        print(\"0.- SALIR\")\n",
        "        opc = int(input(\"\"))\n",
        "    except:\n",
        "        limpiar_pantalla ()\n",
        "        print(\"\\nSOLO INGRESE NUMEROS...\\n\")\n",
        "    else:\n",
        "        if opc == 1:\n",
        "            limpiar_pantalla ()\n",
        "            gen_reg_auto ()\n",
        "\n",
        "        elif opc == 2:\n",
        "            limpiar_pantalla ()\n",
        "            gen_reg_man ()\n",
        "\n",
        "        elif opc == 3:\n",
        "            limpiar_pantalla ()\n",
        "            imprimir_regs ()\n",
        "\n",
        "        elif opc == 4:\n",
        "            limpiar_pantalla ()\n",
        "            buscar_reg ()\n",
        "\n",
        "        elif opc == 5:\n",
        "            limpiar_pantalla ()\n",
        "            ordenar_regs ()\n",
        "\n",
        "        elif opc == 6:\n",
        "            limpiar_pantalla ()\n",
        "            eliminar_reg ()\n",
        "\n",
        "        elif opc == 7:\n",
        "            limpiar_pantalla ()\n",
        "            eliminar_all_regs ()\n",
        "\n",
        "        elif opc < 0 or opc > 7:\n",
        "            limpiar_pantalla ()\n",
        "            print(\"\\n\")\n",
        "            print(\"INGRESE UN NUMERO DENTRO DEL RANGO DE OPCIONES...\")\n",
        "            print(\"\\n\")\n",
        "        elif opc == 0:\n",
        "            limpiar_pantalla ()\n",
        "            print(\"FINALIZANDO...\")"
      ]
    }
  ],
  "metadata": {
    "colab": {
      "provenance": [],
      "authorship_tag": "ABX9TyPdh8CTCe5boJa6acYzvJXB",
      "include_colab_link": true
    },
    "kernelspec": {
      "display_name": "Python 3",
      "name": "python3"
    },
    "language_info": {
      "name": "python"
    }
  },
  "nbformat": 4,
  "nbformat_minor": 0
}