{
  "nbformat": 4,
  "nbformat_minor": 0,
  "metadata": {
    "colab": {
      "provenance": [],
      "authorship_tag": "ABX9TyMiZlRKSUWPzhfDJrgnpP1B",
      "include_colab_link": true
    },
    "kernelspec": {
      "name": "python3",
      "display_name": "Python 3"
    },
    "language_info": {
      "name": "python"
    }
  },
  "cells": [
    {
      "cell_type": "markdown",
      "metadata": {
        "id": "view-in-github",
        "colab_type": "text"
      },
      "source": [
        "<a href=\"https://colab.research.google.com/github/lesly-gallardo/clasepython/blob/main/GGL_PY_ACT3.ipynb\" target=\"_parent\"><img src=\"https://colab.research.google.com/assets/colab-badge.svg\" alt=\"Open In Colab\"/></a>"
      ]
    },
    {
      "cell_type": "markdown",
      "source": [
        "#ACTIVIDAD 3\n",
        "LESLY GALLARDO GONZALEZ\n",
        "\n",
        "MATRICULA: 370027\n",
        "\n",
        "29 AGOSTO 2023"
      ],
      "metadata": {
        "id": "6JiS1wNn9yon"
      }
    },
    {
      "cell_type": "markdown",
      "source": [
        "1.- Algoritmo que lea 3 calificaciones calcule el promedio del alumno y desplegar:\n",
        "\n",
        "Si prom < 30 Repetir\n",
        "\n",
        "Si prom >=30 y prom <60 extraordinario\n",
        "\n",
        "Si prom >=60 y prom <70 suficiente\n",
        "\n",
        "Si prom >=70 y prom <80 Regular\n",
        "\n",
        "Si prom >=80 y prom <90 bien\n",
        "\n",
        "Si prom >=90 y prom <98 muy bien\n",
        "\n",
        "Si prom >=98 y prom <=100 excelente\n",
        "\n",
        "Si prom >100 Error en promedio\n",
        "\n",
        "Realizar el algoritmo optimizado"
      ],
      "metadata": {
        "id": "iKJH2_QO-XN1"
      }
    },
    {
      "cell_type": "code",
      "execution_count": 26,
      "metadata": {
        "id": "f7uHylGl8367",
        "colab": {
          "base_uri": "https://localhost:8080/",
          "height": 0
        },
        "outputId": "85abcda2-3fa2-4d66-e589-003434ac32ae"
      },
      "outputs": [
        {
          "output_type": "stream",
          "name": "stdout",
          "text": [
            "DAME LA CALIFICACION 1: 80\n",
            "DAME LA CALIFICACION 2: 70\n",
            "DAME LA CALIFICACION 3: 75\n",
            "EL PROMEDIO ES 75.0\n",
            "R E G U L A R\n"
          ]
        }
      ],
      "source": [
        "calif1=float(input(\"DAME LA CALIFICACION 1: \"))\n",
        "calif2=float(input(\"DAME LA CALIFICACION 2: \"))\n",
        "calif3=float(input(\"DAME LA CALIFICACION 3: \"))\n",
        "prom=(calif1+calif2+calif3)/3\n",
        "print(f\"EL PROMEDIO ES {prom}\")\n",
        "if prom<30:\n",
        "  print(\"DEBES R E P E T I R\")\n",
        "elif prom<60:\n",
        "  print(\"E X T R A O R D I N A R I O\")\n",
        "elif prom<70:\n",
        "  print(\"S U F I C I E N T E\")\n",
        "elif prom<80:\n",
        "  print(\"R E G U L A R\")\n",
        "elif prom<90:\n",
        "  print (\"B I E N\")\n",
        "elif prom<98:\n",
        "  print(\"M U Y  B I E N\")\n",
        "elif prom<=100:\n",
        "  print (\"E X C E L E N T E\")\n",
        "else:\n",
        "  print(\"E R R O R  E N  P R O M E D I O\")"
      ]
    },
    {
      "cell_type": "markdown",
      "source": [
        "2.- Algoritmo que sirva para calcular el salario semanal de un trabajador donde se obtiene como dato de entrada las horas semanales trabajadas, el salario por hora.\n",
        "\n",
        "El programa deberá calcular el salario normal, salario extra y salario total, considerando lo siguiente:\n",
        "\n",
        "Jornada Normal de 40 horas.\n",
        "El salario normal se considera las horas trabajadas menores o igual a la jornada normal\n",
        "Salario extra se considera las horas trabajadas mayores a la jornada normal y se pagan dobles las primeras 9 y triples a partir de la décima hora extra"
      ],
      "metadata": {
        "id": "qxHeSAaLCsWC"
      }
    },
    {
      "cell_type": "code",
      "source": [
        "jn=40\n",
        "ht=int(input(\"DAME HORAS TRABAJADAS: \"))\n",
        "sxh=float(input(\"DAME SALARIO POR HORA: \"))\n",
        "if ht>jn:\n",
        "  sn=jn*sxh\n",
        "else:\n",
        "  sn=ht*sxh\n",
        "  se=0\n",
        "if ht>(jn+9):\n",
        "  se=(9*sxh*2)+(ht-(jn+9))*sxh*3\n",
        "else:\n",
        "   se=(ht-jn*sxh*2)\n",
        "\n",
        "st=sn+se\n",
        "\n",
        "print(f\"HORAS TRABAJADAS: {ht}\")\n",
        "print(f\"SALARIO POR HORA: {sxh}\")\n",
        "print(f\"SALARIO NORMAL: {sn}\")\n",
        "print(f\"SALARIO EXTRA: {se}\")\n",
        "print(f\"SALARIO TOTAL: {st}\")\n"
      ],
      "metadata": {
        "colab": {
          "base_uri": "https://localhost:8080/"
        },
        "id": "sTf-c_iTCwa5",
        "outputId": "062cc1de-9326-41bc-bdfd-bc76b9c4b353"
      },
      "execution_count": null,
      "outputs": [
        {
          "output_type": "stream",
          "name": "stdout",
          "text": [
            "DAME HORAS TRABAJADAS: 52\n",
            "DAME SALARIO POR HORA: 34\n",
            "HORAS TRABAJADAS: 52\n",
            "SALARIO POR HORA: 34.0\n",
            "SALARIO NORMAL: 1360.0\n",
            "SALARIO EXTRA: 918.0\n",
            "SALARIO TOTAL: 2278.0\n"
          ]
        }
      ]
    },
    {
      "cell_type": "markdown",
      "source": [
        "3.- Algoritmo que sirva para desplegar el Total de una llamada telefónica donde se pide como datos de entrada los minutos y el tipo de llamada, se cobra de la siguiente manera:\n",
        "\n",
        "1.- Llamada Local $3.00 sin límite de tiempo\n",
        "\n",
        "2.- Llamada Nacional 7.00 por los 3 primeros minutos y $2.00 minuto adicional\n",
        "\n",
        "3.- Llamada Internacional 9.00 por los 2 primeros minutos y $4.00 minuto adicional\n",
        "\n",
        " Desplegar, Subtotal,Iva (16%) y Total.\n",
        "\n"
      ],
      "metadata": {
        "id": "iGmdUF80IXkd"
      }
    },
    {
      "cell_type": "code",
      "source": [
        "min=float(input(\"INGRESA LA DURACION EN MINUTOS DE LA LLAMADA:\"))\n",
        "print(\"\\nTIPOS DE LLAMADAS\\n\")\n",
        "print(\"1.-LLAMADA LOCAL\")\n",
        "print(\"2.-LLAMADA NACIONAL\")\n",
        "print(\"3.-LLAMADA INTERNACIONAL\\n\")\n",
        "tipollamada=int(input(\"INGRESA EL TIPO DE LLAMADA QUE QUIERES:\"))\n",
        "if tipollamada==1:\n",
        "  subt=min*3.00\n",
        "  iva=subt*0.16\n",
        "  total=subt+iva\n",
        "  print(f\"SUBTOTAL: {subt}\")\n",
        "  print(f\"IVA (16%): {iva}\")\n",
        "  print(f\"TOTAL: {total}\")\n",
        "else:\n",
        "  if tipollamada==2:\n",
        "    if min<=3:\n",
        "     subt = min*7.00\n",
        "     iva=subt*0.16\n",
        "     total=subt+iva\n",
        "     print(f\"SUBTOTAL: {subt}\")\n",
        "     print(f\"IVA (16%): {iva}\")\n",
        "     print(f\"TOTAL: {total}\")\n",
        "    else:\n",
        "      subt=3*7.00\n",
        "      subt=(((min-3)*2.00)+subt)\n",
        "      iva=subt*0.16\n",
        "      total=subt+iva\n",
        "      print(f\"SUBTOTAL: {subt}\")\n",
        "      print(f\"IVA (16%): {iva}\")\n",
        "      print(f\"TOTAL: {total}\")\n",
        "  elif min<=2:\n",
        "      subt=min*9.00\n",
        "      iva=subt*0.16\n",
        "      total=subt+iva\n",
        "      print(f\"SUBTOTAL: {subt}\")\n",
        "      print(f\"IVA (16%): {iva}\")\n",
        "      print(f\"TOTAL: {total}\")\n",
        "  else:\n",
        "      subt=2*9.00\n",
        "      subt=(((min-2)*4.00)+subt)\n",
        "      iva=subt*0.16\n",
        "      total=subt+iva\n",
        "      print(f\"SUBTOTAL: {subt}\")\n",
        "      print(f\"IVA (16%): {iva}\")\n",
        "      print(f\"TOTAL: {total}\")\n"
      ],
      "metadata": {
        "id": "_-oSEZ8TI-98",
        "colab": {
          "base_uri": "https://localhost:8080/",
          "height": 0
        },
        "outputId": "5cdf9b37-cf44-4e38-d748-df8a412d0970"
      },
      "execution_count": 27,
      "outputs": [
        {
          "output_type": "stream",
          "name": "stdout",
          "text": [
            "INGRESA LA DURACION EN MINUTOS DE LA LLAMADA:7\n",
            "\n",
            "TIPOS DE LLAMADAS\n",
            "\n",
            "1.-LLAMADA LOCAL\n",
            "2.-LLAMADA NACIONAL\n",
            "3.-LLAMADA INTERNACIONAL\n",
            "\n",
            "INGRESA EL TIPO DE LLAMADA QUE QUIERES:2\n",
            "SUBTOTAL: 29.0\n",
            "IVA (16%): 4.64\n",
            "TOTAL: 33.64\n"
          ]
        }
      ]
    },
    {
      "cell_type": "markdown",
      "source": [
        "4.- Algoritmo que sirva para calcular el Total a pagar por consumo de agua, donde el dato de entrada son los M3 de agua consumidos, Tomar en cuenta que se cobra escalonada de la Siguiente manera:\n",
        "\n",
        "Rango1: 0 al 4 M3 $50 x facturación sin importar cuánto consumió en este rango\n",
        "\n",
        "Rango2: 5 a 15 M3 $8.00 x M3\n",
        "\n",
        "Rango3: 16 a 50 M3 $10.00 x M3\n",
        "\n",
        "Rango4: 51 M3 en adelante $11.00 x M3\n",
        "\n",
        "Nota: Desplegar SubTotal, Iva(16%), y Total a pagar."
      ],
      "metadata": {
        "id": "y2idKG7J-Vbl"
      }
    },
    {
      "cell_type": "code",
      "source": [
        "m3=int(input(\"INGRESA LOS m3 DE AGUA QUE GASTAN EN TU CASA: \"))\n",
        "if 0>=4:\n",
        "  ran1=50\n",
        "  iva=ran1*0.16\n",
        "  total=ran1+iva\n",
        "  print (f\"SUBTOTAL: {ran1}\")\n",
        "  print (f\"IVA: {iva}\")\n",
        "  print (f\"TOTAL: {total}\")\n",
        "elif 5<=15:\n",
        " ran2=(((m3-4)*8)*50)+50\n",
        " iva=ran2*0.16\n",
        " total=ran2+iva\n",
        " print (f\"SUBTOTAL: {ran2}\")\n",
        " print (f\"IVA: {iva}\")\n",
        " print (f\"TOTAL: {total}\")\n",
        "elif 16<50:\n",
        "  ran3=((((m3-4)*8)*50)+50)+((m3-15)*10)*50\n",
        "  iva=ran3*0.16\n",
        "  total=ran3+iva\n",
        "  print (f\"SUBTOTAL: {ran3}\")\n",
        "  print (f\"IVA: {iva}\")\n",
        "  print (f\"TOTAL: {total}\")\n",
        "elif m3>51:\n",
        "  ran4=((((((m3-4)*8)*50)+50)+((m3-15)*10)*50)*11)*50\n",
        "  iva=ran4*0.16\n",
        "  total=ran4+iva\n",
        "  print (f\"SUBTOTAL: {ran4}\")\n",
        "  print (f\"IVA: {iva}\")\n",
        "  print (f\"TOTAL: {total}\")\n",
        "\n",
        "\n"
      ],
      "metadata": {
        "id": "E4N3fCFM-ZHc",
        "colab": {
          "base_uri": "https://localhost:8080/",
          "height": 0
        },
        "outputId": "3a4aa6be-5273-4dda-f373-79f28ee21cd5"
      },
      "execution_count": 29,
      "outputs": [
        {
          "output_type": "stream",
          "name": "stdout",
          "text": [
            "INGRESA LOS m3 DE AGUA QUE GASTAN EN TU CASA: 16\n",
            "SUBTOTAL: 4850\n",
            "IVA: 776.0\n",
            "TOTAL: 5626.0\n"
          ]
        }
      ]
    },
    {
      "cell_type": "markdown",
      "source": [
        "5- En la materia de Metodología de la programación se aplican 5 exámenes, calcular el promedio final de la materia donde la calificación menor de los exámenes se anula y el promedio se calcula en base a 4 exámenes."
      ],
      "metadata": {
        "id": "N7PBMMslE0au"
      }
    },
    {
      "cell_type": "code",
      "source": [
        "cal1=float(input(\"DAME LA CALIFICACION DEL 1ER EXAMEN: \"))\n",
        "cal2=float(input(\"DAME LA CALIFICACION DEL 2DO EXAMEN: \"))\n",
        "cal3=float(input(\"DAME LA CALIFICACION DEL 3ER EXAMEN: \"))\n",
        "cal4=float(input(\"DAME LA CALIFICACION DEL 4TO EXAMEN: \"))\n",
        "cal5=float(input(\"DAME LA CALIFICACION DEL 5TO EXAMEN: \"))\n",
        "CalMen=cal1\n",
        "if cal2<CalMen:\n",
        "  CalMen=cal2\n",
        "elif cal3<CalMen:\n",
        "  CalMen=cal3\n",
        "elif cal4<CalMen:\n",
        "  CalMen=cal4\n",
        "elif cal5<CalMen:\n",
        "  CalMen=cal5\n",
        "prom=(cal1+cal2+cal3+cal4+cal5-CalMen)/4\n",
        "print (f\"LA CALIFICACION QUE SE ELIMINA POR SER LA MENOR ES: {CalMen}\")\n",
        "print(f\"TU PROMEDIO ES: {prom}\")"
      ],
      "metadata": {
        "id": "45UQr03XE4Fc",
        "colab": {
          "base_uri": "https://localhost:8080/",
          "height": 0
        },
        "outputId": "68857391-6b65-4a7a-f498-e8aa5365336d"
      },
      "execution_count": 31,
      "outputs": [
        {
          "output_type": "stream",
          "name": "stdout",
          "text": [
            "DAME LA CALIFICACION DEL 1ER EXAMEN: 65\n",
            "DAME LA CALIFICACION DEL 2DO EXAMEN: 80\n",
            "DAME LA CALIFICACION DEL 3ER EXAMEN: 95\n",
            "DAME LA CALIFICACION DEL 4TO EXAMEN: 68\n",
            "DAME LA CALIFICACION DEL 5TO EXAMEN: 75\n",
            "LA CALIFICACION QUE SE ELIMINA POR SER LA MENOR ES: 65.0\n",
            "TU PROMEDIO ES: 79.5\n"
          ]
        }
      ]
    },
    {
      "cell_type": "markdown",
      "source": [
        "6.- Algoritmo que sirva para el juego del CHINCHAMPU (Piedra, Papel, Tijera) para 1 jugador y la computadora, (usar condición anidada)\n",
        "\n"
      ],
      "metadata": {
        "id": "HDCZeBxVJv0-"
      }
    },
    {
      "cell_type": "code",
      "source": [
        "from random import randint\n",
        "\n",
        "print (\"MENU DE OPCIONES:\\n\")\n",
        "print(\"1.-PIEDRA\")\n",
        "print(\"2.-PAPEL\")\n",
        "print(\"3.-TIJERA\")\n",
        "n1=int(input(\"\\nINGRESA LA OPCION QUE QUIERES: \"))\n",
        "n2=randint(1,3)\n",
        "\n",
        "if n1==1 and n2==3:\n",
        " print(\"ELEGISTE PIEDRA.\")\n",
        " print(\"LA COMPUTADORA ELIGIO PIEDRA.\")\n",
        " print (\"E M P A T E °.°\")\n",
        "elif n1==2 and n2==2:\n",
        " print(\"ELEGISTE PAPEL.\")\n",
        " print (\"LA COMPUTADORA ELIGIO PAPEL.\")\n",
        " print (\"E M P A T E °.°\")\n",
        "elif n1==3 and n2==3:\n",
        " print(\"ELEJISTE TIJERA.\")\n",
        " print(\"LA COMPUTADORA ELIGIO TIJERA\")\n",
        " print (\"E M P A T E °.°\")\n",
        "elif n1==1 and n2==2:\n",
        " print (\"ELEGISTE PIEDRA\")\n",
        " print (\"LA COMPUTADORA ELIGIO PAPEL\")\n",
        " print (\"P E R D I S T E °∩°\")\n",
        "elif n1==1 and n2==3:\n",
        " print(\"ELEGISTE PIEDRA\")\n",
        " print (\"LA COMPUTADORA ELIGIO TIJERA\")\n",
        " print(\"G A N A S T E °w°\")\n",
        "elif n1==2 and n2==1:\n",
        " print(\"ELEGISTE PAPEL.\")\n",
        " print (\"LA MAQUINA ESCOGIO PIEDRA\")\n",
        " print (\"G A N A S T E °w°\")\n",
        "elif n1==2 and n2==3:\n",
        " print (\"ELEGISTE PAPEL.\")\n",
        " print (\"LA COMPUTADORA ELIGIO TIJERA.\")\n",
        " print (\"P E R D I S T E °∩°\")\n",
        "elif n1==3 and n2==1:\n",
        " print(\"ELEGISTE TIJERA.\")\n",
        " print(\"LA COMPUTADORA ELIGIO PIEDRA\")\n",
        " print (\"P E R D I S T E\")\n",
        "elif n1==3 and n2==2:\n",
        " print (\"ELEGISTE TIJERA.\")\n",
        " print (\"LA COMPUTADORA ELIGIO PAPEL.\")\n",
        " print (\"G A N A S T E °w°\")\n",
        "else:\n",
        "  print(\"ERROR\")\n"
      ],
      "metadata": {
        "id": "AW-Yp6TRKdGJ",
        "colab": {
          "base_uri": "https://localhost:8080/",
          "height": 0
        },
        "outputId": "10290014-f3ec-43e1-d8c5-62e5fe0afee8"
      },
      "execution_count": 32,
      "outputs": [
        {
          "output_type": "stream",
          "name": "stdout",
          "text": [
            "MENU DE OPCIONES:\n",
            "\n",
            "1.-PIEDRA\n",
            "2.-PAPEL\n",
            "3.-TIJERA\n",
            "\n",
            "INGRESA LA OPCION QUE QUIERES: 1\n",
            "ELEGISTE PIEDRA.\n",
            "LA COMPUTADORA ELIGIO PIEDRA.\n",
            "E M P A T E °.°\n"
          ]
        }
      ]
    },
    {
      "cell_type": "markdown",
      "source": [
        "8.- Una tienda de electrónica ofrece descuentos a sus clientes, dependiendo del tipo de producto que compren. Si el cliente compra una computadora, tiene un descuento del 5% en el precio de la computadora y un 10% de descuento en una impresora si la compra junto con la computadora. Si el cliente compra una televisión, tiene un descuento del 7% en el precio de la televisión y un 15% de descuento en una barra de sonido si la compra junto con la televisión. Si el cliente compra una consola de videojuegos, tiene un descuento del 10% en el precio de la consola y un 20% de descuento en un juego si lo compra junto con la consola. Escribe un programa que calcule el precio a pagar por un cliente, tomando en cuenta los descuentos correspondientes."
      ],
      "metadata": {
        "id": "93CryQ5DAzvz"
      }
    },
    {
      "cell_type": "code",
      "source": [
        "print (\"MENU DE OPCIONES:\\n\")\n",
        "print(\"1.-COMPUTADORA\")\n",
        "print(\"2.TELEVISION\")\n",
        "print(\"3.-CONSOLA DE VIDEO JUEGOS\")\n",
        "op=int(input(\"\\nINGRESA LA OPCION QUE QUIERES: \"))\n",
        "\n",
        "if op==1:\n",
        "  precio=float(input(\"\\nDAME EL PRECIO DE LA COMPUTADORA: \"))\n",
        "  print(f\"\\nEL PRECIO DE LA COMPUTADORA ES: {precio}\")\n",
        "  desc=(precio*5)/100\n",
        "  totalpc=precio-desc\n",
        "  print (f\"\\nEL PRECIO DE LA COMPUTADORA CON EL DESCUENTO ES DE: {totalpc}\");\n",
        "  print(\"\\nESCOJE UNA OPCION:\")\n",
        "  print(\"\\n1.-SI\")\n",
        "  print(\"2.NO\")\n",
        "  imp=int(input(\"\\nDESEA AGREGAR LA IMPRESORA CON DESCUENTO DE 10% ? \"))\n",
        "\n",
        "  if imp==1:\n",
        "    precio=float(input(\"\\nDAME EL PRECIO DE LA IMPRESORA: \"))\n",
        "    print (f\"\\nEL PRECIO DE LA IMPRESORA ES: {precio}\")\n",
        "    desc=(precio*10)/100\n",
        "    subtotal=precio-desc\n",
        "    total=totalpc+subtotal\n",
        "    print (f\"\\nEl PRECIO DE LA IMPRESORA CON DESCUENTO ES:{subtotal}\")\n",
        "    print(f\"\\n\\n\\n\\t\\t\\t\\t\\tEL TOTAL DE LA COMPUTADORA Y LA IMPRESORA ES: {total}\");\n",
        "  else:\n",
        "    print(f\"\\n\\n\\n\\t\\t\\t\\t\\tEL TOTAL DE LA COMPUTADORA ES: {totalpc}\")\n",
        "elif op==2:\n",
        "  precio=float(input(\"\\nDAME EL PRECIO DE LA TELEVISION: \"))\n",
        "  print(f\"\\nEL PRECIO DE LA TELEVISION ES: {precio}\")\n",
        "  desc=(precio*7)/100\n",
        "  totaltv=precio-desc\n",
        "  print (f\"\\nEL PRECIO DE LA TELEVISION CON EL DESCUENTO ES DE: {totaltv}\");\n",
        "  print(\"\\n\\nESCOJE UNA OPCION:\")\n",
        "  print(\"\\n1.-SI\")\n",
        "  print(\"2.NO\")\n",
        "  barrasound=int(input(\"\\nDESEA AGREGAR LA BARRA DE SONIDO CON DESCUENTO DE 15% ? \"))\n",
        "  if barrasound==1:\n",
        "    precio=float(input(\"\\nDAME EL PRECIO DE LA BARRA DE SONIDO: \"))\n",
        "    print(f\"\\nEL PRECIO DE LA BARRA DE SONIDO ES DE: {precio}\")\n",
        "    desc=(precio*15)/100\n",
        "    subtotal=precio-desc\n",
        "    total=totaltv+subtotal\n",
        "    print(f\"\\nEL PRECIO DE LA BARRA DE SONIDO CON DESCUENTO ES DE: {subtotal}\")\n",
        "    print(f\"\\n\\n\\n\\t\\t\\t\\t\\tEL PRECIO TOTAL DE LA TV Y LA BARRA DE SONIDO ES DE: {total}\")\n",
        "  else:\n",
        "    print(f\"\\n\\n\\n\\t\\t\\t\\t\\tEL PRECIO TOTAL DE LA TELEVISION ES DE: {totaltv}\")\n",
        "elif op==3:\n",
        "  precio=float(input(\"\\nDAME EL PRECIO DE LA CONSOLA DE VIDEOJUEGOS: \"))\n",
        "  print(f\"\\nEL PRECIO DE LA CONSOLA DE VIDEOJUEGOS ES DE: {precio}\")\n",
        "  desc=(precio*10)/100\n",
        "  totalcons=precio-desc\n",
        "  print (f\"\\nEL PRECIO DE LA CONSOLA DE VIDEOJUEGOS CON EL DESCUENTO ES DE: {totalcons}\");\n",
        "  print(\"\\n\\nESCOJE UNA OPCION:\")\n",
        "  print(\"\\n1.-SI\")\n",
        "  print(\"2.NO\")\n",
        "  juego=int(input(\"\\nDESEA AGREGAR 1 VIDEOJUEGO CON DESCUENTO DE 20% ? \"))\n",
        "  if juego==1:\n",
        "    precio=float(input(\"\\nDAME EL PRECIO DEL VIDEOJUEGO: \"))\n",
        "    print(f\"\\nEL PRECIO DEL VIDEOJUEGO ES DE: {precio}\")\n",
        "    desc=(precio*20)/100\n",
        "    subtotal=precio-desc\n",
        "    total=totalcons+subtotal\n",
        "    print(f\"\\nEL PRECIO DEL VIDEOJUEGO CON DESCUENTO ES DE: {subtotal}\")\n",
        "    print(f\"\\n\\n\\n\\t\\t\\t\\t\\tEL PRECIO TOTAL DE LA CONSOLA Y EL VIDEOJUEGO ES DE: {total}\")\n",
        "  else:\n",
        "    print(f\"\\n\\n\\n\\t\\t\\t\\t\\tEL PRECIO TOTAL DE LA CONSOLA ES DE: {totalcons}\")"
      ],
      "metadata": {
        "colab": {
          "base_uri": "https://localhost:8080/",
          "height": 0
        },
        "id": "SEPwgdSbVfC2",
        "outputId": "193f5163-1b58-4a5c-cc01-6c2e76bcc621"
      },
      "execution_count": 2,
      "outputs": [
        {
          "output_type": "stream",
          "name": "stdout",
          "text": [
            "MENU DE OPCIONES:\n",
            "\n",
            "1.-COMPUTADORA\n",
            "2.TELEVISION\n",
            "3.-CONSOLA DE VIDEO JUEGOS\n",
            "\n",
            "INGRESA LA OPCION QUE QUIERES: 1\n",
            "\n",
            "DAME EL PRECIO DE LA COMPUTADORA: 14000\n",
            "\n",
            "EL PRECIO DE LA COMPUTADORA ES: 14000.0\n",
            "\n",
            "EL PRECIO DE LA COMPUTADORA CON EL DESCUENTO ES DE: 13300.0\n",
            "\n",
            "ESCOJE UNA OPCION:\n",
            "\n",
            "1.-SI\n",
            "2.NO\n",
            "\n",
            "DESEA AGREGAR LA IMPRESORA CON DESCUENTO DE 10% ? 1\n",
            "\n",
            "DAME EL PRECIO DE LA IMPRESORA: 3000\n",
            "\n",
            "EL PRECIO DE LA IMPRESORA ES: 3000.0\n",
            "\n",
            "El PRECIO DE LA IMPRESORA CON DESCUENTO ES:2700.0\n",
            "\n",
            "\n",
            "\n",
            "\t\t\t\t\tEL TOTAL DE LA COMPUTADORA Y LA IMPRESORA ES: 16000.0\n"
          ]
        }
      ]
    },
    {
      "cell_type": "markdown",
      "source": [
        "9.- En una tienda de ropa, los precios de los productos cambian dependiendo de la temporada. Durante la temporada de verano, todos los productos tienen un descuento del 20%. Durante la temporada de invierno, los productos con etiqueta roja tienen un descuento del 30% y los productos con etiqueta verde tienen un descuento del 15%. Durante la temporada de primavera y otoño, los productos con etiqueta amarilla tienen un descuento del 10%. Escribe un programa que calcule el precio a pagar por un cliente, tomando en cuenta los descuentos correspondientes.\n",
        "\n"
      ],
      "metadata": {
        "id": "sE_mjSXbTnqa"
      }
    },
    {
      "cell_type": "code",
      "source": [
        "\n",
        "print (\"MENU DE OPCIONES:\\n\")\n",
        "print(\"1.TEMPORADA DE VERANO\")\n",
        "print(\"2.TEMPORADA DE INVIERNO\")\n",
        "print(\"3.-TEMPORADA DE PRIMAVERA Y OTOÑO\")\n",
        "op=int(input(\"\\nQUE TEMPORADA ESTA VIGENTE HASTA EL DIA DE HOY: \"))\n",
        "if op==1:\n",
        "  print(\"\\n ES TEMPORADA DE VERANO POR LO TANTO TODOS LOS ARTICULOS CUENTAN CON 20% DE DESCUENTO.\")\n",
        "  precio=float(input(\"\\nDAME EL PRECIO DEL ARTICULO: \"))\n",
        "  desc=(precio*20)/100\n",
        "  total=precio-desc\n",
        "  print(f\"\\nSUBTOTAL SIN DESCUENTO= {precio}\")\n",
        "  print(f\"\\n\\n\\nTOTAL A PAGAR= {total}\")\n",
        "\n",
        "elif op==2:\n",
        "  print(\"\\n ES TEMPORADA DE INVIERNO, POR LO TANTO, LOS ARTICULOS CON ETIQUETA ROJA CUENTAN CON EL 30 % DE DESCUENTO\\n MIENTRAS LOS DE ETIQUETA VERDE 15% DE DESCUENTO.\")\n",
        "  print( \"\\nOPCION:\\n\")\n",
        "  print(\"1.-TU ARTICULO TIENE ETIQUETA ROJA\")\n",
        "  print(\"2.-TU ARTICULO TIENE ETIQUETA VERDE\")\n",
        "  print(\"3.-TU ARTICULO TIENE ETIQUETA DE OTRO COLOR\")\n",
        "  opc=int(input(\"\\nESCOJE LA OPCION QUE TENGAS:\"))\n",
        "  if opc==1:\n",
        "   print(\"\\nESCOGISTE OPCION 1. ARTICULO CON ETIQUETA ROJA\")\n",
        "   precio=float(input(\"\\nDAME EL PRECIO DEL ARTICULO: \"))\n",
        "   desc=(precio*30)/100\n",
        "   total=precio-desc\n",
        "   print(\"\\nEL ARTICULO CUENTA CON EL 30% DE DESCUENTO\")\n",
        "   print(f\"\\nSUBTOTAL SIN DESCUENTO= {precio}\")\n",
        "   print(f\"\\n\\n\\nTOTAL A PAGAR= {total}\")\n",
        "  elif opc==2:\n",
        "   print(\"\\nESCOGISTE OPCION 2. ARTICULO CON ETIQUETA VERDE\")\n",
        "   precio=float(input(\"\\nDAME EL PRECIO DEL ARTICULO: \"))\n",
        "   desc=(precio*15)/100\n",
        "   total=precio-desc\n",
        "   print(\"\\nEL ARTICULO CUENTA CON EL 15% DE DESCUENTO\")\n",
        "   print(f\"\\nSUBTOTAL SIN DESCUENTO= {precio}\")\n",
        "   print(f\"\\n\\n\\nTOTAL A PAGAR= {total}\")\n",
        "  else:\n",
        "    print(\"\\nESCOJISTE LA OPCION 3.ARTICULO CON ETIQUETA DE OTRO COLOR\")\n",
        "    precio=float(input(\"\\nDAME EL PRECIO DEL ARTICULO: \"))\n",
        "    print(\"\\nESTE ARTICULO NO TIENE DESCUENTO\")\n",
        "    print (f\"\\n\\n\\nTOTAL A PAGAR: {precio}\")\n",
        "elif op==3:\n",
        "  print(\"\\nES TEMPORADA DE PRIMAVERA-OTOÑO, POR LO TANTO LOS ARTICULOS CON ETIQUETA AMARILLA TIENEN 15% DE DESCUENTO\")\n",
        "  print( \"\\nOPCION:\\n\")\n",
        "  print(\"1.-TU ARTICULO TIENE ETIQUETA AMARILLA\")\n",
        "  print(\"2.-TU ARTICULO TIENE ETIQUETA DE OTRO COLOR\")\n",
        "  opci=int(input(\"\\nESCOJE LA OPCION QUE TENGAS:\"))\n",
        "  if opci==1:\n",
        "   print(\"\\nESCOGISTE OPCION 1. ARTICULO CON ETIQUETA AMARILLA\")\n",
        "   precio=float(input(\"\\nDAME EL PRECIO DEL ARTICULO: \"))\n",
        "   desc=(precio*15)/100\n",
        "   total=precio-desc\n",
        "   print(\"\\nEL ARTICULO CUENTA CON EL 15% DE DESCUENTO\")\n",
        "   print(f\"\\nSUBTOTAL SIN DESCUENTO= {precio}\")\n",
        "   print(f\"\\n\\n\\nTOTAL A PAGAR= {total}\")\n",
        "  else:\n",
        "   print(\"\\nESCOJISTE LA OPCION 2.ARTICULO CON ETIQUETA DE OTRO COLOR\")\n",
        "   precio=float(input(\"\\nDAME EL PRECIO DEL ARTICULO: \"))\n",
        "   print(\"\\nESTE ARTICULO NO TIENE DESCUENTO\")\n",
        "   print (f\"\\n\\n\\nTOTAL A PAGAR: {precio}\")"
      ],
      "metadata": {
        "colab": {
          "base_uri": "https://localhost:8080/",
          "height": 0
        },
        "id": "BJO8J2r9TzLb",
        "outputId": "c9107fc4-7af5-4a3c-9919-54d0924d19de"
      },
      "execution_count": 33,
      "outputs": [
        {
          "output_type": "stream",
          "name": "stdout",
          "text": [
            "MENU DE OPCIONES:\n",
            "\n",
            "1.TEMPORADA DE VERANO\n",
            "2.TEMPORADA DE INVIERNO\n",
            "3.-TEMPORADA DE PRIMAVERA Y OTOÑO\n",
            "\n",
            "QUE TEMPORADA ESTA VIGENTE HASTA EL DIA DE HOY: 2\n",
            "\n",
            " ES TEMPORADA DE INVIERNO, POR LO TANTO, LOS ARTICULOS CON ETIQUETA ROJA CUENTAN CON EL 30 % DE DESCUENTO\n",
            " MIENTRAS LOS DE ETIQUETA VERDE 15% DE DESCUENTO.\n",
            "\n",
            "OPCION:\n",
            "\n",
            "1.-TU ARTICULO TIENE ETIQUETA ROJA\n",
            "2.-TU ARTICULO TIENE ETIQUETA VERDE\n",
            "3.-TU ARTICULO TIENE ETIQUETA DE OTRO COLOR\n",
            "\n",
            "ESCOJE LA OPCION QUE TENGAS:1\n",
            "\n",
            "ESCOGISTE OPCION 1. ARTICULO CON ETIQUETA ROJA\n",
            "\n",
            "DAME EL PRECIO DEL ARTICULO: 150\n",
            "\n",
            "EL ARTICULO CUENTA CON EL 30% DE DESCUENTO\n",
            "\n",
            "SUBTOTAL SIN DESCUENTO= 150.0\n",
            "\n",
            "\n",
            "\n",
            "TOTAL A PAGAR= 105.0\n"
          ]
        }
      ]
    },
    {
      "cell_type": "markdown",
      "source": [
        "10.- Un restaurante ofrece descuentos a sus clientes, dependiendo del día de la semana y del tipo de menú que pidan. Los lunes, los clientes que pidan el menú del día tienen un descuento del 10%. Los martes, los clientes que pidan el menú infantil tienen un descuento del 20%. Los miércoles, los clientes que pidan el menú vegetariano tienen un descuento del 15%. Los jueves, los clientes que pidan el menú del chef tienen un descuento del 5%. Los viernes, los clientes que pidan el menú del día tienen un descuento del 5%. Los sábados y domingos no hay descuentos. Escribe un programa que calcule el precio a pagar por un cliente, tomando en cuenta los descuentos correspondientes."
      ],
      "metadata": {
        "id": "F5OUGuVoffnR"
      }
    },
    {
      "cell_type": "code",
      "source": [
        "print (\"MENU DE OPCIONES:\\n\")\n",
        "print(\"1.LUNES.\")\n",
        "print(\"2.MARTES.\")\n",
        "print(\"3.MIERCOLES\")\n",
        "print(\"4.JUEVES.\")\n",
        "print(\"5.VIERNES.\")\n",
        "print(\"6.SABADO.\")\n",
        "print(\"7.DOMINGO.\")\n",
        "op=int(input(\"\\nQUE DIA ES HOY: \"))\n",
        "if op==1:\n",
        "  print (\"\\nHOY EL LUNES.\")\n",
        "  print(\"\\nEL MENU DEL DIA TIENE 10% DE DESCUENTO.\")\n",
        "  print(\"\\nMENU\\n\")\n",
        "  print(\"1.MENU DEL DIA $100.\")\n",
        "  print(\"2.MENU INFANTIL $85.\")\n",
        "  print(\"3.MENU VEGETARIANO $150.\")\n",
        "  print(\"4.MENU DEL CHEF $175.\")\n",
        "  oplun=float(input(\"\\nQUE MENU QUIERES:\"))\n",
        "  if oplun==1:\n",
        "    print(\"\\nESCOGISTE EL MENU DEL DIA.\")\n",
        "    subtotal=(100*10)/100\n",
        "    total=100-subtotal\n",
        "    print(\"\\nSUBTOTAL= $100\")\n",
        "    print(f\"\\nTOTAL= ${total}\")\n",
        "  elif oplun==2:\n",
        "    print(\"\\nESCOGISTE EL MENU INFANTIL.\")\n",
        "    total=85\n",
        "    print(f\"\\nTOTAL= ${total}\")\n",
        "  elif oplun==3:\n",
        "    print(\"\\nESCOGISTE EL MENU VEGETARIANO.\")\n",
        "    total=150\n",
        "    print(f\"\\nTOTAL= ${total}\")\n",
        "  else:\n",
        "    print(\"\\nESCOGISTE EL MENU DEL CHEF.\")\n",
        "    total=175\n",
        "    print(f\"\\nTOTAL= ${total}\")\n",
        "elif op==2:\n",
        "  print (\"\\nHOY ES MARTES.\")\n",
        "  print(\"\\nEL MENU INFANTIL TIENE 20% DE DESCUENTO.\")\n",
        "  print(\"\\nMENU\\n\")\n",
        "  print(\"1.MENU DEL DIA $100.\")\n",
        "  print(\"2.MENU INFANTIL $85.\")\n",
        "  print(\"3.MENU VEGETARIANO $150.\")\n",
        "  print(\"4.MENU DEL CHEF $175.\")\n",
        "  opmar=int(input(\"\\nQUE MENU QUIERES:\"))\n",
        "  if opmar==1:\n",
        "    print(\"\\nESCOGISTE EL MENU DEL DIA.\")\n",
        "    total=100\n",
        "    print(\"\\nSUBTOTAL= $100\")\n",
        "    print(f\"\\nTOTAL= ${total}\")\n",
        "  elif opmar==2:\n",
        "    print(\"\\nESCOGISTE EL MENU INFANTIL.\")\n",
        "    subtotal=(85*20)/100\n",
        "    total=85-subtotal\n",
        "    print(\"\\nSUBTOTAL= $85\")\n",
        "    print(f\"\\nTOTAL= ${total}\")\n",
        "  elif opmar==3:\n",
        "    print(\"\\nESCOGISTE EL MENU VEGETARIANO.\")\n",
        "    total=150\n",
        "    print(f\"\\nTOTAL= ${total}\")\n",
        "  else:\n",
        "    print(\"\\nESCOGISTE EL MENU DEL CHEF.\")\n",
        "    total=175\n",
        "    print(f\"\\nTOTAL= ${total}\")\n",
        "elif op==3:\n",
        "  print (\"\\nHOY ES MIERCOLES.\")\n",
        "  print(\"\\nEL MENU VEGETARIANO TIENE 15% DE DESCUENTO.\")\n",
        "  print(\"\\nMENU\\n\")\n",
        "  print(\"1.MENU DEL DIA $100.\")\n",
        "  print(\"2.MENU INFANTIL $85.\")\n",
        "  print(\"3.MENU VEGETARIANO $150.\")\n",
        "  print(\"4.MENU DEL CHEF $175.\")\n",
        "  opmier=int(input(\"\\nQUE MENU QUIERES:\"))\n",
        "  if opmier==1:\n",
        "    print(\"\\nESCOGISTE EL MENU DEL DIA.\")\n",
        "    total=100\n",
        "    print(f\"\\nTOTAL= ${total}\")\n",
        "  elif opmier==2:\n",
        "    print(\"\\nESCOGISTE EL MENU INFANTIL.\")\n",
        "    total=85\n",
        "    print(f\"\\nTOTAL= ${total}\")\n",
        "  elif opmier==3:\n",
        "    print(\"\\nESCOGISTE EL MENU VEGETARIANO.\")\n",
        "    subtotal=(150*15)/100\n",
        "    total=150-subtotal\n",
        "    print(\"\\nSUBTOTAL= $150\")\n",
        "    print(f\"\\nTOTAL= ${total}\")\n",
        "  else:\n",
        "    print(\"\\nESCOGISTE EL MENU DEL CHEF.\")\n",
        "    total=175\n",
        "    print(f\"\\nTOTAL= ${total}\")\n",
        "elif op==4:\n",
        "  print (\"\\nHOY ES JUEVES.\")\n",
        "  print(\"\\nEL MENU CHEF TIENE 5% DE DESCUENTO.\")\n",
        "  print(\"\\nMENU\\n\")\n",
        "  print(\"1.MENU DEL DIA $100.\")\n",
        "  print(\"2.MENU INFANTIL $85.\")\n",
        "  print(\"3.MENU VEGETARIANO $150.\")\n",
        "  print(\"4.MENU DEL CHEF $175.\")\n",
        "  opjuev=int(input(\"\\nQUE MENU QUIERES:\"))\n",
        "  if opjuev==1:\n",
        "    print(\"\\nESCOGISTE EL MENU DEL DIA.\")\n",
        "    total=100\n",
        "    print(f\"\\nTOTAL= ${total}\")\n",
        "  elif opjuev==2:\n",
        "    print(\"\\nESCOGISTE EL MENU INFANTIL.\")\n",
        "    total=85\n",
        "    print(f\"\\nTOTAL= ${total}\")\n",
        "  elif opjuev==3:\n",
        "    print(\"\\nESCOGISTE EL MENU VEGETARIANO.\")\n",
        "    total=150\n",
        "    print(f\"\\nTOTAL= ${total}\")\n",
        "  else:\n",
        "    print(\"\\nESCOGISTE EL MENU DEL CHEF.\")\n",
        "    subtotal=(175*5)/100\n",
        "    total=175-subtotal\n",
        "    print(\"\\nSUBTOTAL= $175\")\n",
        "    print(f\"\\nTOTAL= ${total}\")\n",
        "elif op==5:\n",
        "  print (\"\\nHOY ES VIERNES.\")\n",
        "  print(\"\\nEL MENU DEL DIA TIENE 5% DE DESCUENTO.\")\n",
        "  print(\"\\nMENU\\n\")\n",
        "  print(\"1.MENU DEL DIA $100.\")\n",
        "  print(\"2.MENU INFANTIL $85.\")\n",
        "  print(\"3.MENU VEGETARIANO $150.\")\n",
        "  print(\"4.MENU DEL CHEF $175.\")\n",
        "  opvier=int(input(\"\\nQUE MENU QUIERES:\"))\n",
        "  if opvier==1:\n",
        "    print(\"\\nESCOGISTE EL MENU DEL DIA.\")\n",
        "    subtotal=(100*5)/100\n",
        "    total=100-subtotal\n",
        "    print(\"\\nSUBTOTAL= $100\")\n",
        "    print(f\"\\nTOTAL= ${total}\")\n",
        "  elif opvier==2:\n",
        "    print(\"\\nESCOGISTE EL MENU INFANTIL.\")\n",
        "    total=85\n",
        "    print(f\"\\nTOTAL= ${total}\")\n",
        "  elif opvier==3:\n",
        "    print(\"\\nESCOGISTE EL MENU VEGETARIANO.\")\n",
        "    total=150\n",
        "    print(f\"\\nTOTAL= ${total}\")\n",
        "  else:\n",
        "    print(\"\\nESCOGISTE EL MENU DEL CHEF.\")\n",
        "    total=175\n",
        "    print(f\"\\nTOTAL= ${total}\")\n",
        "elif op==6:\n",
        "  print (\"\\nHOY ES SABADO.\")\n",
        "  print(\"\\nNINGUN MENU TIENE DESCUENTO.\")\n",
        "  print(\"\\nMENU\\n\")\n",
        "  print(\"1.MENU DEL DIA $100.\")\n",
        "  print(\"2.MENU INFANTIL $85.\")\n",
        "  print(\"3.MENU VEGETARIANO $150.\")\n",
        "  print(\"4.MENU DEL CHEF $175.\")\n",
        "  opsab=int(input(\"\\nQUE MENU QUIERES:\"))\n",
        "  if opsab==1:\n",
        "    print(\"\\nESCOGISTE EL MENU DEL DIA.\")\n",
        "    total=100\n",
        "    print(f\"\\nTOTAL= ${total}\")\n",
        "  elif opsab==2:\n",
        "    print(\"\\nESCOGISTE EL MENU INFANTIL.\")\n",
        "    total=85\n",
        "    print(f\"\\nTOTAL= ${total}\")\n",
        "  elif opsab==3:\n",
        "    print(\"\\nESCOGISTE EL MENU VEGETARIANO.\")\n",
        "    total=150\n",
        "    print(f\"\\nTOTAL= ${total}\")\n",
        "  else:\n",
        "    print(\"\\nESCOGISTE EL MENU DEL CHEF.\")\n",
        "    total=175\n",
        "    print(f\"\\nTOTAL= ${total}\")\n",
        "elif op==7:\n",
        "  print (\"\\nHOY ES DOMINGO.\")\n",
        "  print(\"\\nNINGUN MENU TIENE DESCUENTO.\")\n",
        "  print(\"\\nMENU\\n\")\n",
        "  print(\"1.MENU DEL DIA $100.\")\n",
        "  print(\"2.MENU INFANTIL $85.\")\n",
        "  print(\"3.MENU VEGETARIANO $150.\")\n",
        "  print(\"4.MENU DEL CHEF $175.\")\n",
        "  opdom=int(input(\"\\nQUE MENU QUIERES:\"))\n",
        "  if opdom==1:\n",
        "    print(\"\\nESCOGISTE EL MENU DEL DIA.\")\n",
        "    total=100\n",
        "    print(f\"\\nTOTAL= ${total}\")\n",
        "  elif opdom==2:\n",
        "    print(\"\\nESCOGISTE EL MENU INFANTIL.\")\n",
        "    total=85\n",
        "    print(f\"\\nTOTAL= ${total}\")\n",
        "  elif opdom==3:\n",
        "    print(\"\\nESCOGISTE EL MENU VEGETARIANO.\")\n",
        "    total=150\n",
        "    print(f\"\\nTOTAL= ${total}\")\n",
        "  else:\n",
        "    print(\"\\nESCOGISTE EL MENU DEL CHEF.\")\n",
        "    total=175\n",
        "    print(f\"\\nTOTAL= ${total}\")"
      ],
      "metadata": {
        "colab": {
          "base_uri": "https://localhost:8080/",
          "height": 0
        },
        "id": "wU0UH96bfk2X",
        "outputId": "6ba1388b-6ce6-45de-aabf-b92b8f619ae9"
      },
      "execution_count": 34,
      "outputs": [
        {
          "output_type": "stream",
          "name": "stdout",
          "text": [
            "MENU DE OPCIONES:\n",
            "\n",
            "1.LUNES.\n",
            "2.MARTES.\n",
            "3.MIERCOLES\n",
            "4.JUEVES.\n",
            "5.VIERNES.\n",
            "6.SABADO.\n",
            "7.DOMINGO.\n",
            "\n",
            "QUE DIA ES HOY: 4\n",
            "\n",
            "HOY ES JUEVES.\n",
            "\n",
            "EL MENU CHEF TIENE 5% DE DESCUENTO.\n",
            "\n",
            "MENU\n",
            "\n",
            "1.MENU DEL DIA $100.\n",
            "2.MENU INFANTIL $85.\n",
            "3.MENU VEGETARIANO $150.\n",
            "4.MENU DEL CHEF $175.\n",
            "\n",
            "QUE MENU QUIERES:4\n",
            "\n",
            "ESCOGISTE EL MENU DEL CHEF.\n",
            "\n",
            "SUBTOTAL= $175\n",
            "\n",
            "TOTAL= $166.25\n"
          ]
        }
      ]
    }
  ]
}