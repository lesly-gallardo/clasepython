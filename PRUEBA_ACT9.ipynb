{
  "nbformat": 4,
  "nbformat_minor": 0,
  "metadata": {
    "colab": {
      "provenance": [],
      "authorship_tag": "ABX9TyOY84WieqoLHJFvlH7F/KN+",
      "include_colab_link": true
    },
    "kernelspec": {
      "name": "python3",
      "display_name": "Python 3"
    },
    "language_info": {
      "name": "python"
    }
  },
  "cells": [
    {
      "cell_type": "markdown",
      "metadata": {
        "id": "view-in-github",
        "colab_type": "text"
      },
      "source": [
        "<a href=\"https://colab.research.google.com/github/lesly-gallardo/clasepython/blob/main/PRUEBA_ACT9.ipynb\" target=\"_parent\"><img src=\"https://colab.research.google.com/assets/colab-badge.svg\" alt=\"Open In Colab\"/></a>"
      ]
    },
    {
      "cell_type": "markdown",
      "source": [
        "#ACTIVIDAD 9\n",
        "\n",
        "LESLY GALLARDO GONZALEZ\n",
        "\n",
        "MATRICULA: 370027\n",
        "\n",
        "FECHA: 16 DE OCTUBRE DEL 2023"
      ],
      "metadata": {
        "id": "smswu3RDUK9y"
      }
    },
    {
      "cell_type": "markdown",
      "source": [
        "Realiza un programa en python que utilice el siguiente menu:\n",
        "\n",
        " MENU\n",
        "\n",
        " 1.- Crear Diccionario\n",
        "\n",
        " 2.- Imprimir Diccionario\n",
        "\n",
        " 0.- Salir"
      ],
      "metadata": {
        "id": "Vh6A3oUNUO3g"
      }
    },
    {
      "cell_type": "code",
      "execution_count": null,
      "metadata": {
        "id": "V5MefxElUKSM"
      },
      "outputs": [],
      "source": [
        "import random\n",
        "\n",
        "while True:\n",
        "  print(\"\\nMENU.\")\n",
        "  print(\"1.CREAR DICCIONARIO.\")\n",
        "  print(\"\\n2.IMPRIMIR DICCIONARIO.\")\n",
        "  print(\"\\n3.SALIR.\")\n",
        "  op=int(input(\"\\nESCOJE UNA OPCION: \"))\n",
        "\n",
        "  if op==1:\n",
        "    id_alum=[\"370027\",\"370122\",\"379180\",\"370213\",\"373725\",\"370325\",\"374521\",\"375671\",\"375621\",\"376534\"]\n",
        "    dic1={\"id_alum\":\"\"}\n",
        "\n",
        "    nomb=[\"Paulina\",\"Erika\",\"Valeria\",\"Juan Carlos\",\"Carlos Daniel\",\"Alma\",\"Paola\",\"Sara\",\"Vicenta\",\"Gaby Helena\"]\n",
        "    dic2={\"\"}\n",
        "\n",
        "    appat=[\"Martinez\",\"Molina\",\"San Roman\",\"Arcos\",\"Bracho\",\"Montemayor\",\"Meza\",\"Aguilar\",\"Acero\",\"Spanic\"]\n",
        "    dic3={\"appat\":\"\"}\n",
        "\n",
        "    apmat=[\"Montaner\",\"Cortez\",\"Cota\",\"Ares\",\"Gonzalez\",\"Beltran\",\"Morales\",\"Bermudez\",\"Rigores\",\"Utrera\"]\n",
        "    dic4={\"apmat\":\"\"}\n",
        "\n",
        "    edad=[\"20\",\"21\",\"19\",\"22\",\"23\"]\n",
        "    dic5={\"edad\":\"\"}\n",
        "\n",
        "\n",
        "\n",
        "    print(\"\\nHAZ CREADO EL DICCIONARIO\")\n",
        "  if op==2:\n",
        "\n",
        "    dic1[\"id_alum\"]=random.choice(id_alum)\n",
        "    dic2[\"nomb\"]=random.choice(nomb)\n",
        "    dic3[\"appat\"]=random.choice(appat)\n",
        "    dic4[\"apmat\"]=random.choice(apmat)\n",
        "    dic5[\"edad\"]=random.choice(edad)\n",
        "    print(\"ID ALUMNO: \",end=\"\")\n",
        "    print(dic1)\n",
        "    print(\"NOMBRE: \",end=\"\")\n",
        "    print(dic2)\n",
        "    print(\"1ER APELLIDO: \",end=\"\")\n",
        "    print(dic3)\n",
        "    print(\"2DO APELLIDO: \",end=\"\")\n",
        "    print(dic4)\n",
        "    print(\"EDAD: \",end=\"\")\n",
        "    print( dic5)\n",
        "\n",
        "\n",
        "  if op==3:\n",
        "    print(\"\\nSALIR DEL PROGRAMA, FUGEISHON\")\n",
        "    break"
      ]
    }
  ]
}