{
  "nbformat": 4,
  "nbformat_minor": 0,
  "metadata": {
    "colab": {
      "provenance": [],
      "authorship_tag": "ABX9TyMmJoVyvE8aLMuBA/uSu8Ti",
      "include_colab_link": true
    },
    "kernelspec": {
      "name": "python3",
      "display_name": "Python 3"
    },
    "language_info": {
      "name": "python"
    }
  },
  "cells": [
    {
      "cell_type": "markdown",
      "metadata": {
        "id": "view-in-github",
        "colab_type": "text"
      },
      "source": [
        "<a href=\"https://colab.research.google.com/github/lesly-gallardo/clasepython/blob/main/LGG_PY_ACT6.ipynb\" target=\"_parent\"><img src=\"https://colab.research.google.com/assets/colab-badge.svg\" alt=\"Open In Colab\"/></a>"
      ]
    },
    {
      "cell_type": "markdown",
      "source": [
        "#ACTIVIDAD 6\n",
        "\n",
        "NOMBRE:  LESLY GALLARDO GONZALEZ\n",
        "\n",
        "MATRICULA:  370027\n",
        "\n",
        "FECHA:  11-MARZO-2024"
      ],
      "metadata": {
        "id": "yShVa-ZWgK7F"
      }
    },
    {
      "cell_type": "code",
      "source": [
        "def menu():\n",
        "  while True:\n",
        "    print(\"\\n\\nMENU:\\n\")\n",
        "    print(\"1.LEER NUMEROS, DESPLEGAR LA SUMA, MEDIA, NUMERO MAYOR Y MENOR. \")\n",
        "    print(\"2.GENERAR 15 NUMEROS IMPARES O 25 NUMEROS.\")\n",
        "    print(\"3.LEER RANGO, DESPLEGAR CUANTOS NUMEROS SE LEYERON Y EL RPOMEDIO.\")\n",
        "    print(\"4.AREADE UN TRIANGULO.\")\n",
        "    print(\"5.EVALUAR PROMEDIO.\")\n",
        "    op=int(input(\"\\n\\nQUE OPCION QUIERES: \"))\n",
        "    if op==0:\n",
        "      print(\"\\n\\nHAZ SALIDO DEL PROGRAMA\")\n",
        "      break;\n",
        "    if op==1:\n",
        "      num()\n",
        "    if op==2:\n",
        "      par_impar()\n",
        "    if op==3:\n",
        "      ran()\n",
        "    if op==4:\n",
        "      trian()\n",
        "    if op==5:\n",
        "      cal()\n"
      ],
      "metadata": {
        "id": "FIwrTe3Acfy1"
      },
      "execution_count": 76,
      "outputs": []
    },
    {
      "cell_type": "code",
      "source": [
        "menu()"
      ],
      "metadata": {
        "id": "JJOSHdAdkvyZ"
      },
      "execution_count": null,
      "outputs": []
    },
    {
      "cell_type": "markdown",
      "source": [
        "1.- FUNCIÓN QUE LEA n CANTIDAD DE NÚMEROS HASTA QUE EL USUARIO LO DESEE, DESPLEGAR LA SUMA DE LOS NÚMEROS, MEDIA Y VALOR DE LOS NÚMEROS MAYORES Y MENORES."
      ],
      "metadata": {
        "id": "-8Wnpx5MghJl"
      }
    },
    {
      "cell_type": "code",
      "source": [
        "def num():\n",
        "  numeros = []\n",
        "  rango_min = float(input(\"INGRESA EL VALOR MINIMO DEL RANGO: \"))\n",
        "  rango_max = float(input(\"INGRESA EL VALOR MAXIMO DEL RANGO: \"))\n",
        "\n",
        "  while True:\n",
        "    numero_str = input(f\"INGRESA UN NUMERO (O 'n' PARA TERMINAR): \")\n",
        "    if numero_str.lower() == 'n':\n",
        "        break\n",
        "    try:\n",
        "        numero = float(numero_str)\n",
        "        if rango_min <= numero <= rango_max:\n",
        "            numeros.append(numero)\n",
        "        else:\n",
        "            print(f\"\\nEL NUMERO {numero} ESTA FUERA DEL RANGO [{rango_min}, {rango_max}]\\n\")\n",
        "    except ValueError:\n",
        "        print(\"\\nPOR FAVOR, INGRESE UN NUMERO VALIDO.\\n\")\n",
        "\n",
        "  if numeros:\n",
        "    suma = sum(numeros)\n",
        "    media = suma / len(numeros)\n",
        "    maximo = max(numeros)\n",
        "    minimo = min(numeros)\n",
        "\n",
        "    print(f\"\\nSUMA DE LOS NUMEROS: {suma}\")\n",
        "    print(f\"MEDIA DE LOS NUMEROS: {media}\")\n",
        "    print(f\"NUMERO MAYOR: {maximo}\")\n",
        "    print(f\"NUMERO MENOR: {minimo}\")\n",
        "  else:\n",
        "    print(\"NO SE INGRESARON NUMEROS DENTRO DEL RANGO ESPECIFICADO.\")\n"
      ],
      "metadata": {
        "id": "RXay77f9imIB"
      },
      "execution_count": 21,
      "outputs": []
    },
    {
      "cell_type": "markdown",
      "source": [
        "2.- FUNCIÓN QUE GENERE 15 NÚMEROS IMPARES ENTRE 10 Y 60 o MÁXIMO DE 25 NÚMEROS. DESPLEGAR LA MEDIA DE LOS PARES Y MEDIA DE IMPARES."
      ],
      "metadata": {
        "id": "U-BguhhsmBuk"
      }
    },
    {
      "cell_type": "code",
      "source": [
        "def par_impar():\n",
        "  import random\n",
        "\n",
        "  numeros_impares = []\n",
        "  numeros_pares = []\n",
        "  cantidad_numeros = 0\n",
        "\n",
        "  while cantidad_numeros < 25 and len(numeros_impares) < 15:\n",
        "      numero = random.randint(10, 60)\n",
        "      if numero % 2 == 0:\n",
        "        numeros_pares.append(numero)\n",
        "      else:\n",
        "          numeros_impares.append(numero)\n",
        "      cantidad_numeros += 1\n",
        "\n",
        "  print(f\"\\nNUMEROS IMPARES GENERADOS: {numeros_impares}\\n\")\n",
        "  print(f\"\\nNUMEROS PARES GENERADOS: {numeros_pares}\\n\")\n",
        "\n",
        "  media_impares = sum(numeros_impares) / len(numeros_impares) if numeros_impares else 0\n",
        "  media_pares = sum(numeros_pares) / len(numeros_pares) if numeros_pares else 0\n",
        "\n",
        "  print(f\"MEDIA DE LOS NUMEROS IMPARES: {media_impares}\")\n",
        "  print(f\"MEDIA DE LOS NUMEROS PARES: {media_pares}\")"
      ],
      "metadata": {
        "id": "Pt6c8AS_oM0k"
      },
      "execution_count": 35,
      "outputs": []
    },
    {
      "cell_type": "markdown",
      "source": [
        "3.- FUNCIÓN QUE SIRVA PARA LEER UN RANGO DADO POR EL USUARIO. REPETIR ESTA ACCIÓN HASTA QUE EL USUARIO LO DESEE, DESPLEGAR CANTIDAD DE NUMEROS Y PROMEDIO DE LOS NUMEROS.."
      ],
      "metadata": {
        "id": "g2-Qf7Cwqb7Q"
      }
    },
    {
      "cell_type": "code",
      "source": [
        "def ran():\n",
        "  while True:\n",
        "    try:\n",
        "        rango_min = float(input(\"Ingrese el valor mínimo del rango: \"))\n",
        "        rango_max = float(input(\"Ingrese el valor máximo del rango: \"))\n",
        "        cantidad_numeros = 0\n",
        "        suma_numeros = 0\n",
        "\n",
        "        while True:\n",
        "            numero_str = input(f\"Ingrese un número entre {rango_min} y {rango_max} (o 'q' para terminar): \")\n",
        "            if numero_str.lower() == 'q':\n",
        "                break\n",
        "\n",
        "            numero = float(numero_str)\n",
        "            if rango_min <= numero <= rango_max:\n",
        "                suma_numeros += numero\n",
        "                cantidad_numeros += 1\n",
        "            else:\n",
        "                print(f\"El número debe estar dentro del rango [{rango_min}, {rango_max}]\")\n",
        "\n",
        "        if cantidad_numeros > 0:\n",
        "            promedio_numeros = suma_numeros / cantidad_numeros\n",
        "            print(f\"\\nCantidad de números ingresados: {cantidad_numeros}\")\n",
        "            print(f\"Promedio de los números ingresados: {promedio_numeros}\")\n",
        "        else:\n",
        "            print(\"No se ingresaron números válidos dentro del rango especificado.\")\n",
        "\n",
        "        decision = input(\"¿Desea ingresar otro rango? (Sí/No): \").lower()\n",
        "        if decision != 'si' and decision != 'sí':\n",
        "            break\n",
        "\n",
        "    except ValueError:\n",
        "        print(\"Por favor, ingrese un número válido.\")\n"
      ],
      "metadata": {
        "id": "Sc45Tzh_r8MH"
      },
      "execution_count": 41,
      "outputs": []
    },
    {
      "cell_type": "markdown",
      "source": [
        "4.- FUNCIÓN QUE RECIBA COMO PARÁMETRO LOS VALORES PARA EL ÁREA DE UN TRIANGULO Y RETORNE SU RESULTADO"
      ],
      "metadata": {
        "id": "c4CqPK-Cv4QM"
      }
    },
    {
      "cell_type": "code",
      "source": [
        "def trian():\n",
        "  b=int(input(\"DAME LA BASE DEL TRIANGULO: \"))\n",
        "  h=int(input(\"DAME LA ALTURA DEL TRIANGULO: \"))\n",
        "  area=(b*h)/2;\n",
        "  print(f\"\\nEL AREA DEL TRIANGULO ES: {area} \")"
      ],
      "metadata": {
        "id": "d-adzTFTvaBY"
      },
      "execution_count": 59,
      "outputs": []
    },
    {
      "cell_type": "code",
      "source": [
        "def triangulo(base, altura):\n",
        "    area = (base * altura)/2;\n",
        "    return area"
      ],
      "metadata": {
        "id": "95941l-WtnZ_"
      },
      "execution_count": 45,
      "outputs": []
    },
    {
      "cell_type": "code",
      "source": [
        "triangulo(10,20)"
      ],
      "metadata": {
        "id": "hCUo1IHkuaWW"
      },
      "execution_count": null,
      "outputs": []
    },
    {
      "cell_type": "markdown",
      "source": [
        "5.- FUNCION QUE SIRVA QUE SIRVA PARA EVALUAR EL PROMEDIO DE 3 CALIFICACIONES DADAS, SI EL USUARIO SU CALIFICACION ES APROBADA MANDAR MSGE QUE DIGA \"felicidades avanzas al siguiente semestre\", SI LA CALIFICACIONE ESTA REPROBADA EL MENSAGE \"repetir materia \" EL ALUMNO TENDRA UN MAXIMO DE CURSAR 3 VESES LA MATERIA, SI LA REPRUEBA 3 VESES MANDAR MSGE \" lastima estas fuera de la UABC\"\n",
        "\n"
      ],
      "metadata": {
        "id": "mLHapIBpv-r7"
      }
    },
    {
      "cell_type": "code",
      "source": [
        "def cal():\n",
        "  i = 1\n",
        "  curso = 0\n",
        "  while curso<3:\n",
        "    promedio = 0\n",
        "    curso = curso+1\n",
        "    for i in range(1,4):\n",
        "      print(f\"\\nSEMESTRE DE OPORTUNIDAD {curso}.\")\n",
        "      print(\"\")\n",
        "      print(f\"INGRESA LA CALIFICACION {i}: \")\n",
        "      calificacion = int(input())\n",
        "      promedio = promedio+calificacion\n",
        "      print(\"\")\n",
        "    promedio = promedio/3\n",
        "\n",
        "    if promedio>=60:\n",
        "      print(f\"EL PROMEDIO DEL ALUMNO FUE DE {promedio}: \")\n",
        "      print(\"EL ALUMNO APROBO EL SEMESTRE FELICIDADES\")\n",
        "      print(f\"EL ALUMNO REPITIO EL SEMESTRE LA CANTIDAD DE VECES DE: {curso}\")\n",
        "      print(\"\")\n",
        "      curso = 4\n",
        "    else:\n",
        "      print(f\"EL PROMEDIO DEL ALUMNO FUE DE {promedio}\")\n",
        "      print(\"EL ALUMNO REPROBO EL SEMESTRE NECESITA REPETIR\")\n",
        "      print(f\"EL ALUMNO SE ENCUENTRA EN LA REPETICION DEL SEMESTRE NUMERO {curso}\")\n",
        "      print(\"\")\n",
        "      curso = (curso+1)-1\n",
        "      if curso<3:\n",
        "        print(\"Presione <<ENTER>> para capturar las calificaciones nuevamente\")\n",
        "        input()\n",
        "        print(\"\")\n",
        "    if curso==3:\n",
        "      print(\"EL ALUMNO YA AGOTO TODAS SUS OPORTUNIDADES\")\n",
        "      print(\"LASTIMA ESTAS FUERA DE LA UABC \")\n",
        "      print(\"\")\n"
      ],
      "metadata": {
        "id": "E7NCZMXWwCPB"
      },
      "execution_count": 69,
      "outputs": []
    }
  ]
}