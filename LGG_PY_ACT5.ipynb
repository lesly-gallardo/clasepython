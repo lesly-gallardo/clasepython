{
  "nbformat": 4,
  "nbformat_minor": 0,
  "metadata": {
    "colab": {
      "provenance": [],
      "authorship_tag": "ABX9TyN9EUbjmV4AyWErOvhwBZwy",
      "include_colab_link": true
    },
    "kernelspec": {
      "name": "python3",
      "display_name": "Python 3"
    },
    "language_info": {
      "name": "python"
    }
  },
  "cells": [
    {
      "cell_type": "markdown",
      "metadata": {
        "id": "view-in-github",
        "colab_type": "text"
      },
      "source": [
        "<a href=\"https://colab.research.google.com/github/lesly-gallardo/clasepython/blob/main/LGG_PY_ACT5.ipynb\" target=\"_parent\"><img src=\"https://colab.research.google.com/assets/colab-badge.svg\" alt=\"Open In Colab\"/></a>"
      ]
    },
    {
      "cell_type": "markdown",
      "source": [
        "#ACTIVIDAD 5\n",
        "\n",
        "NOMBRE:  LESLY GALLARDO GONZALEZ\n",
        "\n",
        "MATRICULA:  370027\n",
        "\n",
        "FECHA:  4 DE MARZO DEL 2024"
      ],
      "metadata": {
        "id": "NvBxf2R_srMD"
      }
    },
    {
      "cell_type": "code",
      "source": [
        "from random import randrange"
      ],
      "metadata": {
        "id": "z-tHuGOLtD1c"
      },
      "execution_count": null,
      "outputs": []
    },
    {
      "cell_type": "markdown",
      "source": [
        "1.- Programa en Python que genere 40 números aleatorios entre el 0 y 200, desplegar los números y la leyenda de cada número si es par o impar , la cantidad de los números pares e impares así como la suma de los números pares o impares."
      ],
      "metadata": {
        "id": "oYecDnbHsmJU"
      }
    },
    {
      "cell_type": "code",
      "execution_count": null,
      "metadata": {
        "id": "9f9vfqevsQ4C",
        "colab": {
          "base_uri": "https://localhost:8080/"
        },
        "outputId": "58ad3368-cf31-452b-b08f-f6059a8c09ee"
      },
      "outputs": [
        {
          "output_type": "stream",
          "name": "stdout",
          "text": [
            "1-> [89]  IMPAR\n",
            "2-> [24]  PAR\n",
            "3-> [47]  IMPAR\n",
            "4-> [42]  PAR\n",
            "5-> [167]  IMPAR\n",
            "6-> [100]  PAR\n",
            "7-> [106]  PAR\n",
            "8-> [4]  PAR\n",
            "9-> [39]  IMPAR\n",
            "10-> [3]  IMPAR\n",
            "11-> [181]  IMPAR\n",
            "12-> [80]  PAR\n",
            "13-> [137]  IMPAR\n",
            "14-> [47]  IMPAR\n",
            "15-> [122]  PAR\n",
            "16-> [71]  IMPAR\n",
            "17-> [182]  PAR\n",
            "18-> [1]  IMPAR\n",
            "19-> [22]  PAR\n",
            "20-> [42]  PAR\n",
            "21-> [66]  PAR\n",
            "22-> [162]  PAR\n",
            "23-> [57]  IMPAR\n",
            "24-> [169]  IMPAR\n",
            "25-> [159]  IMPAR\n",
            "26-> [124]  PAR\n",
            "27-> [124]  PAR\n",
            "28-> [173]  IMPAR\n",
            "29-> [20]  PAR\n",
            "30-> [25]  IMPAR\n",
            "31-> [31]  IMPAR\n",
            "32-> [182]  PAR\n",
            "33-> [174]  PAR\n",
            "34-> [24]  PAR\n",
            "35-> [57]  IMPAR\n",
            "36-> [128]  PAR\n",
            "37-> [22]  PAR\n",
            "38-> [5]  IMPAR\n",
            "39-> [114]  PAR\n",
            "40-> [158]  PAR\n",
            "LA SUMA DE NUMEROS PARES ES: 22\n",
            "LA SUMA DE NUMEROS IMPARES ES: 18\n"
          ]
        }
      ],
      "source": [
        "j=0\n",
        "npar=0\n",
        "nimpar=0\n",
        "sumapar=0\n",
        "sumimpar=0\n",
        "for i in range(40):\n",
        "  n=randrange(0,200)\n",
        "\n",
        "  j=j+1\n",
        "  print(f\"{j}-> [{n}]\",end=\"\")\n",
        "  if n%2==0:\n",
        "    print(\"  PAR\")\n",
        "    npar=npar+1\n",
        "    sumapar=sumapar+n\n",
        "  else:\n",
        "     nimpar=nimpar+1\n",
        "     print(\"  IMPAR\")\n",
        "     sumimpar=sumimpar+1\n",
        "\n",
        "print(f\"LA SUMA DE NUMEROS PARES ES: {npar}\")\n",
        "print(f\"LA SUMA DE NUMEROS IMPARES ES: {nimpar}\")"
      ]
    },
    {
      "cell_type": "markdown",
      "source": [
        "2.- Programa en Python que despliegue la tabla de multiplicar de un número dado (número entre el 1 y 20).\n",
        "\n",
        "\n",
        "\n",
        "Tabla del 5\n",
        "\n",
        "5 * 1 = 5\n",
        "\n",
        "5* 2 = 10\n",
        "\n",
        ".\n",
        "\n",
        ".\n",
        "\n",
        ".\n",
        "\n",
        "5*10=50\n",
        "\n"
      ],
      "metadata": {
        "id": "uK64D6Vzwjmo"
      }
    },
    {
      "cell_type": "code",
      "source": [
        "n=int(input(\"DAME EL NUMERO QUE DESEAS MULTIPLICAR:\"))\n",
        "i=1\n",
        "if n<=0:\n",
        "  print(\"SOLO TABLAS DEL 1 AL 20\")\n",
        "if n>20:\n",
        "  print(\"SOLO TABLAS DEL 1 AL 20\")\n",
        "else:\n",
        "  print(f\"NUMERO A MULTIPLICAR QUE ESCOJIO: {n}\")\n",
        "  while i<=10:\n",
        "    r=n*i\n",
        "    print(f\"{n} X {i} = {r}\")\n",
        "    i=i+1\n",
        "\n"
      ],
      "metadata": {
        "colab": {
          "base_uri": "https://localhost:8080/"
        },
        "id": "KAjRRrWGwopH",
        "outputId": "0c34f364-7c2b-45c2-e2a5-2a1e18694bd7"
      },
      "execution_count": null,
      "outputs": [
        {
          "output_type": "stream",
          "name": "stdout",
          "text": [
            "DAME EL NUMERO QUE DESEAS MULTIPLICAR:5\n",
            "NUMERO A MULTIPLICAR QUE ESCOJIO: 5\n",
            "5 X 1 = 5\n",
            "5 X 2 = 10\n",
            "5 X 3 = 15\n",
            "5 X 4 = 20\n",
            "5 X 5 = 25\n",
            "5 X 6 = 30\n",
            "5 X 7 = 35\n",
            "5 X 8 = 40\n",
            "5 X 9 = 45\n",
            "5 X 10 = 50\n"
          ]
        }
      ]
    },
    {
      "cell_type": "markdown",
      "source": [
        "3.- Programa en Python que lea una calificación, las calificación deberá estar en el rango de 0 a 100, si hay un error de captura, mostrar mensaje de error. con la calificación correcta mostrar msg de aprobado reprobado."
      ],
      "metadata": {
        "id": "KZ-sovu2y57z"
      }
    },
    {
      "cell_type": "code",
      "source": [
        "try:\n",
        "    calif=float(input(\"INGRESE LA CALIFICACION: \"))\n",
        "    if calif>=0 and calif<=100:\n",
        "        if calif>=60:\n",
        "            print(\"A P R O B A D O\")\n",
        "        else:\n",
        "            print(\"R E P R O B A D O\")\n",
        "    else:\n",
        "        print(\"ERROR: LA CALIFICACION DEBE ESTAR EN EL RANGO DE 0 A 100\")\n",
        "except ValueError:\n",
        "    print(\"ERROR: INGRESE UN NUMEOR VALIDO PARA LA CALIFICACION.\")"
      ],
      "metadata": {
        "colab": {
          "base_uri": "https://localhost:8080/"
        },
        "id": "bB4W8S7GcE6u",
        "outputId": "bddc57c7-819f-477e-d5af-45712647b3ef"
      },
      "execution_count": null,
      "outputs": [
        {
          "output_type": "stream",
          "name": "stdout",
          "text": [
            "INGRESE LA CALIFICACION: 101\n",
            "ERROR: LA CALIFICACION DEBE ESTAR EN EL RANGO DE 0 A 100\n"
          ]
        }
      ]
    },
    {
      "cell_type": "markdown",
      "source": [
        "4.- Programa en Python que lea n cantidad de números enteros dentro de un rango dado (> 0 ) , el programa deberá terminar cuando el usuario introduzca el número cero.\n",
        "\n",
        "desplegar la suma de números y la media."
      ],
      "metadata": {
        "id": "wvkMeZrwe6mP"
      }
    },
    {
      "cell_type": "code",
      "source": [
        "numeros=[]\n",
        "suma=0\n",
        "cantidad_numeros=0\n",
        "\n",
        "while True:\n",
        "    try:\n",
        "        numero=int(input(\"INGRESA UN NUMERO (PARA TERMINAR INGRESAR EL NUMERO 0): \"))\n",
        "        if numero==0:\n",
        "            break\n",
        "        elif numero<0:\n",
        "            print(\"ERROR: INGRESE UN NUMERO ENTERO MAYOR QUE 0.\")\n",
        "        else:\n",
        "            numeros.append(numero)\n",
        "            suma+=numero\n",
        "            cantidad_numeros+=1\n",
        "    except ValueError:\n",
        "        print(\"ERROR: INGRESE UN NUMERO ENTERO VALIDO.\")\n",
        "\n",
        "if cantidad_numeros>0:\n",
        "    promedio = suma/cantidad_numeros\n",
        "    print(\"SUMA DE NUMEROS:\", suma)\n",
        "    print(\"MEDIA DE LOS NUMEROS:\", promedio)\n",
        "else:\n",
        "    print(\"NO SE INGRESARON NUMEROS VALIDOS.\")"
      ],
      "metadata": {
        "colab": {
          "base_uri": "https://localhost:8080/"
        },
        "id": "NrhnCPAmfN9D",
        "outputId": "1ad82158-e9f0-48bf-e327-a7d5cfeef921"
      },
      "execution_count": null,
      "outputs": [
        {
          "output_type": "stream",
          "name": "stdout",
          "text": [
            "INGRESA UN NUMERO (PARA TERMINAR INGRESAR EL NUMERO 0): 14\n",
            "INGRESA UN NUMERO (PARA TERMINAR INGRESAR EL NUMERO 0): 11\n",
            "INGRESA UN NUMERO (PARA TERMINAR INGRESAR EL NUMERO 0): 13\n",
            "INGRESA UN NUMERO (PARA TERMINAR INGRESAR EL NUMERO 0): 20\n",
            "INGRESA UN NUMERO (PARA TERMINAR INGRESAR EL NUMERO 0): 5\n",
            "INGRESA UN NUMERO (PARA TERMINAR INGRESAR EL NUMERO 0): 0\n",
            "SUMA DE NUMEROS: 63\n",
            "MEDIA DE LOS NUMEROS: 12.6\n"
          ]
        }
      ]
    },
    {
      "cell_type": "markdown",
      "source": [
        "5.- Programa en Python que sirva para leer el promedio de una materia. donde el usuario tendrá un máximo de 3 oportunidades de cursar la materia, si el promedio es aprobado, felicitarlo y continuar el siguiente semestre, si promedio es reprobado deberá salir mensaje de repetir materia o es baja académica si ha reprobado 3 veces."
      ],
      "metadata": {
        "id": "LXO9gbjkhCXS"
      }
    },
    {
      "cell_type": "code",
      "source": [
        "\ti = 1\n",
        "\tcurso = 0\n",
        "\twhile curso<3:\n",
        "\t\tpromedio = 0\n",
        "\t\tcurso = curso+1\n",
        "\t\tfor i in range(1,4):\n",
        "\t\t\tprint(f\"SEMESTRE DE OPORTUNIDAD {curso}.\")\n",
        "\t\t\tprint(\"\")\n",
        "\t\t\tprint(f\"INGRESA LA CALIFICACION {i}: \")\n",
        "\t\t\tcalificacion = int(input())\n",
        "\t\t\tpromedio = promedio+calificacion\n",
        "\t\t\tprint(\"\")\n",
        "\t\tpromedio = promedio/3\n",
        "\n",
        "\t\tif promedio>=60:\n",
        "\t\t\tprint(f\"EL PROMEDIO DEL ALUMNO FUE DE {promedio}: \")\n",
        "\t\t\tprint(\"EL ALUMNO APROBO EL SEMESTRE FELICIDADES\")\n",
        "\t\t\tprint(f\"EL ALUMNO REPITIO EL SEMESTRE LA CANTIDAD DE VECES DE: {curso}\")\n",
        "\t\t\tprint(\"\")\n",
        "\t\t\tcurso = 4\n",
        "\t\telse:\n",
        "\t\t\tprint(f\"EL PROMEDIO DEL ALUMNO FUE DE {promedio}\")\n",
        "\t\t\tprint(\"EL ALUMNO REPROBO EL SEMESTRE NECESITA REPETIR\")\n",
        "\t\t\tprint(f\"EL ALUMNO SE ENCUENTRA EN LA REPETICION DEL SEMESTRE NUMERO {curso}\")\n",
        "\t\t\tprint(\"\")\n",
        "\t\t\tcurso = (curso+1)-1\n",
        "\t\t\tif curso<3:\n",
        "\t\t\t\tprint(\"Presione <<ENTER>> para capturar las calificaciones nuevamente\")\n",
        "\t\t\t\tinput()\n",
        "\t\t\t\tprint(\"\")\n",
        "\t\tif curso==3:\n",
        "\t\t\tprint(\"EL ALUMNO YA AGOTO TODAS SUS OPORTUNIDADES\")\n",
        "\t\t\tprint(\"EL ALUMNO SERA DADO DE BAJA AUTOMATICAMENTE \")\n",
        "\t\t\tprint(\"\")\n"
      ],
      "metadata": {
        "colab": {
          "base_uri": "https://localhost:8080/"
        },
        "id": "FLdCmVgzhJG5",
        "outputId": "2450e4bd-718e-4bb1-8618-f914313b0052"
      },
      "execution_count": null,
      "outputs": [
        {
          "output_type": "stream",
          "name": "stdout",
          "text": [
            "SEMESTRE DE OPORTUNIDAD 1.\n",
            "\n",
            "INGRESA LA CALIFICACION 1: \n",
            "30\n",
            "\n",
            "SEMESTRE DE OPORTUNIDAD 1.\n",
            "\n",
            "INGRESA LA CALIFICACION 2: \n",
            "40\n",
            "\n",
            "SEMESTRE DE OPORTUNIDAD 1.\n",
            "\n",
            "INGRESA LA CALIFICACION 3: \n",
            "55\n",
            "\n",
            "EL PROMEDIO DEL ALUMNO FUE DE 41.666666666666664\n",
            "EL ALUMNO REPROBO EL SEMESTRE NECESITA REPETIR\n",
            "EL ALUMNO SE ENCUENTRA EN LA REPETICION DEL SEMESTRE NUMERO 1\n",
            "\n",
            "Presione <<ENTER>> para capturar las calificaciones nuevamente\n",
            "\n",
            "\n",
            "SEMESTRE DE OPORTUNIDAD 2.\n",
            "\n",
            "INGRESA LA CALIFICACION 1: \n",
            "60\n",
            "\n",
            "SEMESTRE DE OPORTUNIDAD 2.\n",
            "\n",
            "INGRESA LA CALIFICACION 2: \n",
            "70\n",
            "\n",
            "SEMESTRE DE OPORTUNIDAD 2.\n",
            "\n",
            "INGRESA LA CALIFICACION 3: \n",
            "56\n",
            "\n",
            "EL PROMEDIO DEL ALUMNO FUE DE 62.0: \n",
            "EL ALUMNO APROBO EL SEMESTRE FELICIDADES\n",
            "EL ALUMNO REPITIO EL SEMESTRE LA CANTIDAD DE VECES DE: 2\n",
            "\n"
          ]
        }
      ]
    },
    {
      "cell_type": "markdown",
      "source": [
        "#PARTE 2"
      ],
      "metadata": {
        "id": "Dz3I8Vmrn5h8"
      }
    },
    {
      "cell_type": "markdown",
      "source": [
        "1.- función que lea n cantidad de números hasta que el usuario lo desee, desplegar la suma de los números, media y valor de los números mayores y menores."
      ],
      "metadata": {
        "id": "tQ955sdIpsq_"
      }
    },
    {
      "cell_type": "code",
      "source": [
        "def num():\n",
        "  numeros=[]\n",
        "  suma = 0\n",
        "  cantidad_numeros = 0\n",
        "\n",
        "  while True:\n",
        "      try:\n",
        "          opcion = input(\"¿DESEAS INGRESAR UN NUMERO? (s/n): \")\n",
        "          if opcion.lower() != 's':\n",
        "              break\n",
        "          numero = float(input(\"INGRESE UN NUMERO: \"))\n",
        "          numeros.append(numero)\n",
        "          suma += numero\n",
        "          cantidad_numeros += 1\n",
        "      except ValueError:\n",
        "          print(\"ERROR: INGRESE UN NUMERO VALIDO.\")\n",
        "\n",
        "  if cantidad_numeros > 0:\n",
        "      promedio = suma / cantidad_numeros\n",
        "      mayor = max(numeros)\n",
        "      menor = min(numeros)\n",
        "      print(\"SUMA DE NUMEROS:\", suma)\n",
        "      print(\"MEDIA DE LOS NUMEROS:\", promedio)\n",
        "      print(\"NUMERO MAYOR:\", mayor)\n",
        "      print(\"NUMERO MENOR:\", menor)\n",
        "  else:\n",
        "      print(\"NO SE INGRESARON NUMEROS VALIDOS.\")"
      ],
      "metadata": {
        "id": "PATXwiNgprQe"
      },
      "execution_count": null,
      "outputs": []
    },
    {
      "cell_type": "code",
      "source": [
        "num()"
      ],
      "metadata": {
        "colab": {
          "base_uri": "https://localhost:8080/"
        },
        "id": "IapJIZmUtyPT",
        "outputId": "9cd79ef1-8e10-4fa5-a3b1-c0e6fc0c67e8"
      },
      "execution_count": null,
      "outputs": [
        {
          "output_type": "stream",
          "name": "stdout",
          "text": [
            "¿DESEAS INGRESAR UN NUMERO? (s/n): s\n",
            "INGRESE UN NUMERO: 20\n",
            "¿DESEAS INGRESAR UN NUMERO? (s/n): s\n",
            "INGRESE UN NUMERO: 10\n",
            "¿DESEAS INGRESAR UN NUMERO? (s/n): s\n",
            "INGRESE UN NUMERO: 15\n",
            "¿DESEAS INGRESAR UN NUMERO? (s/n): s\n",
            "INGRESE UN NUMERO: 20\n",
            "¿DESEAS INGRESAR UN NUMERO? (s/n): n\n",
            "SUMA DE NUMEROS: 65.0\n",
            "MEDIA DE LOS NUMEROS: 16.25\n",
            "NUMERO MAYOR: 20.0\n",
            "NUMERO MENOR: 10.0\n"
          ]
        }
      ]
    },
    {
      "cell_type": "markdown",
      "source": [
        "2.- función que genere 15 números impares entre 10 y 60 o máximo de 25 números. desplegar la media de los pares y media de impares."
      ],
      "metadata": {
        "id": "n_b1NskPt7q0"
      }
    },
    {
      "cell_type": "code",
      "source": [
        "def num_pares_impares():\n",
        "  import random\n",
        "  numeros_impares = []\n",
        "  numeros_pares = []\n",
        "\n",
        "\n",
        "  while len(numeros_impares) < 15 and len(numeros_impares) + len(numeros_pares) < 25:\n",
        "      numero = random.randint(10, 60)\n",
        "      if numero % 2 != 0:\n",
        "          numeros_impares.append(numero)\n",
        "\n",
        "\n",
        "  for numero in numeros_impares:\n",
        "      if numero % 2 == 0:\n",
        "          numeros_pares.append(numero)\n",
        "\n",
        "\n",
        "  if len(numeros_impares) > 0:\n",
        "      media_impares = sum(numeros_impares) / len(numeros_impares)\n",
        "  else:\n",
        "      media_impares = 0\n",
        "\n",
        "\n",
        "  if len(numeros_pares) > 0:\n",
        "      media_pares = sum(numeros_pares) / len(numeros_pares)\n",
        "  else:\n",
        "      media_pares = 0\n",
        "\n",
        "  print(\"Números impares generados:\", numeros_impares)\n",
        "  print(\"Media de los números impares:\", media_impares)\n",
        "  print(\"Números pares generados:\", numeros_pares)\n",
        "  print(\"Media de los números pares:\", media_pares)"
      ],
      "metadata": {
        "id": "-Pha2mlDuAas"
      },
      "execution_count": null,
      "outputs": []
    },
    {
      "cell_type": "code",
      "source": [
        "num_pares_impares()"
      ],
      "metadata": {
        "colab": {
          "base_uri": "https://localhost:8080/"
        },
        "id": "GT3kk6YbuvY2",
        "outputId": "08200fba-b50c-44a5-b1f8-70988d366b8d"
      },
      "execution_count": null,
      "outputs": [
        {
          "output_type": "stream",
          "name": "stdout",
          "text": [
            "Números impares generados: [47, 39, 17, 31, 19, 59, 13, 55, 27, 39, 17, 25, 55, 59, 57]\n",
            "Media de los números impares: 37.266666666666666\n",
            "Números pares generados: []\n",
            "Media de los números pares: 0\n"
          ]
        }
      ]
    },
    {
      "cell_type": "markdown",
      "source": [
        "3.- función que sirva para leer y validar un número dentro de un rango dado por el usuario. repetir esta acción hasta que el usuario lo desee, desplegar cantidad de números y promedio de los números..\n",
        "\n"
      ],
      "metadata": {
        "id": "wRV3t7gxvelm"
      }
    },
    {
      "cell_type": "code",
      "source": [
        "def valid():\n",
        "    numeros = []\n",
        "    continuar = True\n",
        "\n",
        "    while continuar:\n",
        "        try:\n",
        "            numero = float(input(\"Ingrese un número: \"))\n",
        "            minimo = float(input(\"Ingrese el límite inferior del rango: \"))\n",
        "            maximo = float(input(\"Ingrese el límite superior del rango: \"))\n",
        "\n",
        "            if minimo >= maximo:\n",
        "                print(\"Error: El límite inferior debe ser menor que el límite superior.\")\n",
        "                continue\n",
        "\n",
        "            if minimo <= numero <= maximo:\n",
        "                numeros.append(numero)\n",
        "                respuesta = input(\"¿Desea ingresar otro número? (s/n): \")\n",
        "                if respuesta.lower() != 's':\n",
        "                    continuar = False\n",
        "            else:\n",
        "                print(f\"Error: El número debe estar dentro del rango [{minimo}, {maximo}].\")\n",
        "        except ValueError:\n",
        "            print(\"Error: Por favor, ingrese un número válido.\")\n",
        "\n",
        "    if numeros:\n",
        "        cantidad_numeros = len(numeros)\n",
        "        promedio = sum(numeros) / cantidad_numeros\n",
        "        print(f\"Se ingresaron {cantidad_numeros} números.\")\n",
        "        print(f\"El promedio de los números ingresados es: {promedio}\")\n",
        "    else:\n",
        "        print(\"No se ingresaron números.\")"
      ],
      "metadata": {
        "id": "uk2IWWxzvisY"
      },
      "execution_count": null,
      "outputs": []
    },
    {
      "cell_type": "code",
      "source": [
        "valid()"
      ],
      "metadata": {
        "colab": {
          "base_uri": "https://localhost:8080/"
        },
        "id": "I_QbtjexwHmw",
        "outputId": "681dc6d2-64a7-4cc5-9844-b127b6fc543f"
      },
      "execution_count": null,
      "outputs": [
        {
          "output_type": "stream",
          "name": "stdout",
          "text": [
            "Ingrese un número: 10\n",
            "Ingrese el límite inferior del rango: 9\n",
            "Ingrese el límite superior del rango: 20\n",
            "¿Desea ingresar otro número? (s/n): s\n",
            "Ingrese un número: 5\n",
            "Ingrese el límite inferior del rango: 8\n",
            "Ingrese el límite superior del rango: 10\n",
            "Error: El número debe estar dentro del rango [8.0, 10.0].\n",
            "Ingrese un número: 10\n",
            "Ingrese el límite inferior del rango: 5\n",
            "Ingrese el límite superior del rango: 15\n",
            "¿Desea ingresar otro número? (s/n): n\n",
            "Se ingresaron 2 números.\n",
            "El promedio de los números ingresados es: 10.0\n"
          ]
        }
      ]
    },
    {
      "cell_type": "markdown",
      "source": [
        "4.- función que reciba como parámetro los valores para el área de un triángulo y retorne su resultado"
      ],
      "metadata": {
        "id": "8-VMJUrPwoiM"
      }
    },
    {
      "cell_type": "code",
      "source": [
        "def calcular_area_triangulo(base, altura):\n",
        "\n",
        "    area = (base * altura) / 2\n",
        "    return area"
      ],
      "metadata": {
        "id": "LQoQmBiEwrWz"
      },
      "execution_count": null,
      "outputs": []
    },
    {
      "cell_type": "code",
      "source": [
        "calcular_area_triangulo(5,10)\n"
      ],
      "metadata": {
        "colab": {
          "base_uri": "https://localhost:8080/"
        },
        "id": "s_dm2ZOdxMMe",
        "outputId": "a643bd88-98f5-4a3a-d47e-2cd1cc19476f"
      },
      "execution_count": null,
      "outputs": [
        {
          "output_type": "execute_result",
          "data": {
            "text/plain": [
              "25.0"
            ]
          },
          "metadata": {},
          "execution_count": 59
        }
      ]
    },
    {
      "cell_type": "code",
      "source": [
        "# Ejemplo de uso de la funcion calcular_area_triangulo():\n",
        "\n",
        "base_triangulo = float(input(\"Ingrese la longitud de la base del triángulo: \"))\n",
        "altura_triangulo = float(input(\"Ingrese la altura del triángulo: \"))\n",
        "\n",
        "resultado_area = calcular_area_triangulo(base_triangulo, altura_triangulo)\n",
        "print(f\"El área del triángulo es: {resultado_area}\")"
      ],
      "metadata": {
        "colab": {
          "base_uri": "https://localhost:8080/"
        },
        "id": "0RTFukVXzQKx",
        "outputId": "dd4cd5f1-d7e1-4cd0-e5fe-c835f8137273"
      },
      "execution_count": null,
      "outputs": [
        {
          "output_type": "stream",
          "name": "stdout",
          "text": [
            "Ingrese la longitud de la base del triángulo: 5\n",
            "Ingrese la altura del triángulo: 10\n",
            "El área del triángulo es: 25.0\n"
          ]
        }
      ]
    },
    {
      "cell_type": "markdown",
      "source": [
        "5.- función que sirva para validar un número dentro de un rango dado."
      ],
      "metadata": {
        "id": "3XHY3FQ_yQ2I"
      }
    },
    {
      "cell_type": "code",
      "source": [
        "def validar_numero_en_rango(numero, minimo, maximo):\n",
        "\n",
        "    if minimo <= numero <= maximo:\n",
        "        return True\n",
        "    else:\n",
        "        return False\n"
      ],
      "metadata": {
        "id": "CVrdn6a-yRws"
      },
      "execution_count": null,
      "outputs": []
    },
    {
      "cell_type": "code",
      "source": [
        "validar_numero_en_rango(9,10,15)"
      ],
      "metadata": {
        "colab": {
          "base_uri": "https://localhost:8080/"
        },
        "id": "mUAxmWahy5xx",
        "outputId": "64bed1a9-def7-41d2-c19a-9685f7645ac9"
      },
      "execution_count": null,
      "outputs": [
        {
          "output_type": "execute_result",
          "data": {
            "text/plain": [
              "False"
            ]
          },
          "metadata": {},
          "execution_count": 61
        }
      ]
    },
    {
      "cell_type": "code",
      "source": [
        "#ejemplo de uso de la funcion validar_num_en_rango().\n",
        "\n",
        "numero = float(input(\"Ingrese un número: \"))\n",
        "minimo = float(input(\"Ingrese el límite inferior del rango: \"))\n",
        "maximo = float(input(\"Ingrese el límite superior del rango: \"))\n",
        "\n",
        "if validar_numero_en_rango(numero, minimo, maximo):\n",
        "    print(f\"El número {numero} está dentro del rango [{minimo}, {maximo}].\")\n",
        "else:\n",
        "    print(f\"El número {numero} está fuera del rango [{minimo}, {maximo}].\")"
      ],
      "metadata": {
        "colab": {
          "base_uri": "https://localhost:8080/"
        },
        "id": "yNyT2jb2y6Z4",
        "outputId": "01809b1e-03cc-4e31-e763-5d66e7daf5dc"
      },
      "execution_count": null,
      "outputs": [
        {
          "output_type": "stream",
          "name": "stdout",
          "text": [
            "Ingrese un número: 9\n",
            "Ingrese el límite inferior del rango: 10\n",
            "Ingrese el límite superior del rango: 15\n",
            "El número 9.0 está fuera del rango [10.0, 15.0].\n"
          ]
        }
      ]
    }
  ]
}