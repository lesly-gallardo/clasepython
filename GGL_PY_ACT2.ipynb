{
  "nbformat": 4,
  "nbformat_minor": 0,
  "metadata": {
    "colab": {
      "provenance": [],
      "authorship_tag": "ABX9TyOLjyEClH9lBnARjANMs98W",
      "include_colab_link": true
    },
    "kernelspec": {
      "name": "python3",
      "display_name": "Python 3"
    },
    "language_info": {
      "name": "python"
    }
  },
  "cells": [
    {
      "cell_type": "markdown",
      "metadata": {
        "id": "view-in-github",
        "colab_type": "text"
      },
      "source": [
        "<a href=\"https://colab.research.google.com/github/lesly-gallardo/clasepython/blob/main/GGL_PY_ACT2.ipynb\" target=\"_parent\"><img src=\"https://colab.research.google.com/assets/colab-badge.svg\" alt=\"Open In Colab\"/></a>"
      ]
    },
    {
      "cell_type": "code",
      "execution_count": null,
      "metadata": {
        "id": "AXgoxbua5Cwp"
      },
      "outputs": [],
      "source": []
    },
    {
      "cell_type": "markdown",
      "source": [
        "#ACTIVIDAD 2"
      ],
      "metadata": {
        "id": "yxPGLEYO5TXV"
      }
    },
    {
      "cell_type": "markdown",
      "source": [
        "LESLY GALLARDO GONZALEZ     370027\n",
        "\n",
        "22 AGOSTO 2023\n",
        "\n"
      ],
      "metadata": {
        "id": "Pqw4J4ksGbF8"
      }
    },
    {
      "cell_type": "markdown",
      "source": [
        "1.- Programa en Python que lea 2 números enteros, usar una condición y analizar los dos números y desplegar cual de los números es el mayor.\n",
        "\n"
      ],
      "metadata": {
        "id": "6WhnUNiT5fx0"
      }
    },
    {
      "cell_type": "code",
      "source": [
        "n1=int(input(\"\\nDAME EL PRIMER NUMERO: \"))\n",
        "n2=int (input(\"\\nDAME EL SEGUNDO NUMERO: \"))\n",
        "if n1>n2:\n",
        "  print(f\"\\nEL NUMERO MAYOR ES: {n1}\")\n",
        "if n2>n1:\n",
        "  print (f\"\\nEL NUMERO MAYOR ES:{n2}\")"
      ],
      "metadata": {
        "colab": {
          "base_uri": "https://localhost:8080/",
          "height": 0
        },
        "id": "c5dPJAG65tLm",
        "outputId": "6c1cfed0-d8bb-48bf-a7bb-4bf5c02feab8"
      },
      "execution_count": 48,
      "outputs": [
        {
          "output_type": "stream",
          "name": "stdout",
          "text": [
            "\n",
            "DAME EL PRIMER NUMERO: 85\n",
            "\n",
            "DAME EL SEGUNDO NUMERO: 20\n",
            "\n",
            "EL NUMERO MAYOR ES: 85\n"
          ]
        }
      ]
    },
    {
      "cell_type": "markdown",
      "source": [
        "2.- Programa en PythonAlgoritmo que lea 4 calificaciones de un alumno, calcular y desplegar el promedio acompañado de la leyenda \"APROBADO\" o \"REPROBADO\"\n",
        "\n"
      ],
      "metadata": {
        "id": "PZwBBzQF7rjN"
      }
    },
    {
      "cell_type": "code",
      "source": [
        "cal1=int(input(\"\\nDAME CALIFICACION 1: \"))\n",
        "cal2=int(input(\"\\nDAME CALIFICACION 2: \"))\n",
        "cal3=int(input(\"\\nDAME CALIFICACION 3: \"))\n",
        "cal4=int(input(\"\\nDAME CALIFICACION 4: \"))\n",
        "prom=(cal1+cal2+cal3+cal4)/4\n",
        "print (f\"\\nTU PROMEDIO ES DE: {prom} \")\n",
        "if prom>=60:\n",
        "  print (f\"\\nESTAS A P R O B A D O  °uwu°\")\n",
        "\n",
        "if prom<60:\n",
        "  print (f\"\\nESTAS R E P R O B A D O. °_°\")"
      ],
      "metadata": {
        "colab": {
          "base_uri": "https://localhost:8080/",
          "height": 0
        },
        "id": "RdrSZe0q8Ufu",
        "outputId": "2bd42639-fb82-4009-fd46-d638382a6d90"
      },
      "execution_count": 49,
      "outputs": [
        {
          "output_type": "stream",
          "name": "stdout",
          "text": [
            "\n",
            "DAME CALIFICACION 1: 50\n",
            "\n",
            "DAME CALIFICACION 2: 60\n",
            "\n",
            "DAME CALIFICACION 3: 45\n",
            "\n",
            "DAME CALIFICACION 4: 30\n",
            "\n",
            "TU PROMEDIO ES DE: 46.25 \n",
            "\n",
            "ESTAS R E P R O B A D O. °_°\n"
          ]
        }
      ]
    },
    {
      "cell_type": "markdown",
      "source": [
        "3.- Programa en PythonAlgoritmo que a través de opciones (1.- HOMBRE 2.- MUJER ) preguntar al usuario cual es su sexo y desplegar la leyenda “HOMBRE ”, “MUJER”\n",
        "\n"
      ],
      "metadata": {
        "id": "gmcnGlrW_eeZ"
      }
    },
    {
      "cell_type": "code",
      "source": [
        "\n",
        "print(\"\\nSELECCIONA: \\n\\n1.HOMBRE \\n\\n2.MUJER\")\n",
        "h=int(input(\"\\nQUE SEXO ERES? \"))\n",
        "\n",
        "if h==1:\n",
        "  print (f\"\\nERES HOMBRE\")\n",
        "\n",
        "if h==2:\n",
        "  print(f\"\\nERES MUJER\")"
      ],
      "metadata": {
        "colab": {
          "base_uri": "https://localhost:8080/",
          "height": 0
        },
        "id": "shJu3i1x_kpf",
        "outputId": "1eddffc1-0e24-46cb-d10a-9e834f038805"
      },
      "execution_count": 50,
      "outputs": [
        {
          "output_type": "stream",
          "name": "stdout",
          "text": [
            "\n",
            "SELECCIONA: \n",
            "\n",
            "1.HOMBRE \n",
            "\n",
            "2.MUJER\n",
            "\n",
            "QUE SEXO ERES? 2\n",
            "\n",
            "ERES MUJER\n"
          ]
        }
      ]
    },
    {
      "cell_type": "markdown",
      "source": [
        "4.- Programa en Python que lea un número entero, y desplegar si el número es “PAR” o “IMPAR”\n",
        "\n"
      ],
      "metadata": {
        "id": "g1nQg9RyBUz5"
      }
    },
    {
      "cell_type": "code",
      "source": [
        "n1=int(input(\"\\nDAME NUMERO:\"))\n",
        "if n1%2==0:\n",
        "  print(f\"\\nEL NUMERO ES PAR\")\n",
        "\n",
        "else:\n",
        "    print(f\"\\nEL NUMERO ES IMPAR\")"
      ],
      "metadata": {
        "colab": {
          "base_uri": "https://localhost:8080/",
          "height": 0
        },
        "id": "j8DJgvV1BbQD",
        "outputId": "fdf30b48-7b68-4cd4-9319-83a47001f6ce"
      },
      "execution_count": 51,
      "outputs": [
        {
          "output_type": "stream",
          "name": "stdout",
          "text": [
            "\n",
            "DAME NUMERO:9\n",
            "\n",
            "EL NUMERO ES IMPAR\n"
          ]
        }
      ]
    },
    {
      "cell_type": "markdown",
      "source": [
        "5.- Programa en Python que lea 2 números enteros, usar una condición y analizar los dos números y desplegar cual de los números es el mayor.\n",
        "\n",
        "CONDICION COMPUESTA"
      ],
      "metadata": {
        "id": "SPBlPeZBEjmL"
      }
    },
    {
      "cell_type": "code",
      "source": [
        "n1=int(input(\"\\nDAME EL PRIMER NUMERO: \"))\n",
        "n2=int (input(\"\\nDAME EL SEGUNDO NUMERO: \"))\n",
        "if n1>n2:\n",
        "  print(f\"\\nEL NUMERO MAYOR ES: {n1}\")\n",
        "else:\n",
        "  print (f\"\\nEL NUMERO MAYOR ES:{n2}\")"
      ],
      "metadata": {
        "colab": {
          "base_uri": "https://localhost:8080/",
          "height": 0
        },
        "id": "IGrlmNDtEqeE",
        "outputId": "4a309a35-3df3-4c3e-8b4f-9da4e2529d7a"
      },
      "execution_count": 52,
      "outputs": [
        {
          "output_type": "stream",
          "name": "stdout",
          "text": [
            "\n",
            "DAME EL PRIMER NUMERO: 22\n",
            "\n",
            "DAME EL SEGUNDO NUMERO: 90\n",
            "\n",
            "EL NUMERO MAYOR ES:90\n"
          ]
        }
      ]
    },
    {
      "cell_type": "markdown",
      "source": [
        "6.- Programa en Python que lea 4 calificaciones de un alumno, calcular y desplegar el promedio acompañado de la leyenda APROBADO o REPROBADO\n",
        "\n",
        "CONDICION COMPUESTA"
      ],
      "metadata": {
        "id": "GeGve7gtE7HU"
      }
    },
    {
      "cell_type": "code",
      "source": [
        "cal1=int(input(\"\\nDAME CALIFICACION 1: \"))\n",
        "cal2=int(input(\"\\nDAME CALIFICACION 2: \"))\n",
        "cal3=int(input(\"\\nDAME CALIFICACION 3: \"))\n",
        "cal4=int(input(\"\\nDAME CALIFICACION 4: \"))\n",
        "prom=(cal1+cal2+cal3+cal4)/4\n",
        "print (f\"\\nTU PROMEDIO ES DE: {prom} \")\n",
        "if prom>=60:\n",
        "  print (f\"\\nESTAS A P R O B A D O  °uwu°\")\n",
        "\n",
        "else:\n",
        "\n",
        "  print (f\"\\nESTAS R E P R O B A D O. °_°\")"
      ],
      "metadata": {
        "colab": {
          "base_uri": "https://localhost:8080/",
          "height": 0
        },
        "id": "9t6xhbL6FBla",
        "outputId": "ceed210e-41e9-4206-b1b4-4c5192d7df86"
      },
      "execution_count": 53,
      "outputs": [
        {
          "output_type": "stream",
          "name": "stdout",
          "text": [
            "\n",
            "DAME CALIFICACION 1: 90\n",
            "\n",
            "DAME CALIFICACION 2: 70\n",
            "\n",
            "DAME CALIFICACION 3: 80\n",
            "\n",
            "DAME CALIFICACION 4: 60\n",
            "\n",
            "TU PROMEDIO ES DE: 75.0 \n",
            "\n",
            "ESTAS A P R O B A D O  °uwu°\n"
          ]
        }
      ]
    },
    {
      "cell_type": "markdown",
      "source": [
        "7.- Programa en Python que a través de opciones (1.- HOMBRE 2.- MUJER ) preguntar al usuario cual es su sexo y desplegar la leyenda “HOMBRE ”, “MUJER”\n",
        "\n",
        "CONDICION COMPUESTA"
      ],
      "metadata": {
        "id": "16ys3PCiFkXs"
      }
    },
    {
      "cell_type": "code",
      "source": [
        "print(\"\\nSELECCIONA: \\n\\n1.HOMBRE \\n\\n2.MUJER\")\n",
        "h=int(input(\"\\nQUE SEXO ERES? \"))\n",
        "\n",
        "if h==1:\n",
        "  print (f\"\\nERES HOMBRE\")\n",
        "\n",
        "else:\n",
        "  print(f\"\\nERES MUJER\")"
      ],
      "metadata": {
        "colab": {
          "base_uri": "https://localhost:8080/",
          "height": 0
        },
        "id": "gwy_-AW2Fm_U",
        "outputId": "cf29d5be-4a1e-4789-d321-113e4f9b2758"
      },
      "execution_count": 54,
      "outputs": [
        {
          "output_type": "stream",
          "name": "stdout",
          "text": [
            "\n",
            "SELECCIONA: \n",
            "\n",
            "1.HOMBRE \n",
            "\n",
            "2.MUJER\n",
            "\n",
            "QUE SEXO ERES? 1\n",
            "\n",
            "ERES HOMBRE\n"
          ]
        }
      ]
    },
    {
      "cell_type": "markdown",
      "source": [
        "8.- Programa en Python que lea un número entero, y desplegar si el número es “PAR” o “IMPAR” NOTA: EJERCICIOS PARA SER RESUELTOS USANDO EXCLUSIVAMENTE CONDICIONES COMPUESTO\n",
        "\n"
      ],
      "metadata": {
        "id": "deGTIFMmFw_X"
      }
    },
    {
      "cell_type": "code",
      "source": [
        "n1=int(input(\"\\nDAME NUMERO:\"))\n",
        "if n1%2==0:\n",
        "  print(f\"\\nEL NUMERO ES PAR\")\n",
        "\n",
        "else:\n",
        "    print(f\"\\nEL NUMERO ES IMPAR\")"
      ],
      "metadata": {
        "colab": {
          "base_uri": "https://localhost:8080/",
          "height": 0
        },
        "id": "WDLFjJXCF1FU",
        "outputId": "93e546ad-6c40-46cf-ffb2-ee7602cc3ca9"
      },
      "execution_count": 55,
      "outputs": [
        {
          "output_type": "stream",
          "name": "stdout",
          "text": [
            "\n",
            "DAME NUMERO:20\n",
            "\n",
            "EL NUMERO ES PAR\n"
          ]
        }
      ]
    }
  ]
}