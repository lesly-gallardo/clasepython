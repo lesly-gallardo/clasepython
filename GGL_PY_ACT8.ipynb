{
  "nbformat": 4,
  "nbformat_minor": 0,
  "metadata": {
    "colab": {
      "provenance": [],
      "authorship_tag": "ABX9TyNrsRXtzHNh0T6LU4H+tJ6P",
      "include_colab_link": true
    },
    "kernelspec": {
      "name": "python3",
      "display_name": "Python 3"
    },
    "language_info": {
      "name": "python"
    }
  },
  "cells": [
    {
      "cell_type": "markdown",
      "metadata": {
        "id": "view-in-github",
        "colab_type": "text"
      },
      "source": [
        "<a href=\"https://colab.research.google.com/github/lesly-gallardo/clasepython/blob/main/GGL_PY_ACT8.ipynb\" target=\"_parent\"><img src=\"https://colab.research.google.com/assets/colab-badge.svg\" alt=\"Open In Colab\"/></a>"
      ]
    },
    {
      "cell_type": "markdown",
      "source": [
        "#ACTIVIDAD 8\n",
        "\n",
        "LESLY GALLARDO GONZALEZ\n",
        "\n",
        "MATRICULA: 370027\n",
        "\n",
        "FECHA: 11 DE OCTUBRE DEL 2023"
      ],
      "metadata": {
        "id": "LYaxGQCQTotT"
      }
    },
    {
      "cell_type": "markdown",
      "source": [
        "1.- Programa en python que genere un número entre el 1 y 10 (no visible)  preguntarle al usuario que número cree que generó la computadora, el usuario tendrá 3 oportunidades de adivinar.\n",
        "\n",
        "Decir si adivino o si falló en sus 3 intentos.\n",
        "\n",
        "NOTA: 100% VALIDADO (usar función para validar números)\n",
        "\n",
        "NOTA2: El usuario podrá jugar cuantas veces lo desee, al final del juego desplegar cantidad de ganados y perdidos"
      ],
      "metadata": {
        "id": "x56JXQ2yT3A2"
      }
    },
    {
      "cell_type": "code",
      "execution_count": null,
      "metadata": {
        "id": "vsQjJLZXTfma"
      },
      "outputs": [],
      "source": [
        "import random"
      ]
    },
    {
      "cell_type": "code",
      "source": [
        "def validnum(ri, rf, msge):\n",
        "    while True:\n",
        "        num=int(input(f\"{msge}\"))\n",
        "        if num>=ri and num<=rf:\n",
        "           break\n",
        "        else:\n",
        "            continue\n",
        "    return num"
      ],
      "metadata": {
        "id": "9U-2PiPJUBQS"
      },
      "execution_count": 11,
      "outputs": []
    },
    {
      "cell_type": "code",
      "source": [
        "\n",
        "from random import randint\n",
        "\n",
        "wins = 0\n",
        "lose = 0\n",
        "\n",
        "while True:\n",
        "    opor=0\n",
        "    numrand = randint(1,10)\n",
        "    print(f\"{numrand}\")\n",
        "    while opor<3:\n",
        "        num = validnum(1, 10, f\"Adivina el numero secreto entre 1 y 10\\n\")\n",
        "        if num == numrand:\n",
        "            print(\"FELICIDADES GANASTE\")\n",
        "            wins += 1\n",
        "            break\n",
        "        opor+=1\n",
        "    else:\n",
        "        print(\"LO SIENTO PERDISTE\")\n",
        "        lose += 1\n",
        "    opc=int(input(\"¿Jugar de nuevo? \\n 1.-SI  2.-NO\"))\n",
        "    if opc==1:\n",
        "        continue\n",
        "    elif opc==2:\n",
        "        break\n",
        "print(f\"TERMINO EL JUEGO \\nGANADOS: {wins} \\nPERDIDOS: {lose}\")"
      ],
      "metadata": {
        "colab": {
          "base_uri": "https://localhost:8080/",
          "height": 0
        },
        "id": "T0xtCI-CUEjE",
        "outputId": "3b631758-c957-4769-9987-05b7b6b33601"
      },
      "execution_count": 16,
      "outputs": [
        {
          "output_type": "stream",
          "name": "stdout",
          "text": [
            "9\n",
            "Adivina el numero secreto entre 1 y 10\n",
            "6\n",
            "Adivina el numero secreto entre 1 y 10\n",
            "5\n",
            "Adivina el numero secreto entre 1 y 10\n",
            "3\n",
            "LO SIENTO PERDISTE\n",
            "¿Jugar de nuevo? \n",
            " 1.-SI  2.-NO2\n",
            "TERMINO EL JUEGO \n",
            "GANADOS: 0 \n",
            "PERDIDOS: 1\n"
          ]
        }
      ]
    },
    {
      "cell_type": "markdown",
      "source": [
        "2.- El juego Busca Número muestra una lista de 10 numeros, sin mostrar su contenido,\n",
        "\n",
        "Al usuario se le muestra un número que se generó aleatoriamente y el usuario tendrá 3 intentos de adivinar en qué índice del arreglo se encuentra.\n",
        "\n",
        "El usuario recibirá un mensaje que diga GANASTE, PERDISTE, TIENES UN NUEVO INTENTO\n",
        "\n",
        "El usuario podrá jugar cuantas veces lo desee.\n",
        "\n",
        "NOTA: La lista se deberá llenar con números aleatorios del 1 al 10 no repetidos.\n",
        "\n",
        "(Hacer una función que regrese la lista con los 10 números sin repetir)\n",
        "\n",
        "NOTA: REALIZA 3 VERSIONES DIFERENTES DEL LLENADO DE LA LISTA ALEATORIA\n",
        "\n",
        "VERSIÓN A) Usar ciclos para validar los repetidos, y sólo random para generar los números dentro del rango\n",
        "\n",
        "\n",
        "\n",
        "VERSIÓN B) Usa funciones de la librería Random para llenar la lista con los número sin repetir\n",
        "\n",
        "\n",
        "\n",
        "VERSIÓN C) Usa funciones de la librería Random para llenar la lista con los número sin repetir"
      ],
      "metadata": {
        "id": "G0cqXAqVUO_M"
      }
    },
    {
      "cell_type": "code",
      "source": [
        "print(\"VERSIONES DEL JUEGO\\n\\n1.- Version A \\n2.- Version B \\n3.- Version C\\n\")\n",
        "opc = int(input(\"Elige la version del juego que quieres: \"))\n",
        "if opc == 1:\n",
        "    VersionA()\n",
        "elif opc == 2:\n",
        "    VersionB()\n",
        "elif opc == 3:\n",
        "    VersionC()"
      ],
      "metadata": {
        "colab": {
          "base_uri": "https://localhost:8080/",
          "height": 0
        },
        "id": "U_wmqjGlULQ8",
        "outputId": "2f7a13da-8be9-4986-94f4-b0b21ca13a46"
      },
      "execution_count": 15,
      "outputs": [
        {
          "name": "stdout",
          "output_type": "stream",
          "text": [
            "VERSIONES DEL JUEGO\n",
            "\n",
            "1.- Version A \n",
            "2.- Version B \n",
            "3.- Version C\n",
            "\n",
            "Elige la version del juego que quieres: 1\n",
            "Dime en que posicion crees que se encuentra el numero: 2 Tienes 3 intentos \n",
            "4\n",
            "Cometiste un error vuelve a intentarlo\n",
            "Dime en que posicion crees que se encuentra el numero: 2 Tienes 3 intentos \n",
            "3\n",
            "Cometiste un error vuelve a intentarlo\n",
            "Dime en que posicion crees que se encuentra el numero: 2 Tienes 3 intentos \n",
            "2\n",
            "Cometiste 3 errores has perdido\n",
            "2 se encuentra en el indice: 9\n",
            "Jugar de nuevo? 1.- SI 0.- NO \n",
            "0\n"
          ]
        }
      ]
    },
    {
      "cell_type": "code",
      "source": [
        "def VersionA():\n",
        "    seguir = 1\n",
        "    while seguir!=0:\n",
        "        lista = []\n",
        "        numsec = random.randint(1,10)\n",
        "        i = 0\n",
        "        while i < 10:\n",
        "            num = random.randint(1,10)\n",
        "            if num not in lista:\n",
        "                lista.append(num)\n",
        "                i+=1\n",
        "            else:\n",
        "                continue\n",
        "        i = 0\n",
        "        while i<3:\n",
        "            num = int (input(f\"Dime en que posicion crees que se encuentra el numero: {numsec} Tienes 3 intentos \\n\"))\n",
        "            if numsec in lista:\n",
        "                indice = lista.index(numsec)\n",
        "                if num == indice:\n",
        "                    print(\"FELICIDADES ADIVINASTE LA POSICION\")\n",
        "                    break\n",
        "                elif i<2:\n",
        "                    print(\"Cometiste un error vuelve a intentarlo\")\n",
        "                    i+=1\n",
        "                elif i==2:\n",
        "                    print(\"Cometiste 3 errores has perdido\")\n",
        "                    i+=1\n",
        "        print (f\"{num} se encuentra en el indice: {indice}\")\n",
        "        seguir = int(input(\"Jugar de nuevo? 1.- SI 0.- NO \\n\"))\n",
        "\n"
      ],
      "metadata": {
        "id": "QCmVDYazUrBn"
      },
      "execution_count": 13,
      "outputs": []
    },
    {
      "cell_type": "code",
      "source": [
        "def VersionB():\n",
        "    seguir = 1\n",
        "    while seguir!=0:\n",
        "        lista = range(1,11)\n",
        "        lista = random.sample(lista, 10)\n",
        "        numsec = random.randint(1,10)\n",
        "        i=0\n",
        "        while i<3:\n",
        "            num = int (input(f\"Dime en que posicion crees que se encuentra el numero: {numsec} Tienes 3 intentos \\n\"))\n",
        "            if numsec in lista:\n",
        "                indice = lista.index(numsec)\n",
        "                if num == indice:\n",
        "                    print(\"FELICIDADES ADIVINASTE LA POSICION\")\n",
        "                    break\n",
        "                elif i<2:\n",
        "                    print(\"Cometiste un error vuelve a intentarlo\")\n",
        "                    i+=1\n",
        "                elif i==2:\n",
        "                    print(\"Cometiste 3 errores has perdido\")\n",
        "                    i+=1\n",
        "        print (f\"{num} se encuentra en el indice: {indice}\")\n",
        "        seguir = int(input(\"Jugar de nuevo? 1.- SI 0.- NO \\n\"))"
      ],
      "metadata": {
        "id": "_X_p4KaPUwOv"
      },
      "execution_count": 2,
      "outputs": []
    },
    {
      "cell_type": "code",
      "source": [
        "def VersionC():\n",
        "    seguir = 1\n",
        "    while seguir!=0:\n",
        "        lista = [1,2,3,4,5,6,7,8,9,10]\n",
        "        random.shuffle(lista)\n",
        "        numsec = random.randint(1,10)\n",
        "        i=0\n",
        "        while i<3:\n",
        "            num = int (input(f\"Dime en que posicion crees que se encuentra el numero: {numsec} Tienes 3 intentos \\n\"))\n",
        "            if numsec in lista:\n",
        "                indice = lista.index(numsec)\n",
        "                if num == indice:\n",
        "                    print(\"FELICIDADES ADIVINASTE LA POSICION\")\n",
        "                    break\n",
        "                elif i<2:\n",
        "                    print(\"Cometiste un error vuelve a intentarlo\")\n",
        "                    i+=1\n",
        "                elif i==2:\n",
        "                    print(\"Cometiste 3 errores has perdido\")\n",
        "                    i+=1\n",
        "        print (f\"{num} se encuentra en el indice: {indice}\")\n",
        "        seguir = int(input(\"Jugar de nuevo? 1.- SI 0.- NO \\n\"))"
      ],
      "metadata": {
        "id": "MJ3FMutAU1yr"
      },
      "execution_count": 1,
      "outputs": []
    }
  ]
}