{
  "nbformat": 4,
  "nbformat_minor": 0,
  "metadata": {
    "colab": {
      "provenance": [],
      "authorship_tag": "ABX9TyNFYEBzDmv7Oy9nkZD9oZzH",
      "include_colab_link": true
    },
    "kernelspec": {
      "name": "python3",
      "display_name": "Python 3"
    },
    "language_info": {
      "name": "python"
    }
  },
  "cells": [
    {
      "cell_type": "markdown",
      "metadata": {
        "id": "view-in-github",
        "colab_type": "text"
      },
      "source": [
        "<a href=\"https://colab.research.google.com/github/lesly-gallardo/clasepython/blob/main/LGG_PY_ACT4.ipynb\" target=\"_parent\"><img src=\"https://colab.research.google.com/assets/colab-badge.svg\" alt=\"Open In Colab\"/></a>"
      ]
    },
    {
      "cell_type": "markdown",
      "source": [
        "#ACTIVIDAD 4\n",
        "LESLY GALLARDO GONZALEZ\n",
        "\n",
        "MATRICULA:370027\n",
        "\n",
        "26 DE FEBRERO DEL 2024"
      ],
      "metadata": {
        "id": "2nZixqx1VEEV"
      }
    },
    {
      "cell_type": "markdown",
      "source": [
        "1.- Programa en python   que lea 3 calificaciones calcule el promedio del alumno y desplegar:\n",
        "\n",
        "Si prom < 30 Repetir\n",
        "\n",
        "Si prom >=30 y prom <60 extraordinario\n",
        "\n",
        "Si prom >=60 y prom <70 suficiente\n",
        "\n",
        "Si prom >=70 y prom <80 Regular\n",
        "\n",
        "Si prom >=80 y prom <90 bien\n",
        "\n",
        "Si prom >=90 y prom <98 muy bien\n",
        "\n",
        "Si prom >=98 y prom <=100 excelente\n",
        "\n",
        "Si prom >100 Error en promedio\n",
        "\n",
        "Realizar el algoritmo optimizado"
      ],
      "metadata": {
        "id": "R--yeVEDVUx3"
      }
    },
    {
      "cell_type": "code",
      "source": [
        "\n",
        "try:\n",
        "  calif1 =float(input(\"IINGRESA LA PRIMERA CALIFICACION (ENTRE 0 y 100): \"))\n",
        "  if calif1 < 0 or calif1 > 100:\n",
        "    raise ValueError(\"LA CALIFICACION ES DEL 0 AL 100.\")\n",
        "\n",
        "  calif2 = float(input(\"INGRESA LA SEGUNDA CALIFICACION (ENTRE 0 y 100): \"))\n",
        "  if calif2 < 0 or calif2 > 100:\n",
        "     raise ValueError(\"LA CALIFICACION ES DEL 0 AL 100.\")\n",
        "\n",
        "  calif3 = float(input(\"INGRESA LA TERCERA CALIFICACION (ENTRE 0 y 100): \"))\n",
        "  if calif3 < 0 or calif3 > 100:\n",
        "        raise ValueError(\"LA CALIFICACION ES DEL 0 AL 100.\")\n",
        "\n",
        "  prom=(calif1 + calif2 + calif3)/3\n",
        "except ValueError as e:\n",
        "  print(f\"ERROR. {e}\")\n",
        "\n",
        "except TypeError:\n",
        "  print(\"EL VALOR DEBE SER REAL.\")\n",
        "\n",
        "except:\n",
        "  print(\"OCURRIO UN ERROR INESPERADO\")\n",
        "\n",
        "else:\n",
        "  print(f\"TU PROMEDIO ES: {prom}\")\n",
        "  if prom<80:\n",
        "    if prom<60:\n",
        "      if prom<30:\n",
        "       print(\"\\nR E P E T I R\");\n",
        "      else:\n",
        "        print(\"\\nE X T R A O R D I N A R I O\");\n",
        "    else:\n",
        "     if prom<70:\n",
        "      print(\"\\nS U F I C I E N T E\");\n",
        "     else:\n",
        "      print(\"\\nR E G U L A R\");\n",
        "  else:\n",
        "    if prom<98:\n",
        "      if prom<90:\n",
        "        print(\"\\nB I E N\");\n",
        "      else:\n",
        "        print(\"\\nM U Y  B I E N\")\n",
        "\n",
        "    else:\n",
        "      if prom<=100:\n",
        "        print (\"\\nE X C E L E N T E \");\n",
        "      else:\n",
        "        print(\"\\nE R R O R  E N  P R O M E D I O\");\n"
      ],
      "metadata": {
        "colab": {
          "base_uri": "https://localhost:8080/",
          "height": 0
        },
        "id": "7kbnsTXvVaaX",
        "outputId": "3d18cf99-30bc-40da-a410-a3792e32a550"
      },
      "execution_count": 1,
      "outputs": [
        {
          "output_type": "stream",
          "name": "stdout",
          "text": [
            "IINGRESA LA PRIMERA CALIFICACION (ENTRE 0 y 100): 100\n",
            "INGRESA LA SEGUNDA CALIFICACION (ENTRE 0 y 100): 101\n",
            "ERROR. LA CALIFICACION ES DEL 0 AL 100.\n"
          ]
        }
      ]
    },
    {
      "cell_type": "markdown",
      "source": [
        "2.- Programa en Python que sirva para calcular el salario semanal de un trabajador donde se obtiene como dato de entrada las horas semanales trabajadas, el salario por hora.\n",
        "\n",
        "El programa deberá calcular el salario normal, salario extra y salario total, considerando lo siguiente:\n",
        "\n",
        "Jornada Normal de 40 horas.\n",
        "El salario normal se considera las horas trabajadas menores o igual a la jornada normal\n",
        "Salario extra se considera las horas trabajadas mayores a la jornada normal y se pagan dobles las primeras 9 y triples a partir de la décima hora extra\n",
        "\n",
        "\n",
        "Nota: Desplegar todos los datos (Salario x hora, Horas Trabajadas, Salario normal, Salario extra y Salario Total)"
      ],
      "metadata": {
        "id": "0_lrimhjg3Ku"
      }
    },
    {
      "cell_type": "code",
      "source": [
        "jn=40\n",
        "ht=int(input(\"DAME HORAS TRABAJADAS: \"))\n",
        "sxh=float(input(\"DAME SALARIO POR HORA: \"))\n",
        "\n",
        "if ht>jn:\n",
        "  sn=jn*sxh\n",
        "else:\n",
        "  sn=ht*sxh\n",
        "  se=0\n",
        "if ht>(jn+9):\n",
        "  se=(9*sxh*2)+(ht-(jn+9))*sxh*3\n",
        "else:\n",
        "  se=(ht-jn*sxh*2)\n",
        "\n",
        "st=sn+se\n",
        "try:\n",
        "  if ht<0:\n",
        "    raise Exception('negative')\n",
        "\n",
        "except Exception as inst:\n",
        "        print(f\"ERROR. EL NUMERO DE HORAS TRABAJADAS NO PUEDE SER NEGATIVO\".format(inst))\n",
        "\n",
        "else:\n",
        "  print(f\"HORAS TRABAJADAS: {ht}\")\n",
        "  print(f\"SALARIO POR HORA: {sxh}\")\n",
        "  print(f\"SALARIO NORMAL: {sn}\")\n",
        "  print(f\"SALARIO EXTRA: {se}\")\n",
        "  print(f\"SALARIO TOTAL: {st}\")"
      ],
      "metadata": {
        "colab": {
          "base_uri": "https://localhost:8080/",
          "height": 0
        },
        "id": "0HQJrAnRg9q1",
        "outputId": "d1dac850-ca98-4317-99ae-cd9444d08db1"
      },
      "execution_count": 2,
      "outputs": [
        {
          "output_type": "stream",
          "name": "stdout",
          "text": [
            "DAME HORAS TRABAJADAS: -30\n",
            "DAME SALARIO POR HORA: 24\n",
            "ERROR. EL NUMERO DE HORAS TRABAJADAS NO PUEDE SER NEGATIVO\n"
          ]
        }
      ]
    },
    {
      "cell_type": "markdown",
      "source": [
        "3.- Programa en Python que sirva para calcular el Total a pagar por consumo de agua, donde el dato de entrada son los M3 de agua consumidos, Tomar en cuenta que se cobra escalonada de la Siguiente manera:\n",
        "\n",
        "Rango1: 0 al 4 M3 $50 x facturación sin importar cuánto consumió en este rango\n",
        "\n",
        "Rango2: 5 a 15 M3 $8.00 x M3\n",
        "\n",
        "Rango3: 16 a 50 M3 $10.00 x M3\n",
        "\n",
        "Rango4: 51 M3 en adelante $11.00 x M3\n",
        "\n",
        "Nota: Desplegar SubTotal, Iva(16%), y Total a pagar.\n",
        "\n"
      ],
      "metadata": {
        "id": "l5qcPxwep0Wf"
      }
    },
    {
      "cell_type": "code",
      "source": [
        "try:\n",
        "  m3=float(input(\"INGRESA LOS m3 DE AGUA QUE GASTAN EN TU CASA: \"))\n",
        "  if not type(m3) is float:\n",
        "    raise TypeError(\"LOS m3 DEBEN SER SOLO NUMEROS REALES.\")\n",
        "\n",
        "except ValueError:\n",
        "  print(\"LOS m3 DEBEN SER SOLO NUMEROS REALES\")\n",
        "except TypeError as e:\n",
        "   print(f\"ERROR. {e}\")\n",
        "\n",
        "else:\n",
        "  if 0>=4:\n",
        "   ran1=50\n",
        "   iva=ran1*0.16\n",
        "   total=ran1+iva\n",
        "   print (f\"SUBTOTAL: {ran1}\")\n",
        "   print (f\"IVA: {iva}\")\n",
        "   print (f\"TOTAL: {total}\")\n",
        "  elif 5<=15:\n",
        "   ran2=(((m3-4)*8)*50)+50\n",
        "   iva=ran2*0.16\n",
        "   total=ran2+iva\n",
        "   print (f\"SUBTOTAL: {ran2}\")\n",
        "   print (f\"IVA: {iva}\")\n",
        "   print (f\"TOTAL: {total}\")\n",
        "  elif 16<50:\n",
        "    ran3=((((m3-4)*8)*50)+50)+((m3-15)*10)*50\n",
        "    iva=ran3*0.16\n",
        "    total=ran3+iva\n",
        "    print (f\"SUBTOTAL: {ran3}\")\n",
        "    print (f\"IVA: {iva}\")\n",
        "    print (f\"TOTAL: {total}\")\n",
        "  elif m3>51:\n",
        "   ran4=((((((m3-4)*8)*50)+50)+((m3-15)*10)*50)*11)*50\n",
        "   iva=ran4*0.16\n",
        "   total=ran4+iva\n",
        "   print (f\"SUBTOTAL: {ran4}\")\n",
        "   print (f\"IVA: {iva}\")\n",
        "   print (f\"TOTAL: {total}\")\n",
        "\n",
        "\n"
      ],
      "metadata": {
        "colab": {
          "base_uri": "https://localhost:8080/",
          "height": 0
        },
        "id": "pIoAtIn3p5vh",
        "outputId": "c5bd215f-4cb3-4542-b2ab-4586fbdab8e0"
      },
      "execution_count": 3,
      "outputs": [
        {
          "output_type": "stream",
          "name": "stdout",
          "text": [
            "INGRESA LOS m3 DE AGUA QUE GASTAN EN TU CASA: LL\n",
            "LOS m3 DEBEN SER SOLO NUMEROS REALES\n"
          ]
        }
      ]
    },
    {
      "cell_type": "markdown",
      "source": [
        "4- En la materia de Metodología de la programación se aplican 5 exámenes, calcular el promedio final de la materia donde la calificación menor de los exámenes se anula y el promedio se calcula en base a 4 exámenes.\n",
        "\n",
        "Desplegar el promedio final. y cual es la mas baja que se elimino."
      ],
      "metadata": {
        "id": "NaXnXgqVwZ17"
      }
    },
    {
      "cell_type": "code",
      "source": [
        "\n",
        "try:\n",
        "  cal1 =float(input(\"IINGRESA LA PRIMERA CALIFICACION: \"))\n",
        "  if cal1 < 0 or cal1 > 100:\n",
        "    raise ValueError(\"LA CALIFICACION ES DEL 0 AL 100.\")\n",
        "\n",
        "  cal2 = float(input(\"INGRESA LA SEGUNDA CALIFICACION: \"))\n",
        "  if cal2 < 0 or cal2 > 100:\n",
        "     raise ValueError(\"LA CALIFICACION ES DEL 0 AL 100.\")\n",
        "\n",
        "  cal3 = float(input(\"INGRESA LA TERCERA CALIFICACION: \"))\n",
        "  if cal3 < 0 or cal3 > 100:\n",
        "        raise ValueError(\"LA CALIFICACION ES DEL 0 AL 100.\")\n",
        "\n",
        "  cal4 = float(input(\"INGRESA LA CUARTA CALIFICACION: \"))\n",
        "  if not type(cal4) is float:\n",
        "    raise TypeError(\"LAS CALIFICACIONES DEBEN SER DE TIPO REAL\")\n",
        "\n",
        "  cal5 = float(input(\"INGRESA LA QUINTA CALIFICACION: \"))\n",
        "  if cal5 < 0 or cal5 > 100:\n",
        "     raise ValueError(\"LA CALIFICACION ES DEL 0 AL 100.\")\n",
        "\n",
        "  CalMen=cal1\n",
        "  prom=(cal1 + cal2 + cal3 +cal4 +cal5 - CalMen)/4\n",
        "  print (f\"LA CALIFICACION QUE SE ELIMINA POR SER LA MENOR ES: {CalMen}\")\n",
        "  print(f\"TU PROMEDIO ES: {prom}\")\n",
        "\n",
        "except ValueError as e:\n",
        "  print(f\"ERROR. {e}\")\n",
        "\n",
        "except TypeError :\n",
        "  print(\"SOLO PUEDEN SER NUMEROS REALES\")\n",
        "else:\n",
        "  CalMen=cal1\n",
        "  if cal2<CalMen:\n",
        "   CalMen=cal2\n",
        "  elif cal3<CalMen:\n",
        "   CalMen=cal3\n",
        "  elif cal4<CalMen:\n",
        "   CalMen=cal4\n",
        "  elif cal5<CalMen:\n",
        "    CalMen=cal5\n"
      ],
      "metadata": {
        "colab": {
          "base_uri": "https://localhost:8080/",
          "height": 0
        },
        "id": "c9DsQs7hwlD7",
        "outputId": "b5f9844f-b927-45d0-9df8-6e9b00f96ba0"
      },
      "execution_count": 4,
      "outputs": [
        {
          "output_type": "stream",
          "name": "stdout",
          "text": [
            "IINGRESA LA PRIMERA CALIFICACION: 115\n",
            "ERROR. LA CALIFICACION ES DEL 0 AL 100.\n"
          ]
        }
      ]
    },
    {
      "cell_type": "markdown",
      "source": [
        "5.- Programa en Python que sirva para el juego del CHINCHAMPU (Piedra, Papel, Tijera) para 1 jugador y la computadora"
      ],
      "metadata": {
        "id": "foEYwixr76M5"
      }
    },
    {
      "cell_type": "code",
      "source": [
        "from random import randint\n",
        "\n",
        "print (\"MENU DE OPCIONES:\\n\")\n",
        "print(\"1.-PIEDRA\")\n",
        "print(\"2.-PAPEL\")\n",
        "print(\"3.-TIJERA\")\n",
        "n1=int(input(\"\\nINGRESA LA OPCION QUE QUIERES: \"))\n",
        "n2=randint(1,3)\n",
        "try:\n",
        "  if n1<0:\n",
        "    raise Exception('negative')\n",
        "\n",
        "except Exception as inst:\n",
        "        print(f\"ERROR. TU NUMERO DE OPCION NO PUEDE SER NEGATIVA\".format(inst))\n",
        "else:\n",
        "  if n1==1 and n2==3:\n",
        "   print(\"ELEGISTE PIEDRA.\")\n",
        "   print(\"LA COMPUTADORA ELIGIO PIEDRA.\")\n",
        "   print (\"E M P A T E °.°\")\n",
        "  elif n1==2 and n2==2:\n",
        "   print(\"ELEGISTE PAPEL.\")\n",
        "   print (\"LA COMPUTADORA ELIGIO PAPEL.\")\n",
        "   print (\"E M P A T E °.°\")\n",
        "  elif n1==3 and n2==3:\n",
        "   print(\"ELEJISTE TIJERA.\")\n",
        "   print(\"LA COMPUTADORA ELIGIO TIJERA\")\n",
        "   print (\"E M P A T E °.°\")\n",
        "  elif n1==1 and n2==2:\n",
        "   print (\"ELEGISTE PIEDRA\")\n",
        "   print (\"LA COMPUTADORA ELIGIO PAPEL\")\n",
        "   print (\"P E R D I S T E °∩°\")\n",
        "  elif n1==1 and n2==3:\n",
        "   print(\"ELEGISTE PIEDRA\")\n",
        "   print (\"LA COMPUTADORA ELIGIO TIJERA\")\n",
        "   print(\"G A N A S T E °w°\")\n",
        "  elif n1==2 and n2==1:\n",
        "   print(\"ELEGISTE PAPEL.\")\n",
        "   print (\"LA MAQUINA ESCOGIO PIEDRA\")\n",
        "   print (\"G A N A S T E °w°\")\n",
        "  elif n1==2 and n2==3:\n",
        "   print (\"ELEGISTE PAPEL.\")\n",
        "   print (\"LA COMPUTADORA ELIGIO TIJERA.\")\n",
        "   print (\"P E R D I S T E °∩°\")\n",
        "  elif n1==3 and n2==1:\n",
        "   print(\"ELEGISTE TIJERA.\")\n",
        "   print(\"LA COMPUTADORA ELIGIO PIEDRA\")\n",
        "   print (\"P E R D I S T E\")\n",
        "  elif n1==3 and n2==2:\n",
        "   print (\"ELEGISTE TIJERA.\")\n",
        "   print (\"LA COMPUTADORA ELIGIO PAPEL.\")\n",
        "   print (\"G A N A S T E °w°\")"
      ],
      "metadata": {
        "colab": {
          "base_uri": "https://localhost:8080/",
          "height": 0
        },
        "id": "BoPDUdKr79Xy",
        "outputId": "8bdf117a-4010-4a8c-f6ed-d81299728ec0"
      },
      "execution_count": 6,
      "outputs": [
        {
          "output_type": "stream",
          "name": "stdout",
          "text": [
            "MENU DE OPCIONES:\n",
            "\n",
            "1.-PIEDRA\n",
            "2.-PAPEL\n",
            "3.-TIJERA\n",
            "\n",
            "INGRESA LA OPCION QUE QUIERES: -2\n",
            "ERROR. TU NUMERO DE OPCION NO PUEDE SER NEGATIVA\n"
          ]
        }
      ]
    },
    {
      "cell_type": "markdown",
      "source": [
        "6.- Programa en Python que lea 4 números enteros desplegar cual es mayor\n",
        "\n"
      ],
      "metadata": {
        "id": "bZegKxIjBUKi"
      }
    },
    {
      "cell_type": "code",
      "source": [
        "n1=int(input(\"DAME NUMERO 1: \"))\n",
        "n2=int(input(\"DAME NUMERO 2: \"))\n",
        "n3=int(input(\"DAME NUMERO 3: \"))\n",
        "n4=int(input(\"DAME NUMERO 4: \"))\n",
        "try:\n",
        "  if n1<0:\n",
        "    raise Exception('negative')\n",
        "  if n2<0:\n",
        "    raise Exception('negativeE')\n",
        "  if n3<0:\n",
        "    raise Exception('negativeee')\n",
        "  if n4<0:\n",
        "    raise Exception('negativeeeee')\n",
        "\n",
        "except Exception as inst:\n",
        "        print(f\"ERROR. NINGUN NUMERO PUEDE SER NEGATIVO\".format(inst))\n",
        "except Exception as insta:\n",
        "        print(f\"ERROR. NINGUN NUMERO PUEDE SER NEGATIVO\".format(insta))\n",
        "except Exception as instag:\n",
        "        print(f\"ERROR. NINGUN NUMERO PUEDE SER NEGATIVO\".format(instag))\n",
        "except Exception as instagr:\n",
        "        print(f\"ERROR. NINGUN NUMERO PUEDE SER NEGATIVO\".format(instagr))\n",
        "\n",
        "\n",
        "else:\n",
        "  mayor=n1\n",
        "  if n2>mayor:\n",
        "   mayor=n2\n",
        "  if n3>mayor:\n",
        "   mayor=n3\n",
        "  if n4>mayor:\n",
        "   mayor=n4\n",
        "  print(f\"EL NUMERO MAYOR ES: {mayor}\")\n"
      ],
      "metadata": {
        "colab": {
          "base_uri": "https://localhost:8080/",
          "height": 0
        },
        "id": "kysiebn5BZ5A",
        "outputId": "ff26157e-819f-4947-e709-a1bb90ec967a"
      },
      "execution_count": 7,
      "outputs": [
        {
          "output_type": "stream",
          "name": "stdout",
          "text": [
            "DAME NUMERO 1: -2\n",
            "DAME NUMERO 2: -2\n",
            "DAME NUMERO 3: 1\n",
            "DAME NUMERO 4: 5\n",
            "ERROR. NINGUN NUMERO PUEDE SER NEGATIVO\n"
          ]
        }
      ]
    },
    {
      "cell_type": "markdown",
      "source": [
        "7.- Programa en Python que sirva para calcular el área de un triangulo, los datos de entrada deben ser forzosamente de tipo real"
      ],
      "metadata": {
        "id": "pTsES2eGUxS5"
      }
    },
    {
      "cell_type": "code",
      "execution_count": 8,
      "metadata": {
        "id": "09acOVd2DaP6",
        "colab": {
          "base_uri": "https://localhost:8080/",
          "height": 0
        },
        "outputId": "13129bc6-1e4b-4333-c508-bfca3d52ef1a"
      },
      "outputs": [
        {
          "output_type": "stream",
          "name": "stdout",
          "text": [
            "DAME LA BASE DEL TRIANGULO: 5.5\n",
            "DAME EL ALTURA DEL TRIANGULO: TRE\n",
            "\n",
            "DEBES UTILIZAR NUMEROS REALES\n"
          ]
        }
      ],
      "source": [
        "base=(input(\"DAME LA BASE DEL TRIANGULO: \"))\n",
        "h=(input(\"DAME EL ALTURA DEL TRIANGULO: \"))\n",
        "try:\n",
        "   area=(float(base)*float(h))/2\n",
        "   print(f\"EL AREA DEL TRIANGULOS ES: {area}\")\n",
        "except ValueError:\n",
        "   print (\"\\nDEBES UTILIZAR NUMEROS REALES\")\n"
      ]
    },
    {
      "cell_type": "markdown",
      "source": [
        "8.- Programa en Python que sirva para calcular el área de un circulo\n",
        "\n",
        "\n",
        "\n"
      ],
      "metadata": {
        "id": "bZudwwAa48cS"
      }
    },
    {
      "cell_type": "code",
      "source": [
        "PI=3.1416\n",
        "radio=(input(\"DAME EL RADIO DE TU CIRCULO: \"))\n",
        "try:\n",
        "  area=((PI)*(float(radio)**2))\n",
        "except ValueError:\n",
        "  print(\"DEBES DE UTILIZAR NUMEROS REALES PARA EL RADIO.\")\n",
        "\n",
        "else:\n",
        "  print(f\"EL AREA DEL CIRCULO ES: {area}\")"
      ],
      "metadata": {
        "colab": {
          "base_uri": "https://localhost:8080/",
          "height": 0
        },
        "id": "O76gHglY5TG7",
        "outputId": "e73dc9d0-1ce1-4fb3-87d2-7cd498bfe8bd"
      },
      "execution_count": 10,
      "outputs": [
        {
          "output_type": "stream",
          "name": "stdout",
          "text": [
            "DAME EL RADIO DE TU CIRCULO: DEAD\n",
            "DEBES DE UTILIZAR NUMEROS REALES PARA EL RADIO.\n"
          ]
        }
      ]
    }
  ]
}