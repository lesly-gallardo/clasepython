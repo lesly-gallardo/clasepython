{
  "nbformat": 4,
  "nbformat_minor": 0,
  "metadata": {
    "colab": {
      "provenance": [],
      "authorship_tag": "ABX9TyNfaQqBuuA6cDCX1tVGjhYa",
      "include_colab_link": true
    },
    "kernelspec": {
      "name": "python3",
      "display_name": "Python 3"
    },
    "language_info": {
      "name": "python"
    }
  },
  "cells": [
    {
      "cell_type": "markdown",
      "metadata": {
        "id": "view-in-github",
        "colab_type": "text"
      },
      "source": [
        "<a href=\"https://colab.research.google.com/github/lesly-gallardo/clasepython/blob/main/LGG_PY_ACT9.ipynb\" target=\"_parent\"><img src=\"https://colab.research.google.com/assets/colab-badge.svg\" alt=\"Open In Colab\"/></a>"
      ]
    },
    {
      "cell_type": "markdown",
      "source": [
        "#ACTIVIDAD 9\n",
        "\n",
        "NOMBRE: LESLY GALLARDO GONZALEZ\n",
        "\n",
        "MATRICULA:  370027\n",
        "\n",
        "FECHA:  28 DE ABRIL DEL 2024"
      ],
      "metadata": {
        "id": "9186YRNwdnZY"
      }
    },
    {
      "cell_type": "markdown",
      "source": [
        "Realiza un programa en python que utilice el siguiente menu:\n",
        "\n",
        " MENU\n",
        "\n",
        " 1.- Crear Diccionario\n",
        "\n",
        " 2.- Imprimir Diccionario\n",
        "\n",
        " 0.- Salir"
      ],
      "metadata": {
        "id": "Gc_GrYzgeyMz"
      }
    },
    {
      "cell_type": "code",
      "execution_count": null,
      "metadata": {
        "colab": {
          "base_uri": "https://localhost:8080/"
        },
        "id": "ETiEayzodKHL",
        "outputId": "d803427f-4d19-44f6-98d9-f666606bdc83"
      },
      "outputs": [
        {
          "output_type": "stream",
          "name": "stdout",
          "text": [
            "\n",
            "MENU\n",
            "\n",
            "1.- CREAR DICCIONARIO\n",
            "2.- IMPRIMIR DICCIONARIO\n",
            "0.- SALIR\n",
            "\n",
            "SELECCIONE UNA OPCION: 1\n",
            "INGRESE EL ID DEL ALUMNO: 370027\n",
            "INGRESE EL NOMBRE DEL ALUMNO: Lesly\n",
            "INGRESE EL APELLIDO PATERNO DEL ALUMNO: Gallardo\n",
            "INGRESE EL APELLIDO MATERNO DEL ALUMNO: Gonzalez\n",
            "INGRESE LA EDAD DEL ALUMNO: 21\n",
            "INGRESE EL SEXO DEL ALUMNO: Mujer\n",
            "\n",
            "DICCIONARIO CREADO EXITOSAMENTE.\n",
            "\n",
            "MENU\n",
            "\n",
            "1.- CREAR DICCIONARIO\n",
            "2.- IMPRIMIR DICCIONARIO\n",
            "0.- SALIR\n",
            "\n",
            "SELECCIONE UNA OPCION: 2\n",
            "\n",
            "INFORMACION DEL ALUMNO:\n",
            "ID: 370027\n",
            "NOMBRE: Lesly\n",
            "APELLIDO PATERNO: Gallardo\n",
            "APELLIDO MATERNO: Gonzalez\n",
            "EDAD: 21\n",
            "SEXO: Mujer\n",
            "\n",
            "MENU\n",
            "\n",
            "1.- CREAR DICCIONARIO\n",
            "2.- IMPRIMIR DICCIONARIO\n",
            "0.- SALIR\n",
            "\n",
            "SELECCIONE UNA OPCION: 3\n",
            "OPCION INVALIDA. POR FAVOR, SELECCIONES UNA OPCION VALIDA.\n",
            "\n",
            "MENU\n",
            "\n",
            "1.- CREAR DICCIONARIO\n",
            "2.- IMPRIMIR DICCIONARIO\n",
            "0.- SALIR\n",
            "\n",
            "SELECCIONE UNA OPCION: 0\n",
            "SALIENDO DEL PROGRAMA...\n"
          ]
        }
      ],
      "source": [
        "diccionario_alumno = {}\n",
        "opcion = None\n",
        "while opcion != 0:\n",
        "        print(\"\\nMENU\\n\")\n",
        "        print(\"1.- CREAR DICCIONARIO\")\n",
        "        print(\"2.- IMPRIMIR DICCIONARIO\")\n",
        "        print(\"0.- SALIR\\n\")\n",
        "\n",
        "        opcion = int(input(\"SELECCIONE UNA OPCION: \"))\n",
        "\n",
        "        if opcion == 1:\n",
        "            diccionario_alumno = crear_diccionario()\n",
        "            print(\"\\nDICCIONARIO CREADO EXITOSAMENTE.\")\n",
        "        elif opcion == 2:\n",
        "            if diccionario_alumno:\n",
        "                imprimir_diccionario(diccionario_alumno)\n",
        "            else:\n",
        "                print(\"NO HAY NINGUN DICCIONARIO CREADO.\")\n",
        "        elif opcion == 0:\n",
        "            print(\"SALIENDO DEL PROGRAMA...\")\n",
        "        else:\n",
        "            print(\"OPCION INVALIDA. POR FAVOR, SELECCIONES UNA OPCION VALIDA.\")\n"
      ]
    },
    {
      "cell_type": "markdown",
      "source": [
        "CREAR DICCIIONARIO: funcion que retorne un diccionario con los datos de basicos de un alumno, donde se pide {id,nombre (1 O 2) , appaterno,apmaterno, edad,sexo}, El diccionario se debe generar automaticmanete a partir de listas."
      ],
      "metadata": {
        "id": "aJTw6ACgfvrO"
      }
    },
    {
      "cell_type": "code",
      "source": [
        "def crear_diccionario():\n",
        "    id_alumno = input(\"INGRESE EL ID DEL ALUMNO: \")\n",
        "    nombre = input(\"INGRESE EL NOMBRE DEL ALUMNO: \")\n",
        "    ap_paterno = input(\"INGRESE EL APELLIDO PATERNO DEL ALUMNO: \")\n",
        "    ap_materno = input(\"INGRESE EL APELLIDO MATERNO DEL ALUMNO: \")\n",
        "    edad = input(\"INGRESE LA EDAD DEL ALUMNO: \")\n",
        "    sexo = input(\"INGRESE EL SEXO DEL ALUMNO: \")\n",
        "\n",
        "    diccionario_alumno = {\n",
        "        \"ID\": id_alumno,\n",
        "        \"NOMBRE\": nombre,\n",
        "        \"APELLIDO PATERNO\": ap_paterno,\n",
        "        \"APELLIDO MATERNO\": ap_materno,\n",
        "        \"EDAD\": edad,\n",
        "        \"SEXO\": sexo\n",
        "    }\n",
        "\n",
        "    return diccionario_alumno\n"
      ],
      "metadata": {
        "id": "w4txgm6HfrTP"
      },
      "execution_count": null,
      "outputs": []
    },
    {
      "cell_type": "markdown",
      "source": [
        "IMPRIMIR DICCIONARIO:  Funcion que reciba como parametro el diccionario, y le de una salida mostrando la informacion en forma de registro que se genero con el diccionario\n",
        "\n"
      ],
      "metadata": {
        "id": "c9BOb5rof475"
      }
    },
    {
      "cell_type": "code",
      "source": [
        "def imprimir_diccionario(diccionario):\n",
        "    print(\"\\nINFORMACION DEL ALUMNO:\")\n",
        "    for clave, valor in diccionario.items():\n",
        "        print(f\"{clave}: {valor}\")\n"
      ],
      "metadata": {
        "id": "gV_D1pfkf8eC"
      },
      "execution_count": null,
      "outputs": []
    }
  ]
}