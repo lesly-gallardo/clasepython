{
  "nbformat": 4,
  "nbformat_minor": 0,
  "metadata": {
    "colab": {
      "provenance": [],
      "authorship_tag": "ABX9TyMkmPiLRwaoIrOP512ABZ5s",
      "include_colab_link": true
    },
    "kernelspec": {
      "name": "python3",
      "display_name": "Python 3"
    },
    "language_info": {
      "name": "python"
    }
  },
  "cells": [
    {
      "cell_type": "markdown",
      "metadata": {
        "id": "view-in-github",
        "colab_type": "text"
      },
      "source": [
        "<a href=\"https://colab.research.google.com/github/lesly-gallardo/clasepython/blob/main/GGL_PY_ACT6.ipynb\" target=\"_parent\"><img src=\"https://colab.research.google.com/assets/colab-badge.svg\" alt=\"Open In Colab\"/></a>"
      ]
    },
    {
      "cell_type": "markdown",
      "source": [
        "#ACTIVIDAD 6\n",
        "\n",
        "LESLY GALLARDO GONZALEZ\n",
        "\n",
        "MATRICULA: 370027\n",
        "\n",
        "25 DE SEPTIEMBRE DEL 2023"
      ],
      "metadata": {
        "id": "qn13sTGvDPd2"
      }
    },
    {
      "cell_type": "code",
      "execution_count": null,
      "metadata": {
        "id": "7ZVxeZZFCcke"
      },
      "outputs": [],
      "source": [
        "import random\n",
        "\n",
        "from IPython.display import clear_output"
      ]
    },
    {
      "cell_type": "code",
      "source": [
        "n=int(input(\"PARA INICIAR LA FUNCIO MENU INGRESA EL NUMERO 1: \"))\n",
        "if n==1:\n",
        "  menu()"
      ],
      "metadata": {
        "id": "rHRZXKiTl5j_"
      },
      "execution_count": null,
      "outputs": []
    },
    {
      "cell_type": "code",
      "source": [
        "\n",
        "def menu():\n",
        "  while True:\n",
        "    print(\"\\nMENU\")\n",
        "    print(\"1.SUMA, MEDIA DE N CANTIDAD DE NUMEROS. \")\n",
        "    print(\"2.GENERAR 15 NUM IMPARES ENTRE 10-60 O MAXIMO 25 NUM.\")\n",
        "    print(\"3.LEER UN RANGO, REPETIR ACCION HASTA QUE LO DESEE EL USUARIO.\")\n",
        "    print(\"4.FUNCION QUE RECIBA COMO PARAMETROS LOS VALORES DEL AREA DE UN TRIANGULO.\")\n",
        "    print(\"5.EVALUAR PROMEDIO DE 3 CALIFICACIONES.\")\n",
        "    print(\"6.SALIR\")\n",
        "\n",
        "\n",
        "    op=input(\"\\nESCOJE UNA OPCION:\")\n",
        "\n",
        "    if op==\"1\":\n",
        "      ncantidad()\n",
        "\n",
        "    elif op==\"2\":\n",
        "      numimpar()\n",
        "\n",
        "    elif op==\"3\":\n",
        "      rango()\n",
        "\n",
        "    elif op==\"4\":\n",
        "      areat()\n",
        "\n",
        "    elif op==\"5\":\n",
        "      rep()\n",
        "\n",
        "\n",
        "    elif op==\"6\":\n",
        "      break\n",
        "\n",
        "\n"
      ],
      "metadata": {
        "id": "rw7Vg7zTDO0B"
      },
      "execution_count": null,
      "outputs": []
    },
    {
      "cell_type": "code",
      "source": [
        "def rep():\n",
        "\n",
        "\ti = 1\n",
        "\tcurso = 0\n",
        "\twhile curso<3:\n",
        "\t\tprom = 0\n",
        "\t\tcurso = curso+1\n",
        "\t\tfor i in range(1,4):\n",
        "\t\t\tprint(\"PROGRAMA PARA DETERMINAR SI UN ALUMNO PASA EL SEMESTRE\")\n",
        "\t\t\tprint(\"\")\n",
        "\t\t\tprint(\"OPORTUNIDAD: \",curso)\n",
        "\t\t\tprint(\"\")\n",
        "\t\t\tprint(\"INGRESA LA CALIFICACION \",i,\" : \", end=\"\")\n",
        "\t\t\tcalif = int(input())\n",
        "\t\t\tprom = prom+calif\n",
        "\n",
        "\t\tprom = prom/3\n",
        "\t\tprint(\"PROGRAMA PARA DETERMINAR SI UN ALUMNO PASA EL SEMESTRE\")\n",
        "\t\tprint(\"\")\n",
        "\t\tif prom>=60:\n",
        "\t\t\tprint(f\"El PROMEDIO DEL ALUMNO ES: {prom}\")\n",
        "\t\t\tprint(\"EL ALUMNO APROBO EL SEMESTRE FELICIDADES\")\n",
        "\t\t\tprint(f\"EL ALUMNO REPITIO EL SEMESTRE: {curso} VECES \")\n",
        "\t\t\tprint(\"\")\n",
        "\t\t\tcurso = 4\n",
        "\t\telse:\n",
        "\t\t\tprint(f\"EL PROMEDIO DEL ALUMNO ES:{prom} \")\n",
        "\t\t\tprint(\"El ALUMNO REPROBO, NECESITA REPETIR\")\n",
        "\t\t\tprint(f\"EL ALUMNO REPITE EL SEMESTRE POR {curso} VEZ \")\n",
        "\t\t\tprint(\"\")\n",
        "\t\t\tcurso = (curso+1)-1\n",
        "\t\t\tif curso<3:\n",
        "\t\t\t\tprint(\"Presione <<ENTER>> para capturar las calificaciones nuevamente\")\n",
        "\t\tif curso==3:\n",
        "\t\t\tprint(\"EL ALUMNO YA ALCANZO LOS LIMITES PARA CURSAR EL SEMESTRE\")\n",
        "\t\t\tprint(\"EL ALUMNO SE DARA DE BAJA DE FORMA AUTOMATICA\")\n",
        "\t\t\tprint(\"\")\n",
        "\n"
      ],
      "metadata": {
        "id": "5y4ErL78iktN"
      },
      "execution_count": null,
      "outputs": []
    },
    {
      "cell_type": "code",
      "source": [
        "def areat():\n",
        "  b=int(input(\"DAME LA BASE DEL TRIANGULO:\"))\n",
        "  h=int(input(\"DAME LA ALTURA DEL TRIANGULO:\"))\n",
        "\n",
        "  area=(b*h)/2\n",
        "\n",
        "  print(f\"EL AREA DEL TRIANGULO ES: {area}\")"
      ],
      "metadata": {
        "id": "KPoTtB_RZIh7"
      },
      "execution_count": null,
      "outputs": []
    },
    {
      "cell_type": "code",
      "source": [
        "def rango(ri=0,rf=100,msge=\"DAME UN NUMERO ENTRE\",msgeError1=\"ERROR EN RANGO\",msgError2=\"ERROR DE CAPTURA\"):\n",
        "  while True:\n",
        "    try:\n",
        "      num=int(input(f\"{msge} {ri}, {rf} :\"))\n",
        "    except:\n",
        "      print(msgError2)\n",
        "      continue\n",
        "      if num<ri or num> rf:\n",
        "        print(msgError1)\n",
        "        continue\n",
        "      return num\n",
        "\n"
      ],
      "metadata": {
        "id": "n46PJ2rETqGD"
      },
      "execution_count": null,
      "outputs": []
    },
    {
      "cell_type": "code",
      "source": [
        "def numimpar():\n",
        "  import random\n",
        "  impar=0\n",
        "  for i in range(25):\n",
        "    x=random.randint(10,60)\n",
        "    if x % 2 !=0:\n",
        "      print(x)\n",
        "      impar=impar+1\n",
        "      if impar ==15:\n",
        "        break\n",
        "  else:\n",
        "    print (\"FUERON LOS 25 NUMEROS\")"
      ],
      "metadata": {
        "id": "mm51CDhoRGB_"
      },
      "execution_count": null,
      "outputs": []
    },
    {
      "cell_type": "code",
      "source": [
        "def ncantidad():\n",
        "  suma=0\n",
        "  n=1\n",
        "  while True:\n",
        "    num=int(input(\"\\nDAME UN NUMERO:\"))\n",
        "    suma=suma+num\n",
        "    print(\"1.SI\")\n",
        "    print(\"2.NO\")\n",
        "    resp=int(input(\"\\nDESEA CAPTURAR OTRO NUMERO ?\"))\n",
        "    if resp==1:\n",
        "      n=n+1\n",
        "    elif resp==2:\n",
        "      break\n",
        "\n",
        "  media=(suma)/n\n",
        "  print(f\"LA SUMA DE LOS NUMEROS ES: {suma} \")\n",
        "  print(f\"LA MEDIA ES: {media}\")\n",
        "\n"
      ],
      "metadata": {
        "id": "ESiMsUDmGzt3"
      },
      "execution_count": null,
      "outputs": []
    }
  ]
}