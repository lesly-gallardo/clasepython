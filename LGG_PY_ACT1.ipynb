{
  "nbformat": 4,
  "nbformat_minor": 0,
  "metadata": {
    "colab": {
      "provenance": [],
      "authorship_tag": "ABX9TyPXTH2VQAi8H0krlxD7nvef",
      "include_colab_link": true
    },
    "kernelspec": {
      "name": "python3",
      "display_name": "Python 3"
    },
    "language_info": {
      "name": "python"
    }
  },
  "cells": [
    {
      "cell_type": "markdown",
      "metadata": {
        "id": "view-in-github",
        "colab_type": "text"
      },
      "source": [
        "<a href=\"https://colab.research.google.com/github/lesly-gallardo/clasepython/blob/main/LGG_PY_ACT1.ipynb\" target=\"_parent\"><img src=\"https://colab.research.google.com/assets/colab-badge.svg\" alt=\"Open In Colab\"/></a>"
      ]
    },
    {
      "cell_type": "markdown",
      "source": [
        "#ACTIVIDAD 1\n",
        "\n",
        "LESLY GALLARDO GONZALEZ\n",
        "\n",
        "MAT:  370027\n",
        "\n",
        "FECHA: 07-FEBRERO-2024\n",
        "\n"
      ],
      "metadata": {
        "id": "qswUkLeDGpdj"
      }
    },
    {
      "cell_type": "markdown",
      "source": [
        "1. PROGRAMA EN PYTHON MOSTRAR UN MENSAJE QUE DIGA HOLA MUNDO EN UN SOLO RENGLON USANDO 2 PRINT."
      ],
      "metadata": {
        "id": "eFi_RkvmHS1r"
      }
    },
    {
      "cell_type": "code",
      "execution_count": 2,
      "metadata": {
        "colab": {
          "base_uri": "https://localhost:8080/"
        },
        "id": "ZsZ6MIL1GdzL",
        "outputId": "3e766bd7-a00e-48be-f297-22d895207682"
      },
      "outputs": [
        {
          "output_type": "stream",
          "name": "stdout",
          "text": [
            "HOLA MUNDO\n"
          ]
        }
      ],
      "source": [
        "print(\"HOLA\",end=\"\")\n",
        "print(\" MUNDO\")"
      ]
    },
    {
      "cell_type": "markdown",
      "source": [
        "2.PROGRAMA EN PYTHON QUE LEA DOS NUMEROS, REALIZAR SUMA Y DESPLEGAR LAS SUMA DE LOS 2 NUMEROS"
      ],
      "metadata": {
        "id": "KqmlPARZHyL4"
      }
    },
    {
      "cell_type": "code",
      "source": [
        "  n1=int(input(\"\\nDAME EL PRIMER NUMERO: \"))\n",
        "  n2=int(input(\"\\nDAME EL SEGUNDO NUMERO: \"))\n",
        "  suma=n1+n2\n",
        "  print(f\"\\nLA SUMA DE {n1} + {n2} ES {suma}\")"
      ],
      "metadata": {
        "colab": {
          "base_uri": "https://localhost:8080/"
        },
        "id": "4Xzk7EvmIDCk",
        "outputId": "9a0e94c0-88a0-45dd-9d65-82f0b552931b"
      },
      "execution_count": 4,
      "outputs": [
        {
          "output_type": "stream",
          "name": "stdout",
          "text": [
            "\n",
            "DAME EL PRIMER NUMERO: 3\n",
            "\n",
            "DAME EL SEGUNDO NUMERO: 3\n",
            "\n",
            "LA SUMA DE 3 + 3 ES 6\n"
          ]
        }
      ]
    },
    {
      "cell_type": "markdown",
      "source": [
        "3.PROGRAMA EN PYTHON QUE LEA 2 NUMEROS Y REALICE LAS CUATO OPERACIONES BASICAS."
      ],
      "metadata": {
        "id": "LiRGoL-jJFPu"
      }
    },
    {
      "cell_type": "code",
      "source": [
        "n1=int(input(\"\\nDAME NUMERO 1: \"))\n",
        "n2=int(input(\"\\nDAME NUMERO 2: \"))\n",
        "suma=n1+n2\n",
        "resta=n1-n2\n",
        "mult=n1*n2\n",
        "divi=n1/n2\n",
        "print (f\"\\nLa suma de: {n1} + {n2} es {suma}\")\n",
        "print (f\"\\nLa resta de: {n1} - {n2} es {resta}\")\n",
        "print (f\"\\nLa multiplicacion de: {n1} * {n2} es {mult}\")\n",
        "print (f\"\\nLa division de: {n1} / {n2} es {divi}\")"
      ],
      "metadata": {
        "colab": {
          "base_uri": "https://localhost:8080/"
        },
        "id": "JF7OWhvJJUQ-",
        "outputId": "8cad3872-ec22-480e-fca4-72c0ba2d0b37"
      },
      "execution_count": 6,
      "outputs": [
        {
          "output_type": "stream",
          "name": "stdout",
          "text": [
            "\n",
            "DAME NUMERO 1: 4\n",
            "\n",
            "DAME NUMERO 2: 4\n",
            "\n",
            "La suma de: 4 + 4 es 8\n",
            "\n",
            "La resta de: 4 - 4 es 0\n",
            "\n",
            "La multiplicacion de: 4 * 4 es 16\n",
            "\n",
            "La division de: 4 / 4 es 1.0\n"
          ]
        }
      ]
    },
    {
      "cell_type": "markdown",
      "source": [
        "4.PROGRAMA EN PYTHON QUE SIRVA PARA CALCULAR EL AREA DE UN TRIANGULO."
      ],
      "metadata": {
        "id": "q1nwYhnIJvy9"
      }
    },
    {
      "cell_type": "code",
      "source": [
        "b=int(input(\"DAME LA BASE DEL TRIANGULO: \"))\n",
        "h=int(input(\"DAME LA ALTURA DEL TRIANGULO: \"))\n",
        "area=(b*h)/2\n",
        "print(f\"\\n El AREA DEL TRIANGULO ES: {area}\")"
      ],
      "metadata": {
        "colab": {
          "base_uri": "https://localhost:8080/"
        },
        "id": "M_NgsOgZJ6Y1",
        "outputId": "60fff9b2-d09e-4b80-de22-dea25fbe0924"
      },
      "execution_count": 7,
      "outputs": [
        {
          "output_type": "stream",
          "name": "stdout",
          "text": [
            "DAME LA BASE DEL TRIANGULO: 6\n",
            "DAME LA ALTURA DEL TRIANGULO: 10\n",
            "\n",
            " El AREA DEL TRIANGULO ES: 30.0\n"
          ]
        }
      ]
    },
    {
      "cell_type": "markdown",
      "source": [
        "5.PROGRAMA EN PYTHON QUE LEA UNA MEDIDA EN CENTIMETROS Y DESPLEGAR LA MISMA MEDIDA PERO CONVERTIDA EN PIES Y PULGADAS."
      ],
      "metadata": {
        "id": "fZ6po8QvKN56"
      }
    },
    {
      "cell_type": "code",
      "source": [
        "cm=int(input(\"DAME UNA CANTIDAD EN CENTIMETROS: \"))\n",
        "pies=cm/30.48\n",
        "pul=cm/2.54\n",
        "print (f\"\\nLA MEDIDA EN PIES ES: {pies:.4f}\")\n",
        "print (f\"\\nLA MEDIDA EN PULGADAS ES:{pul:.4f} \")"
      ],
      "metadata": {
        "colab": {
          "base_uri": "https://localhost:8080/"
        },
        "id": "BG-n2b-kKbKs",
        "outputId": "3c5802d9-232b-4641-ec10-3169365aa8df"
      },
      "execution_count": 8,
      "outputs": [
        {
          "output_type": "stream",
          "name": "stdout",
          "text": [
            "DAME UNA CANTIDAD EN CENTIMETROS: 15\n",
            "\n",
            "LA MEDIDA EN PIES ES: 0.4921\n",
            "\n",
            "LA MEDIDA EN PULGADAS ES:5.9055 \n"
          ]
        }
      ]
    },
    {
      "cell_type": "markdown",
      "source": [
        "6. PROGRAMA EN PYTHON QUE LEA UNA TEMPERATURA EN GRADOS CENTIGRADOS Y DESPLEGARLOS EN GRADOS FARENHEIT Y KELVIN."
      ],
      "metadata": {
        "id": "A8PitzbLKpJn"
      }
    },
    {
      "cell_type": "code",
      "source": [
        "cent=int(input(\"DAME LOS GRADOS EN GRADOS CENTIGRADOS: \"))\n",
        "faren=(cent*9/5) + 32\n",
        "kel=cent + 273.15\n",
        "print (f\"\\nLA MEDIDA EN GRADOS FARENHERIT ES: {faren:.2f}\")\n",
        "print (f\"\\nLA MEDIDA EN GRADOS KELVIN ES:{kel:.2f} \")"
      ],
      "metadata": {
        "colab": {
          "base_uri": "https://localhost:8080/"
        },
        "id": "IWiVLwNpK3WD",
        "outputId": "939f1cfa-eff0-49e2-edae-3ad94e57cdf8"
      },
      "execution_count": 10,
      "outputs": [
        {
          "output_type": "stream",
          "name": "stdout",
          "text": [
            "DAME LOS GRADOS EN GRADOS CENTIGRADOS: 24\n",
            "\n",
            "LA MEDIDA EN GRADOS FARENHERIT ES: 75.20\n",
            "\n",
            "LA MEDIDA EN GRADOS KELVIN ES:297.15 \n"
          ]
        }
      ]
    },
    {
      "cell_type": "markdown",
      "source": [
        "7. PROGRAMA EN PYTHON QUE LEA 4 CALIFICACIONES DE UN ALUMNO, DESPLEGAR EL PROMEDIO DEL ALUMNO."
      ],
      "metadata": {
        "id": "ocOytXhjLGux"
      }
    },
    {
      "cell_type": "code",
      "source": [
        "cal1=float(input(\"DAME LA CALIFICACION 1: \"))\n",
        "cal2=float(input(\"DAME LA CALIFICACION 2: \"))\n",
        "cal3=float(input(\"DAME LA CALIFICACION 3: \"))\n",
        "cal4=float(input(\"DAME LA CALIFICACION 4: \"))\n",
        "prom=(cal1+cal2+cal3+cal4)/4\n",
        "print (f\"EL PROMEDIO DEL ALUMNO ES: {prom:.2f}\")"
      ],
      "metadata": {
        "colab": {
          "base_uri": "https://localhost:8080/"
        },
        "id": "Py7Bens3LQ8_",
        "outputId": "2803de54-8f3a-4869-f248-4052f6ec78dc"
      },
      "execution_count": 11,
      "outputs": [
        {
          "output_type": "stream",
          "name": "stdout",
          "text": [
            "DAME LA CALIFICACION 1: 80\n",
            "DAME LA CALIFICACION 2: 70\n",
            "DAME LA CALIFICACION 3: 85\n",
            "DAME LA CALIFICACION 4: 90\n",
            "EL PROMEDIO DEL ALUMNO ES: 81.25\n"
          ]
        }
      ]
    }
  ]
}