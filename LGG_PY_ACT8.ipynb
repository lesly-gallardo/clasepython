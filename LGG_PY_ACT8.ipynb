{
  "nbformat": 4,
  "nbformat_minor": 0,
  "metadata": {
    "colab": {
      "provenance": [],
      "authorship_tag": "ABX9TyPvgiJRA1inAPBsvS2EF9Yo",
      "include_colab_link": true
    },
    "kernelspec": {
      "name": "python3",
      "display_name": "Python 3"
    },
    "language_info": {
      "name": "python"
    }
  },
  "cells": [
    {
      "cell_type": "markdown",
      "metadata": {
        "id": "view-in-github",
        "colab_type": "text"
      },
      "source": [
        "<a href=\"https://colab.research.google.com/github/lesly-gallardo/clasepython/blob/main/LGG_PY_ACT8.ipynb\" target=\"_parent\"><img src=\"https://colab.research.google.com/assets/colab-badge.svg\" alt=\"Open In Colab\"/></a>"
      ]
    },
    {
      "cell_type": "markdown",
      "source": [
        "#ACTIVIDAD 8\n",
        "\n",
        "NOMBRE:  LESLY GALLARDO GONZALEZ\n",
        "\n",
        "MATRICULA:  370027\n",
        "\n",
        "FECHA:  8-ABRIL-2024"
      ],
      "metadata": {
        "id": "g5P5EG-qpxcm"
      }
    },
    {
      "cell_type": "markdown",
      "source": [
        "1.- Programa en python que genere un número entre el 1 y 10 (no visible)  preguntarle al usuario que número cree que generó la computadora, el usuario tendrá 3 oportunidades de adivinar.\n",
        "\n",
        "Decir si adivino o si falló en sus 3 intentos.\n",
        "\n",
        "\n",
        "\n",
        "NOTA: 100% VALIDADO (usar función para validar números)\n",
        "\n",
        "\n",
        "\n",
        "NOTA2: El usuario podrá jugar cuantas veces lo desee, al final del juego desplegar cantidad de ganados y perdidos"
      ],
      "metadata": {
        "id": "jBoDtzR8qZ59"
      }
    },
    {
      "cell_type": "code",
      "execution_count": 2,
      "metadata": {
        "id": "9tHnR1ykpoB8"
      },
      "outputs": [],
      "source": [
        "import random"
      ]
    },
    {
      "cell_type": "code",
      "source": [
        "def validnum(ri, rf, msge):\n",
        "    while True:\n",
        "        num=int(input(f\"{msge}\"))\n",
        "        if num>=ri and num<=rf:\n",
        "           break\n",
        "        else:\n",
        "            continue\n",
        "    return num"
      ],
      "metadata": {
        "id": "LV2KYX7Jq4WG"
      },
      "execution_count": 3,
      "outputs": []
    },
    {
      "cell_type": "code",
      "source": [
        "from random import randint\n",
        "\n",
        "wins = 0\n",
        "lose = 0\n",
        "\n",
        "while True:\n",
        "    opor=0\n",
        "    numrand = randint(1,10)\n",
        "    #print(f\"{numrand}\")\n",
        "    while opor<3:\n",
        "        num = validnum(1, 10, f\"\\nAdivina el numero secreto entre 1 y 10: \")\n",
        "        if num == numrand:\n",
        "            print(\"FELICIDADES GANASTE\")\n",
        "            wins += 1\n",
        "            break\n",
        "        opor+=1\n",
        "    else:\n",
        "        print(\"LO SIENTO PERDISTE\")\n",
        "        lose += 1\n",
        "    opc=int(input(\"\\n¿Jugar de nuevo? \\n 1.-SI  2.-NO :\"))\n",
        "    if opc==1:\n",
        "        continue\n",
        "    elif opc==2:\n",
        "        break\n",
        "print(f\"\\nTERMINO EL JUEGO \\nGANADOS: {wins} \\nPERDIDOS: {lose}\")"
      ],
      "metadata": {
        "id": "JqUBwE1yrDd-"
      },
      "execution_count": null,
      "outputs": []
    },
    {
      "cell_type": "markdown",
      "source": [
        "2.- El juego Busca Número muestra una lista de 10 numeros, sin mostrar su contenido,\n",
        "\n",
        "Al usuario se le muestra un número que se generó aleatoriamente y el usuario tendrá 3 intentos de adivinar en qué índice del arreglo se encuentra.\n",
        "\n",
        "El usuario recibirá un mensaje que diga GANASTE, PERDISTE, TIENES UN NUEVO INTENTO\n",
        "\n",
        "El usuario podrá jugar cuantas veces lo desee.\n",
        "\n",
        "\n",
        "\n",
        "NOTA: La lista se deberá llenar con números aleatorios del 1 al 10 no repetidos.\n",
        "\n",
        "(Hacer una función que regrese la lista con los 10 números sin repetir)\n",
        "\n",
        "VERSIÓN A) Usar ciclos para validar los repetidos, y sólo random para generar los números dentro del rango\n",
        "\n",
        "\n",
        "\n",
        "VERSIÓN B) Usa funciones de la librería Random para llenar la lista con los número sin repetir\n",
        "\n",
        "\n",
        "\n",
        "VERSIÓN C) Usa funciones de la librería Random para llenar la lista con los número sin repetir"
      ],
      "metadata": {
        "id": "RcZDmZL4sR9Q"
      }
    },
    {
      "cell_type": "code",
      "source": [
        "print(\"VERSIONES DEL JUEGO\\n\\n1.- Version A \\n2.- Version B \\n3.- Version C\\n\")\n",
        "opc = int(input(\"Elige la version del juego que quieres: \"))\n",
        "if opc == 1:\n",
        "    VersionA()\n",
        "elif opc == 2:\n",
        "    VersionB()\n",
        "elif opc == 3:\n",
        "    VersionC()"
      ],
      "metadata": {
        "id": "Nxh9MR8vsZk3"
      },
      "execution_count": null,
      "outputs": []
    },
    {
      "cell_type": "code",
      "source": [
        "def VersionA():\n",
        "    seguir = 1\n",
        "    while seguir!=0:\n",
        "        lista = []\n",
        "        numsec = random.randint(1,10)\n",
        "        i = 0\n",
        "        while i < 10:\n",
        "            num = random.randint(1,10)\n",
        "            if num not in lista:\n",
        "                lista.append(num)\n",
        "                i+=1\n",
        "            else:\n",
        "                continue\n",
        "        i = 0\n",
        "        while i<3:\n",
        "            num = int (input(f\"Dime en que posicion crees que se encuentra el numero: {numsec} Tienes 3 intentos \\n\"))\n",
        "            if numsec in lista:\n",
        "                indice = lista.index(numsec)\n",
        "                if num == indice:\n",
        "                    print(\"FELICIDADES ADIVINASTE LA POSICION\")\n",
        "                    break\n",
        "                elif i<2:\n",
        "                    print(\"Cometiste un error vuelve a intentarlo\")\n",
        "                    i+=1\n",
        "                elif i==2:\n",
        "                    print(\"Cometiste 3 errores has perdido\")\n",
        "                    i+=1\n",
        "        print (f\"{num} se encuentra en el indice: {indice}\")\n",
        "        seguir = int(input(\"Jugar de nuevo? 1.- SI 0.- NO \\n\"))\n",
        "\n"
      ],
      "metadata": {
        "id": "1zNunUhzseiA"
      },
      "execution_count": 12,
      "outputs": []
    },
    {
      "cell_type": "code",
      "source": [
        "def VersionB():\n",
        "    seguir = 1\n",
        "    while seguir!=0:\n",
        "        lista = range(1,11)\n",
        "        lista = random.sample(lista, 10)\n",
        "        numsec = random.randint(1,10)\n",
        "        i=0\n",
        "        while i<3:\n",
        "            num = int (input(f\"Dime en que posicion crees que se encuentra el numero: {numsec} Tienes 3 intentos \\n\"))\n",
        "            if numsec in lista:\n",
        "                indice = lista.index(numsec)\n",
        "                if num == indice:\n",
        "                    print(\"FELICIDADES ADIVINASTE LA POSICION\")\n",
        "                    break\n",
        "                elif i<2:\n",
        "                    print(\"Cometiste un error vuelve a intentarlo\")\n",
        "                    i+=1\n",
        "                elif i==2:\n",
        "                    print(\"Cometiste 3 errores has perdido\")\n",
        "                    i+=1\n",
        "        print (f\"{num} se encuentra en el indice: {indice}\")\n",
        "        seguir = int(input(\"Jugar de nuevo? 1.- SI 0.- NO \\n\"))"
      ],
      "metadata": {
        "id": "cLOaafHCsnXA"
      },
      "execution_count": 13,
      "outputs": []
    },
    {
      "cell_type": "code",
      "source": [
        "def VersionC():\n",
        "    seguir = 1\n",
        "    while seguir!=0:\n",
        "        lista = [1,2,3,4,5,6,7,8,9,10]\n",
        "        random.shuffle(lista)\n",
        "        numsec = random.randint(1,10)\n",
        "        i=0\n",
        "        while i<3:\n",
        "            num = int (input(f\"Dime en que posicion crees que se encuentra el numero: {numsec} Tienes 3 intentos \\n\"))\n",
        "            if numsec in lista:\n",
        "                indice = lista.index(numsec)\n",
        "                if num == indice:\n",
        "                    print(\"FELICIDADES ADIVINASTE LA POSICION\")\n",
        "                    break\n",
        "                elif i<2:\n",
        "                    print(\"Cometiste un error vuelve a intentarlo\")\n",
        "                    i+=1\n",
        "                elif i==2:\n",
        "                    print(\"Cometiste 3 errores has perdido\")\n",
        "                    i+=1\n",
        "        print (f\"{num} se encuentra en el indice: {indice}\")\n",
        "        seguir = int(input(\"Jugar de nuevo? 1.- SI 0.- NO \\n\"))"
      ],
      "metadata": {
        "id": "OzJMxoJBsr6h"
      },
      "execution_count": 14,
      "outputs": []
    }
  ]
}