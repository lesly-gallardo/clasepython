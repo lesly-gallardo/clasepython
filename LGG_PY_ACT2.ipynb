{
  "nbformat": 4,
  "nbformat_minor": 0,
  "metadata": {
    "colab": {
      "provenance": [],
      "authorship_tag": "ABX9TyOuB2vbso1BP7g/2APtk2gT",
      "include_colab_link": true
    },
    "kernelspec": {
      "name": "python3",
      "display_name": "Python 3"
    },
    "language_info": {
      "name": "python"
    }
  },
  "cells": [
    {
      "cell_type": "markdown",
      "metadata": {
        "id": "view-in-github",
        "colab_type": "text"
      },
      "source": [
        "<a href=\"https://colab.research.google.com/github/lesly-gallardo/clasepython/blob/main/LGG_PY_ACT2.ipynb\" target=\"_parent\"><img src=\"https://colab.research.google.com/assets/colab-badge.svg\" alt=\"Open In Colab\"/></a>"
      ]
    },
    {
      "cell_type": "markdown",
      "source": [
        "#ACTIVIDAD 2\n",
        "\n",
        "NOMBRE: LESLY GALLARDO GONZALEZ\n",
        "\n",
        "MATRICULA: 370027\n",
        "\n",
        "FECHA: 11-FEBRERO-2024"
      ],
      "metadata": {
        "id": "2x2YKgOi0JoF"
      }
    },
    {
      "cell_type": "markdown",
      "source": [
        "1. PROGRAMA EN PYTHON QUE LEA DOS NUMEROS ENTEROS, UTLIZAR CONDICION Y ANALIZAR LOS DOS NUMEROS Y DESPLEGAR CUAL DE LOS DOS ES EL NUMERO MAYOR."
      ],
      "metadata": {
        "id": "7Ds_SA1Z0c7a"
      }
    },
    {
      "cell_type": "code",
      "execution_count": 20,
      "metadata": {
        "colab": {
          "base_uri": "https://localhost:8080/",
          "height": 0
        },
        "id": "5ZquHlXK0EKy",
        "outputId": "a4b0b088-e8f3-487a-ea35-0b79b68ee249"
      },
      "outputs": [
        {
          "output_type": "stream",
          "name": "stdout",
          "text": [
            "\n",
            "DAME EL 1ER NUMERO: \n",
            "20\n",
            "\n",
            "DAME EL 2DO NUMERO: \n",
            "35\n",
            "\n",
            "EL NUMERO MENOR ES: 35\n",
            "\n"
          ]
        }
      ],
      "source": [
        "n1=int(input(\"\\nDAME EL 1ER NUMERO: \\n\"))\n",
        "n2=int(input(\"\\nDAME EL 2DO NUMERO: \\n\"))\n",
        "if n1>n2:\n",
        "  print(f\"\\nEL NUMERO MAYOR ES: {n1}\\n\")\n",
        "if n2>n1:\n",
        "  print(f\"\\nEL NUMERO MENOR ES: {n2}\\n\")"
      ]
    },
    {
      "cell_type": "markdown",
      "source": [
        "2.PROGRAMA EN PYTHON QUE LEA 4 CALIFICACIONES DE UN ALUMNO, CALCULAR EL PROMEDIO CON LEYENDA DE APROBADO O REPROBADO."
      ],
      "metadata": {
        "id": "khvO40IQ1qgI"
      }
    },
    {
      "cell_type": "code",
      "source": [
        "cal1=int(input(\"\\nDAME LA 1ERA CALIFICACION:\\n\"))\n",
        "cal2=int(input(\"\\nDAME LA 2DA CALIFICACION:\\n\"))\n",
        "cal3=int(input(\"\\nDAME LA 3ERA CALIFICACION:\\n\"))\n",
        "cal4=int(input(\"\\nDAME LA 4TA CALIFICACION:\\n\"))\n",
        "prom=(cal1+cal2+cal3+cal4)/4\n",
        "print(f\"\\nTU PROMEDIO ES: {prom}\")\n",
        "if prom<60:\n",
        "  print(f\"\\nESTAS R E P R O B A D O\")\n",
        "if prom>=60:\n",
        "  print(f\"\\nESTAS A P R O B A D O\")"
      ],
      "metadata": {
        "colab": {
          "base_uri": "https://localhost:8080/",
          "height": 0
        },
        "id": "s58sbEqg2JG3",
        "outputId": "2403f9d2-41bb-4776-a980-c3edaa37a5ca"
      },
      "execution_count": 21,
      "outputs": [
        {
          "output_type": "stream",
          "name": "stdout",
          "text": [
            "\n",
            "DAME LA 1ERA CALIFICACION:\n",
            "80\n",
            "\n",
            "DAME LA 2DA CALIFICACION:\n",
            "75\n",
            "\n",
            "DAME LA 3ERA CALIFICACION:\n",
            "65\n",
            "\n",
            "DAME LA 4TA CALIFICACION:\n",
            "90\n",
            "\n",
            "TU PROMEDIO ES: 77.5\n",
            "\n",
            "ESTAS A P R O B A D O\n"
          ]
        }
      ]
    },
    {
      "cell_type": "markdown",
      "source": [
        "3.- Programa en PythonAlgoritmo que a través de opciones (1.- HOMBRE 2.- MUJER ) preguntar al usuario cual es su sexo y desplegar la leyenda “HOMBRE ”, “MUJER”"
      ],
      "metadata": {
        "id": "RRsg_afF3XEc"
      }
    },
    {
      "cell_type": "code",
      "source": [
        "print(\"\\nSELECCIONA: \\n\\n1.HOMBRE \\n\\n2.MUJER\")\n",
        "h=int(input(\"\\nQUE SEXO ERES?\\n \"))\n",
        "\n",
        "if h==1:\n",
        "  print (f\"\\nERES HOMBRE\")\n",
        "\n",
        "if h==2:\n",
        "  print(f\"\\nERES MUJER\")"
      ],
      "metadata": {
        "colab": {
          "base_uri": "https://localhost:8080/",
          "height": 0
        },
        "id": "jS99phxm3dl1",
        "outputId": "8e55a01e-1ee0-40b3-a70a-ecd5bbbdc9d9"
      },
      "execution_count": 22,
      "outputs": [
        {
          "output_type": "stream",
          "name": "stdout",
          "text": [
            "\n",
            "SELECCIONA: \n",
            "\n",
            "1.HOMBRE \n",
            "\n",
            "2.MUJER\n",
            "\n",
            "QUE SEXO ERES?\n",
            " 2\n",
            "\n",
            "ERES MUJER\n"
          ]
        }
      ]
    },
    {
      "cell_type": "markdown",
      "source": [
        "4.- Programa en Python que lea un número entero, y desplegar si el número es “PAR” o “IMPAR”\n",
        "\n"
      ],
      "metadata": {
        "id": "oV-NsOYP31X9"
      }
    },
    {
      "cell_type": "code",
      "source": [
        "n1=int(input(\"\\nDAME NUMERO\\n\"))\n",
        "if n1%2==0:\n",
        "  print(f\"\\nEL NUMERO ES PAR\")\n",
        "\n",
        "else:\n",
        "    print(f\"\\nEL NUMERO ES IMPAR\")"
      ],
      "metadata": {
        "colab": {
          "base_uri": "https://localhost:8080/",
          "height": 0
        },
        "id": "w46yktBo34ii",
        "outputId": "1045cdbb-5367-4f05-c7e6-93d3488c4fe3"
      },
      "execution_count": 23,
      "outputs": [
        {
          "output_type": "stream",
          "name": "stdout",
          "text": [
            "\n",
            "DAME NUMERO\n",
            "15\n",
            "\n",
            "EL NUMERO ES IMPAR\n"
          ]
        }
      ]
    },
    {
      "cell_type": "markdown",
      "source": [
        "5.- Programa en Python que lea 2 números enteros, usar una condición y analizar los dos números y desplegar cual de los números es el mayor."
      ],
      "metadata": {
        "id": "WoqxAFvp4D1W"
      }
    },
    {
      "cell_type": "code",
      "source": [
        "n1=int(input(\"\\nDAME EL PRIMER NUMERO:\\n \"))\n",
        "n2=int (input(\"\\nDAME EL SEGUNDO NUMERO:\\n \"))\n",
        "if n1>n2:\n",
        "  print(f\"\\nEL NUMERO MAYOR ES: {n1}\")\n",
        "else:\n",
        "  print (f\"\\nEL NUMERO MAYOR ES:{n2}\")"
      ],
      "metadata": {
        "colab": {
          "base_uri": "https://localhost:8080/",
          "height": 0
        },
        "id": "dNlxliGX4H3v",
        "outputId": "e4ea8cfe-c047-437b-b37f-99e6982b4866"
      },
      "execution_count": 24,
      "outputs": [
        {
          "output_type": "stream",
          "name": "stdout",
          "text": [
            "\n",
            "DAME EL PRIMER NUMERO:\n",
            " 20\n",
            "\n",
            "DAME EL SEGUNDO NUMERO:\n",
            " 10\n",
            "\n",
            "EL NUMERO MAYOR ES: 20\n"
          ]
        }
      ]
    },
    {
      "cell_type": "markdown",
      "source": [
        "6.- Programa en Python que lea 4 calificaciones de un alumno, calcular y desplegar el promedio acompañado de la leyenda APROBADO o REPROBADO\n",
        "\n"
      ],
      "metadata": {
        "id": "Q9LZq1hL4Ruf"
      }
    },
    {
      "cell_type": "code",
      "source": [
        "cal1=int(input(\"\\nDAME LA 1RA CALIFICACION:\\n \"))\n",
        "cal2=int(input(\"\\nDAME LA 2DA CALIFICACION:\\n \"))\n",
        "cal3=int(input(\"\\nDAME LA 3RA CALIFICACION:\\n \"))\n",
        "cal4=int(input(\"\\nDAME LA 4TA CALIFICACION:\\n \"))\n",
        "prom=(cal1+cal2+cal3+cal4)/4\n",
        "print (f\"\\nTU PROMEDIO ES: {prom} \")\n",
        "if prom>=60:\n",
        "  print (f\"\\nESTAS A P R O B A D O\")\n",
        "\n",
        "else:\n",
        "\n",
        "  print (f\"\\nESTAS R E P R O B A D O\")"
      ],
      "metadata": {
        "colab": {
          "base_uri": "https://localhost:8080/",
          "height": 0
        },
        "id": "tg2oE7f-4VRZ",
        "outputId": "4f05c328-b675-49af-9ec3-32d564ade075"
      },
      "execution_count": 25,
      "outputs": [
        {
          "output_type": "stream",
          "name": "stdout",
          "text": [
            "\n",
            "DAME LA 1RA CALIFICACION:\n",
            " 59\n",
            "\n",
            "DAME LA 2DA CALIFICACION:\n",
            " 45\n",
            "\n",
            "DAME LA 3RA CALIFICACION:\n",
            " 60\n",
            "\n",
            "DAME LA 4TA CALIFICACION:\n",
            " 30\n",
            "\n",
            "TU PROMEDIO ES: 48.5 \n",
            "\n",
            "ESTAS R E P R O B A D O\n"
          ]
        }
      ]
    },
    {
      "cell_type": "markdown",
      "source": [
        "7.- Programa en Python que a través de opciones (1.- HOMBRE 2.- MUJER ) preguntar al usuario cual es su sexo y desplegar la leyenda “HOMBRE ”, “MUJER”"
      ],
      "metadata": {
        "id": "RhfxxHvW5IYT"
      }
    },
    {
      "cell_type": "code",
      "source": [
        "print(\"\\nSELECCIONA: \\n\\n1.HOMBRE \\n\\n2.MUJER\")\n",
        "h=int(input(\"\\nQUE SEXO ERES? \"))\n",
        "\n",
        "if h==1:\n",
        "  print (f\"\\nERES HOMBRE\")\n",
        "\n",
        "else:\n",
        "  print(f\"\\nERES MUJER\")"
      ],
      "metadata": {
        "colab": {
          "base_uri": "https://localhost:8080/",
          "height": 0
        },
        "id": "cqExRI6c5K1W",
        "outputId": "aef7ba72-b19c-4a2d-e8cc-74b896740cc3"
      },
      "execution_count": 26,
      "outputs": [
        {
          "output_type": "stream",
          "name": "stdout",
          "text": [
            "\n",
            "SELECCIONA: \n",
            "\n",
            "1.HOMBRE \n",
            "\n",
            "2.MUJER\n",
            "\n",
            "QUE SEXO ERES? 1\n",
            "\n",
            "ERES HOMBRE\n"
          ]
        }
      ]
    },
    {
      "cell_type": "markdown",
      "source": [
        "8.- Programa en Python que lea un número entero, y desplegar si el número es “PAR” o “IMPAR” NOTA: EJERCICIOS PARA SER RESUELTOS USANDO EXCLUSIVAMENTE CONDICIONES COMPUESTO\n",
        "\n"
      ],
      "metadata": {
        "id": "dJZQd-Z05POs"
      }
    },
    {
      "cell_type": "code",
      "source": [
        "n1=int(input(\"\\nDAME NUMERO:\"))\n",
        "if n1%2==0:\n",
        "  print(f\"\\nEL NUMERO ES PAR\")\n",
        "\n",
        "else:\n",
        "    print(f\"\\nEL NUMERO ES IMPAR\")"
      ],
      "metadata": {
        "colab": {
          "base_uri": "https://localhost:8080/",
          "height": 0
        },
        "id": "nYEIuo8l5WY1",
        "outputId": "eacd7d91-0df8-4e93-ba8a-e53fa900d229"
      },
      "execution_count": 27,
      "outputs": [
        {
          "output_type": "stream",
          "name": "stdout",
          "text": [
            "\n",
            "DAME NUMERO:60\n",
            "\n",
            "EL NUMERO ES PAR\n"
          ]
        }
      ]
    }
  ]
}